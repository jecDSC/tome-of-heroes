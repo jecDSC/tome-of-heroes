{
 "cells": [
  {
   "cell_type": "markdown",
   "id": "1913b422",
   "metadata": {},
   "source": [
    "# Run imports"
   ]
  },
  {
   "cell_type": "code",
   "execution_count": 10,
   "id": "9039672c",
   "metadata": {},
   "outputs": [],
   "source": [
    "import pandas as pd\n",
    "import bs4\n",
    "import requests\n",
    "import plotly.express as px\n",
    "import kaleido\n",
    "import regex\n",
    "import statsmodels"
   ]
  },
  {
   "cell_type": "markdown",
   "id": "eef5da0e",
   "metadata": {},
   "source": [
    "##### Day 1"
   ]
  },
  {
   "cell_type": "code",
   "execution_count": 2,
   "id": "6cd3c562",
   "metadata": {},
   "outputs": [],
   "source": [
    "heroes = requests.get('https://feheroes.fandom.com/wiki/Level_40_stats_table')"
   ]
  },
  {
   "cell_type": "code",
   "execution_count": 3,
   "id": "fe1dc2e6",
   "metadata": {},
   "outputs": [],
   "source": [
    "heroes = bs4.BeautifulSoup(heroes.text)"
   ]
  },
  {
   "cell_type": "code",
   "execution_count": null,
   "id": "d8c3d707",
   "metadata": {},
   "outputs": [],
   "source": []
  },
  {
   "cell_type": "code",
   "execution_count": 4,
   "id": "a37efea7",
   "metadata": {},
   "outputs": [],
   "source": [
    "# rows = heroes.find_all('tr', attrs={'class':'hero-filter-element'})\n",
    "# len(rows)\n",
    "# rows[0]"
   ]
  },
  {
   "cell_type": "code",
   "execution_count": 5,
   "id": "a03b85be",
   "metadata": {},
   "outputs": [],
   "source": [
    "# test[0].find('a').title()"
   ]
  },
  {
   "cell_type": "code",
   "execution_count": 6,
   "id": "1dc8ea92",
   "metadata": {},
   "outputs": [],
   "source": [
    "# heroes_table = pd.DataFrame(columns=['Hero', 'Entry', 'Move', 'Weapon', 'HP', 'Atk', 'Spd', 'Def', 'Res', 'Total'])\n",
    "# for i in range(len(rows)):\n",
    "#     row = rows[i].find_all('td')\n",
    "#     heroes_table.loc[len(heroes_table)] = [\n",
    "#         row[0].find('a').get('title'),\n",
    "#         row[2].find('img').get('alt'),\n",
    "#         row[3].find('img').get('alt'),\n",
    "#         row[4].find('img').get('alt'),\n",
    "#         int(row[5].text),\n",
    "#         int(row[6].text),\n",
    "#         int(row[7].text),\n",
    "#         int(row[8].text),\n",
    "#         int(row[9].text),\n",
    "#         int(row[10].text)\n",
    "#     ]\n"
   ]
  },
  {
   "cell_type": "code",
   "execution_count": 4,
   "id": "77353b9e",
   "metadata": {},
   "outputs": [
    {
     "data": {
      "text/html": [
       "<div>\n",
       "<style scoped>\n",
       "    .dataframe tbody tr th:only-of-type {\n",
       "        vertical-align: middle;\n",
       "    }\n",
       "\n",
       "    .dataframe tbody tr th {\n",
       "        vertical-align: top;\n",
       "    }\n",
       "\n",
       "    .dataframe thead th {\n",
       "        text-align: right;\n",
       "    }\n",
       "</style>\n",
       "<table border=\"1\" class=\"dataframe\">\n",
       "  <thead>\n",
       "    <tr style=\"text-align: right;\">\n",
       "      <th></th>\n",
       "      <th>Hero</th>\n",
       "      <th>Entry</th>\n",
       "      <th>Move</th>\n",
       "      <th>Weapon</th>\n",
       "      <th>HP</th>\n",
       "      <th>Atk</th>\n",
       "      <th>Spd</th>\n",
       "      <th>Def</th>\n",
       "      <th>Res</th>\n",
       "      <th>Total</th>\n",
       "      <th>Color</th>\n",
       "      <th>Version</th>\n",
       "      <th>Book</th>\n",
       "    </tr>\n",
       "  </thead>\n",
       "  <tbody>\n",
       "    <tr>\n",
       "      <th>0</th>\n",
       "      <td>Abel: The Panther</td>\n",
       "      <td>Shadow Dragon / (New) Mystery</td>\n",
       "      <td>Cavalry</td>\n",
       "      <td>Blue Lance</td>\n",
       "      <td>39</td>\n",
       "      <td>33</td>\n",
       "      <td>32</td>\n",
       "      <td>25</td>\n",
       "      <td>25</td>\n",
       "      <td>154</td>\n",
       "      <td>Blue</td>\n",
       "      <td>1.00</td>\n",
       "      <td>1</td>\n",
       "    </tr>\n",
       "    <tr>\n",
       "      <th>1</th>\n",
       "      <td>Aelfric: Custodian Monk</td>\n",
       "      <td>Three Houses</td>\n",
       "      <td>Infantry</td>\n",
       "      <td>Red Tome</td>\n",
       "      <td>43</td>\n",
       "      <td>40</td>\n",
       "      <td>31</td>\n",
       "      <td>20</td>\n",
       "      <td>37</td>\n",
       "      <td>171</td>\n",
       "      <td>Red</td>\n",
       "      <td>5.90</td>\n",
       "      <td>5</td>\n",
       "    </tr>\n",
       "    <tr>\n",
       "      <th>2</th>\n",
       "      <td>Alcryst: Tender Archer</td>\n",
       "      <td>Engage</td>\n",
       "      <td>Infantry</td>\n",
       "      <td>Colorless Bow</td>\n",
       "      <td>39</td>\n",
       "      <td>43</td>\n",
       "      <td>46</td>\n",
       "      <td>30</td>\n",
       "      <td>24</td>\n",
       "      <td>182</td>\n",
       "      <td>Colorless</td>\n",
       "      <td>7.70</td>\n",
       "      <td>7</td>\n",
       "    </tr>\n",
       "    <tr>\n",
       "      <th>3</th>\n",
       "      <td>Alcryst: Tender Groom</td>\n",
       "      <td>Engage</td>\n",
       "      <td>Infantry</td>\n",
       "      <td>Red Bow</td>\n",
       "      <td>40</td>\n",
       "      <td>44</td>\n",
       "      <td>46</td>\n",
       "      <td>35</td>\n",
       "      <td>23</td>\n",
       "      <td>188</td>\n",
       "      <td>Red</td>\n",
       "      <td>8.50</td>\n",
       "      <td>8</td>\n",
       "    </tr>\n",
       "    <tr>\n",
       "      <th>4</th>\n",
       "      <td>Alear: Awoken Divinity</td>\n",
       "      <td>Engage</td>\n",
       "      <td>Infantry</td>\n",
       "      <td>Green Breath</td>\n",
       "      <td>40</td>\n",
       "      <td>41</td>\n",
       "      <td>47</td>\n",
       "      <td>33</td>\n",
       "      <td>37</td>\n",
       "      <td>198</td>\n",
       "      <td>Green</td>\n",
       "      <td>7.80</td>\n",
       "      <td>7</td>\n",
       "    </tr>\n",
       "    <tr>\n",
       "      <th>...</th>\n",
       "      <td>...</td>\n",
       "      <td>...</td>\n",
       "      <td>...</td>\n",
       "      <td>...</td>\n",
       "      <td>...</td>\n",
       "      <td>...</td>\n",
       "      <td>...</td>\n",
       "      <td>...</td>\n",
       "      <td>...</td>\n",
       "      <td>...</td>\n",
       "      <td>...</td>\n",
       "      <td>...</td>\n",
       "      <td>...</td>\n",
       "    </tr>\n",
       "    <tr>\n",
       "      <th>1252</th>\n",
       "      <td>Zephia: Scheming Dragon</td>\n",
       "      <td>Engage</td>\n",
       "      <td>Flying</td>\n",
       "      <td>Red Tome</td>\n",
       "      <td>41</td>\n",
       "      <td>40</td>\n",
       "      <td>44</td>\n",
       "      <td>23</td>\n",
       "      <td>24</td>\n",
       "      <td>172</td>\n",
       "      <td>Red</td>\n",
       "      <td>7.70</td>\n",
       "      <td>7</td>\n",
       "    </tr>\n",
       "    <tr>\n",
       "      <th>1253</th>\n",
       "      <td>Zephiel: The Liberator</td>\n",
       "      <td>The Binding Blade</td>\n",
       "      <td>Armored</td>\n",
       "      <td>Red Sword</td>\n",
       "      <td>55</td>\n",
       "      <td>35</td>\n",
       "      <td>16</td>\n",
       "      <td>38</td>\n",
       "      <td>24</td>\n",
       "      <td>168</td>\n",
       "      <td>Red</td>\n",
       "      <td>1.20</td>\n",
       "      <td>1</td>\n",
       "    </tr>\n",
       "    <tr>\n",
       "      <th>1254</th>\n",
       "      <td>Zephiel: Winter's Crown</td>\n",
       "      <td>The Blazing Blade</td>\n",
       "      <td>Armored</td>\n",
       "      <td>Red Sword</td>\n",
       "      <td>48</td>\n",
       "      <td>38</td>\n",
       "      <td>19</td>\n",
       "      <td>38</td>\n",
       "      <td>36</td>\n",
       "      <td>179</td>\n",
       "      <td>Red</td>\n",
       "      <td>4.00</td>\n",
       "      <td>4</td>\n",
       "    </tr>\n",
       "    <tr>\n",
       "      <th>1255</th>\n",
       "      <td>Zihark: Ninja Blademaster</td>\n",
       "      <td>Path of Radiance</td>\n",
       "      <td>Infantry</td>\n",
       "      <td>Red Sword</td>\n",
       "      <td>43</td>\n",
       "      <td>37</td>\n",
       "      <td>42</td>\n",
       "      <td>30</td>\n",
       "      <td>24</td>\n",
       "      <td>176</td>\n",
       "      <td>Red</td>\n",
       "      <td>4.11</td>\n",
       "      <td>4</td>\n",
       "    </tr>\n",
       "    <tr>\n",
       "      <th>1256</th>\n",
       "      <td>Þjazi: Ruthless Jötun</td>\n",
       "      <td>Heroes</td>\n",
       "      <td>Armored</td>\n",
       "      <td>Green Axe</td>\n",
       "      <td>49</td>\n",
       "      <td>50</td>\n",
       "      <td>18</td>\n",
       "      <td>47</td>\n",
       "      <td>42</td>\n",
       "      <td>206</td>\n",
       "      <td>Green</td>\n",
       "      <td>8.11</td>\n",
       "      <td>8</td>\n",
       "    </tr>\n",
       "  </tbody>\n",
       "</table>\n",
       "<p>1257 rows × 13 columns</p>\n",
       "</div>"
      ],
      "text/plain": [
       "                           Hero                          Entry      Move  \\\n",
       "0             Abel: The Panther  Shadow Dragon / (New) Mystery   Cavalry   \n",
       "1       Aelfric: Custodian Monk                   Three Houses  Infantry   \n",
       "2        Alcryst: Tender Archer                         Engage  Infantry   \n",
       "3         Alcryst: Tender Groom                         Engage  Infantry   \n",
       "4        Alear: Awoken Divinity                         Engage  Infantry   \n",
       "...                         ...                            ...       ...   \n",
       "1252    Zephia: Scheming Dragon                         Engage    Flying   \n",
       "1253     Zephiel: The Liberator              The Binding Blade   Armored   \n",
       "1254    Zephiel: Winter's Crown              The Blazing Blade   Armored   \n",
       "1255  Zihark: Ninja Blademaster               Path of Radiance  Infantry   \n",
       "1256      Þjazi: Ruthless Jötun                         Heroes   Armored   \n",
       "\n",
       "             Weapon  HP  Atk  Spd  Def  Res  Total      Color  Version  Book  \n",
       "0        Blue Lance  39   33   32   25   25    154       Blue     1.00     1  \n",
       "1          Red Tome  43   40   31   20   37    171        Red     5.90     5  \n",
       "2     Colorless Bow  39   43   46   30   24    182  Colorless     7.70     7  \n",
       "3           Red Bow  40   44   46   35   23    188        Red     8.50     8  \n",
       "4      Green Breath  40   41   47   33   37    198      Green     7.80     7  \n",
       "...             ...  ..  ...  ...  ...  ...    ...        ...      ...   ...  \n",
       "1252       Red Tome  41   40   44   23   24    172        Red     7.70     7  \n",
       "1253      Red Sword  55   35   16   38   24    168        Red     1.20     1  \n",
       "1254      Red Sword  48   38   19   38   36    179        Red     4.00     4  \n",
       "1255      Red Sword  43   37   42   30   24    176        Red     4.11     4  \n",
       "1256      Green Axe  49   50   18   47   42    206      Green     8.11     8  \n",
       "\n",
       "[1257 rows x 13 columns]"
      ]
     },
     "execution_count": 4,
     "metadata": {},
     "output_type": "execute_result"
    }
   ],
   "source": [
    "heroes_table = pd.read_csv('heroes_table.csv').drop(columns=[\"Unnamed: 0\"])\n",
    "heroes_table"
   ]
  },
  {
   "cell_type": "code",
   "execution_count": 8,
   "id": "936f4bdb",
   "metadata": {},
   "outputs": [
    {
     "data": {
      "application/vnd.plotly.v1+json": {
       "config": {
        "plotlyServerURL": "https://plot.ly"
       },
       "data": [
        {
         "alignmentgroup": "True",
         "hovertemplate": "variable=%{x}<br>value=%{y}<extra></extra>",
         "legendgroup": "",
         "marker": {
          "color": "#636efa"
         },
         "name": "",
         "notched": false,
         "offsetgroup": "",
         "orientation": "v",
         "showlegend": false,
         "type": "box",
         "x": [
          "HP",
          "HP",
          "HP",
          "HP",
          "HP",
          "HP",
          "HP",
          "HP",
          "HP",
          "HP",
          "HP",
          "HP",
          "HP",
          "HP",
          "HP",
          "HP",
          "HP",
          "HP",
          "HP",
          "HP",
          "HP",
          "HP",
          "HP",
          "HP",
          "HP",
          "HP",
          "HP",
          "HP",
          "HP",
          "HP",
          "HP",
          "HP",
          "HP",
          "HP",
          "HP",
          "HP",
          "HP",
          "HP",
          "HP",
          "HP",
          "HP",
          "HP",
          "HP",
          "HP",
          "HP",
          "HP",
          "HP",
          "HP",
          "HP",
          "HP",
          "HP",
          "HP",
          "HP",
          "HP",
          "HP",
          "HP",
          "HP",
          "HP",
          "HP",
          "HP",
          "HP",
          "HP",
          "HP",
          "HP",
          "HP",
          "HP",
          "HP",
          "HP",
          "HP",
          "HP",
          "HP",
          "HP",
          "HP",
          "HP",
          "HP",
          "HP",
          "HP",
          "HP",
          "HP",
          "HP",
          "HP",
          "HP",
          "HP",
          "HP",
          "HP",
          "HP",
          "HP",
          "HP",
          "HP",
          "HP",
          "HP",
          "HP",
          "HP",
          "HP",
          "HP",
          "HP",
          "HP",
          "HP",
          "HP",
          "HP",
          "HP",
          "HP",
          "HP",
          "HP",
          "HP",
          "HP",
          "HP",
          "HP",
          "HP",
          "HP",
          "HP",
          "HP",
          "HP",
          "HP",
          "HP",
          "HP",
          "HP",
          "HP",
          "HP",
          "HP",
          "HP",
          "HP",
          "HP",
          "HP",
          "HP",
          "HP",
          "HP",
          "HP",
          "HP",
          "HP",
          "HP",
          "HP",
          "HP",
          "HP",
          "HP",
          "HP",
          "HP",
          "HP",
          "HP",
          "HP",
          "HP",
          "HP",
          "HP",
          "HP",
          "HP",
          "HP",
          "HP",
          "HP",
          "HP",
          "HP",
          "HP",
          "HP",
          "HP",
          "HP",
          "HP",
          "HP",
          "HP",
          "HP",
          "HP",
          "HP",
          "HP",
          "HP",
          "HP",
          "HP",
          "HP",
          "HP",
          "HP",
          "HP",
          "HP",
          "HP",
          "HP",
          "HP",
          "HP",
          "HP",
          "HP",
          "HP",
          "HP",
          "HP",
          "HP",
          "HP",
          "HP",
          "HP",
          "HP",
          "HP",
          "HP",
          "HP",
          "HP",
          "HP",
          "HP",
          "HP",
          "HP",
          "HP",
          "HP",
          "HP",
          "HP",
          "HP",
          "HP",
          "HP",
          "HP",
          "HP",
          "HP",
          "HP",
          "HP",
          "HP",
          "HP",
          "HP",
          "HP",
          "HP",
          "HP",
          "HP",
          "HP",
          "HP",
          "HP",
          "HP",
          "HP",
          "HP",
          "HP",
          "HP",
          "HP",
          "HP",
          "HP",
          "HP",
          "HP",
          "HP",
          "HP",
          "HP",
          "HP",
          "HP",
          "HP",
          "HP",
          "HP",
          "HP",
          "HP",
          "HP",
          "HP",
          "HP",
          "HP",
          "HP",
          "HP",
          "HP",
          "HP",
          "HP",
          "HP",
          "HP",
          "HP",
          "HP",
          "HP",
          "HP",
          "HP",
          "HP",
          "HP",
          "HP",
          "HP",
          "HP",
          "HP",
          "HP",
          "HP",
          "HP",
          "HP",
          "HP",
          "HP",
          "HP",
          "HP",
          "HP",
          "HP",
          "HP",
          "HP",
          "HP",
          "HP",
          "HP",
          "HP",
          "HP",
          "HP",
          "HP",
          "HP",
          "HP",
          "HP",
          "HP",
          "HP",
          "HP",
          "HP",
          "HP",
          "HP",
          "HP",
          "HP",
          "HP",
          "HP",
          "HP",
          "HP",
          "HP",
          "HP",
          "HP",
          "HP",
          "HP",
          "HP",
          "HP",
          "HP",
          "HP",
          "HP",
          "HP",
          "HP",
          "HP",
          "HP",
          "HP",
          "HP",
          "HP",
          "HP",
          "HP",
          "HP",
          "HP",
          "HP",
          "HP",
          "HP",
          "HP",
          "HP",
          "HP",
          "HP",
          "HP",
          "HP",
          "HP",
          "HP",
          "HP",
          "HP",
          "HP",
          "HP",
          "HP",
          "HP",
          "HP",
          "HP",
          "HP",
          "HP",
          "HP",
          "HP",
          "HP",
          "HP",
          "HP",
          "HP",
          "HP",
          "HP",
          "HP",
          "HP",
          "HP",
          "HP",
          "HP",
          "HP",
          "HP",
          "HP",
          "HP",
          "HP",
          "HP",
          "HP",
          "HP",
          "HP",
          "HP",
          "HP",
          "HP",
          "HP",
          "HP",
          "HP",
          "HP",
          "HP",
          "HP",
          "HP",
          "HP",
          "HP",
          "HP",
          "HP",
          "HP",
          "HP",
          "HP",
          "HP",
          "HP",
          "HP",
          "HP",
          "HP",
          "HP",
          "HP",
          "HP",
          "HP",
          "HP",
          "HP",
          "HP",
          "HP",
          "HP",
          "HP",
          "HP",
          "HP",
          "HP",
          "HP",
          "HP",
          "HP",
          "HP",
          "HP",
          "HP",
          "HP",
          "HP",
          "HP",
          "HP",
          "HP",
          "HP",
          "HP",
          "HP",
          "HP",
          "HP",
          "HP",
          "HP",
          "HP",
          "HP",
          "HP",
          "HP",
          "HP",
          "HP",
          "HP",
          "HP",
          "HP",
          "HP",
          "HP",
          "HP",
          "HP",
          "HP",
          "HP",
          "HP",
          "HP",
          "HP",
          "HP",
          "HP",
          "HP",
          "HP",
          "HP",
          "HP",
          "HP",
          "HP",
          "HP",
          "HP",
          "HP",
          "HP",
          "HP",
          "HP",
          "HP",
          "HP",
          "HP",
          "HP",
          "HP",
          "HP",
          "HP",
          "HP",
          "HP",
          "HP",
          "HP",
          "HP",
          "HP",
          "HP",
          "HP",
          "HP",
          "HP",
          "HP",
          "HP",
          "HP",
          "HP",
          "HP",
          "HP",
          "HP",
          "HP",
          "HP",
          "HP",
          "HP",
          "HP",
          "HP",
          "HP",
          "HP",
          "HP",
          "HP",
          "HP",
          "HP",
          "HP",
          "HP",
          "HP",
          "HP",
          "HP",
          "HP",
          "HP",
          "HP",
          "HP",
          "HP",
          "HP",
          "HP",
          "HP",
          "HP",
          "HP",
          "HP",
          "HP",
          "HP",
          "HP",
          "HP",
          "HP",
          "HP",
          "HP",
          "HP",
          "HP",
          "HP",
          "HP",
          "HP",
          "HP",
          "HP",
          "HP",
          "HP",
          "HP",
          "HP",
          "HP",
          "HP",
          "HP",
          "HP",
          "HP",
          "HP",
          "HP",
          "HP",
          "HP",
          "HP",
          "HP",
          "HP",
          "HP",
          "HP",
          "HP",
          "HP",
          "HP",
          "HP",
          "HP",
          "HP",
          "HP",
          "HP",
          "HP",
          "HP",
          "HP",
          "HP",
          "HP",
          "HP",
          "HP",
          "HP",
          "HP",
          "HP",
          "HP",
          "HP",
          "HP",
          "HP",
          "HP",
          "HP",
          "HP",
          "HP",
          "HP",
          "HP",
          "HP",
          "HP",
          "HP",
          "HP",
          "HP",
          "HP",
          "HP",
          "HP",
          "HP",
          "HP",
          "HP",
          "HP",
          "HP",
          "HP",
          "HP",
          "HP",
          "HP",
          "HP",
          "HP",
          "HP",
          "HP",
          "HP",
          "HP",
          "HP",
          "HP",
          "HP",
          "HP",
          "HP",
          "HP",
          "HP",
          "HP",
          "HP",
          "HP",
          "HP",
          "HP",
          "HP",
          "HP",
          "HP",
          "HP",
          "HP",
          "HP",
          "HP",
          "HP",
          "HP",
          "HP",
          "HP",
          "HP",
          "HP",
          "HP",
          "HP",
          "HP",
          "HP",
          "HP",
          "HP",
          "HP",
          "HP",
          "HP",
          "HP",
          "HP",
          "HP",
          "HP",
          "HP",
          "HP",
          "HP",
          "HP",
          "HP",
          "HP",
          "HP",
          "HP",
          "HP",
          "HP",
          "HP",
          "HP",
          "HP",
          "HP",
          "HP",
          "HP",
          "HP",
          "HP",
          "HP",
          "HP",
          "HP",
          "HP",
          "HP",
          "HP",
          "HP",
          "HP",
          "HP",
          "HP",
          "HP",
          "HP",
          "HP",
          "HP",
          "HP",
          "HP",
          "HP",
          "HP",
          "HP",
          "HP",
          "HP",
          "HP",
          "HP",
          "HP",
          "HP",
          "HP",
          "HP",
          "HP",
          "HP",
          "HP",
          "HP",
          "HP",
          "HP",
          "HP",
          "HP",
          "HP",
          "HP",
          "HP",
          "HP",
          "HP",
          "HP",
          "HP",
          "HP",
          "HP",
          "HP",
          "HP",
          "HP",
          "HP",
          "HP",
          "HP",
          "HP",
          "HP",
          "HP",
          "HP",
          "HP",
          "HP",
          "HP",
          "HP",
          "HP",
          "HP",
          "HP",
          "HP",
          "HP",
          "HP",
          "HP",
          "HP",
          "HP",
          "HP",
          "HP",
          "HP",
          "HP",
          "HP",
          "HP",
          "HP",
          "HP",
          "HP",
          "HP",
          "HP",
          "HP",
          "HP",
          "HP",
          "HP",
          "HP",
          "HP",
          "HP",
          "HP",
          "HP",
          "HP",
          "HP",
          "HP",
          "HP",
          "HP",
          "HP",
          "HP",
          "HP",
          "HP",
          "HP",
          "HP",
          "HP",
          "HP",
          "HP",
          "HP",
          "HP",
          "HP",
          "HP",
          "HP",
          "HP",
          "HP",
          "HP",
          "HP",
          "HP",
          "HP",
          "HP",
          "HP",
          "HP",
          "HP",
          "HP",
          "HP",
          "HP",
          "HP",
          "HP",
          "HP",
          "HP",
          "HP",
          "HP",
          "HP",
          "HP",
          "HP",
          "HP",
          "HP",
          "HP",
          "HP",
          "HP",
          "HP",
          "HP",
          "HP",
          "HP",
          "HP",
          "HP",
          "HP",
          "HP",
          "HP",
          "HP",
          "HP",
          "HP",
          "HP",
          "HP",
          "HP",
          "HP",
          "HP",
          "HP",
          "HP",
          "HP",
          "HP",
          "HP",
          "HP",
          "HP",
          "HP",
          "HP",
          "HP",
          "HP",
          "HP",
          "HP",
          "HP",
          "HP",
          "HP",
          "HP",
          "HP",
          "HP",
          "HP",
          "HP",
          "HP",
          "HP",
          "HP",
          "HP",
          "HP",
          "HP",
          "HP",
          "HP",
          "HP",
          "HP",
          "HP",
          "HP",
          "HP",
          "HP",
          "HP",
          "HP",
          "HP",
          "HP",
          "HP",
          "HP",
          "HP",
          "HP",
          "HP",
          "HP",
          "HP",
          "HP",
          "HP",
          "HP",
          "HP",
          "HP",
          "HP",
          "HP",
          "HP",
          "HP",
          "HP",
          "HP",
          "HP",
          "HP",
          "HP",
          "HP",
          "HP",
          "HP",
          "HP",
          "HP",
          "HP",
          "HP",
          "HP",
          "HP",
          "HP",
          "HP",
          "HP",
          "HP",
          "HP",
          "HP",
          "HP",
          "HP",
          "HP",
          "HP",
          "HP",
          "HP",
          "HP",
          "HP",
          "HP",
          "HP",
          "HP",
          "HP",
          "HP",
          "HP",
          "HP",
          "HP",
          "HP",
          "HP",
          "HP",
          "HP",
          "HP",
          "HP",
          "HP",
          "HP",
          "HP",
          "HP",
          "HP",
          "HP",
          "HP",
          "HP",
          "HP",
          "HP",
          "HP",
          "HP",
          "HP",
          "HP",
          "HP",
          "HP",
          "HP",
          "HP",
          "HP",
          "HP",
          "HP",
          "HP",
          "HP",
          "HP",
          "HP",
          "HP",
          "HP",
          "HP",
          "HP",
          "HP",
          "HP",
          "HP",
          "HP",
          "HP",
          "HP",
          "HP",
          "HP",
          "HP",
          "HP",
          "HP",
          "HP",
          "HP",
          "HP",
          "HP",
          "HP",
          "HP",
          "HP",
          "HP",
          "HP",
          "HP",
          "HP",
          "HP",
          "HP",
          "HP",
          "HP",
          "HP",
          "HP",
          "HP",
          "HP",
          "HP",
          "HP",
          "HP",
          "HP",
          "HP",
          "HP",
          "HP",
          "HP",
          "HP",
          "HP",
          "HP",
          "HP",
          "HP",
          "HP",
          "HP",
          "HP",
          "HP",
          "HP",
          "HP",
          "HP",
          "HP",
          "HP",
          "HP",
          "HP",
          "HP",
          "HP",
          "HP",
          "HP",
          "HP",
          "HP",
          "HP",
          "HP",
          "HP",
          "HP",
          "HP",
          "HP",
          "HP",
          "HP",
          "HP",
          "HP",
          "HP",
          "HP",
          "HP",
          "HP",
          "HP",
          "HP",
          "HP",
          "HP",
          "HP",
          "HP",
          "HP",
          "HP",
          "HP",
          "HP",
          "HP",
          "HP",
          "HP",
          "HP",
          "HP",
          "HP",
          "HP",
          "HP",
          "HP",
          "HP",
          "HP",
          "HP",
          "HP",
          "HP",
          "HP",
          "HP",
          "HP",
          "HP",
          "HP",
          "HP",
          "HP",
          "HP",
          "HP",
          "HP",
          "HP",
          "HP",
          "HP",
          "HP",
          "HP",
          "HP",
          "HP",
          "HP",
          "HP",
          "HP",
          "HP",
          "HP",
          "HP",
          "HP",
          "HP",
          "HP",
          "HP",
          "HP",
          "HP",
          "HP",
          "HP",
          "HP",
          "HP",
          "HP",
          "HP",
          "HP",
          "HP",
          "HP",
          "HP",
          "HP",
          "HP",
          "HP",
          "HP",
          "HP",
          "HP",
          "HP",
          "HP",
          "HP",
          "HP",
          "HP",
          "HP",
          "HP",
          "HP",
          "HP",
          "HP",
          "HP",
          "HP",
          "HP",
          "HP",
          "HP",
          "HP",
          "HP",
          "HP",
          "HP",
          "HP",
          "HP",
          "HP",
          "HP",
          "HP",
          "HP",
          "HP",
          "HP",
          "HP",
          "HP",
          "HP",
          "HP",
          "HP",
          "HP",
          "HP",
          "HP",
          "HP",
          "HP",
          "HP",
          "HP",
          "HP",
          "HP",
          "HP",
          "HP",
          "HP",
          "HP",
          "HP",
          "HP",
          "HP",
          "HP",
          "HP",
          "HP",
          "HP",
          "HP",
          "HP",
          "HP",
          "HP",
          "HP",
          "HP",
          "HP",
          "HP",
          "HP",
          "HP",
          "HP",
          "HP",
          "HP",
          "HP",
          "HP",
          "HP",
          "HP",
          "HP",
          "HP",
          "HP",
          "HP",
          "HP",
          "HP",
          "HP",
          "HP",
          "HP",
          "HP",
          "HP",
          "HP",
          "HP",
          "HP",
          "HP",
          "HP",
          "HP",
          "HP",
          "HP",
          "HP",
          "HP",
          "HP",
          "HP",
          "HP",
          "HP",
          "HP",
          "HP",
          "HP",
          "HP",
          "HP",
          "HP",
          "HP",
          "HP",
          "HP",
          "HP",
          "HP",
          "HP",
          "HP",
          "HP",
          "HP",
          "HP",
          "HP",
          "HP",
          "HP",
          "HP",
          "HP",
          "HP",
          "HP",
          "HP",
          "HP",
          "HP",
          "HP",
          "HP",
          "HP",
          "HP",
          "HP",
          "HP",
          "HP",
          "HP",
          "HP",
          "HP",
          "HP",
          "HP",
          "HP",
          "HP",
          "HP",
          "HP",
          "HP",
          "HP",
          "HP",
          "HP",
          "HP",
          "HP",
          "HP",
          "HP",
          "HP",
          "HP",
          "HP",
          "HP",
          "HP",
          "HP",
          "HP",
          "HP",
          "HP",
          "HP",
          "HP",
          "HP",
          "HP",
          "HP",
          "HP",
          "HP",
          "HP",
          "HP",
          "HP",
          "HP",
          "HP",
          "HP",
          "HP",
          "HP",
          "HP",
          "HP",
          "HP",
          "HP",
          "HP",
          "HP",
          "HP",
          "HP",
          "HP",
          "HP",
          "HP",
          "HP",
          "HP",
          "HP",
          "HP",
          "HP",
          "HP",
          "HP",
          "HP",
          "HP",
          "HP",
          "HP",
          "HP",
          "HP",
          "HP",
          "HP",
          "HP",
          "HP",
          "HP",
          "HP",
          "HP",
          "HP",
          "HP",
          "HP",
          "HP",
          "HP",
          "HP",
          "HP",
          "HP",
          "HP",
          "HP",
          "Atk",
          "Atk",
          "Atk",
          "Atk",
          "Atk",
          "Atk",
          "Atk",
          "Atk",
          "Atk",
          "Atk",
          "Atk",
          "Atk",
          "Atk",
          "Atk",
          "Atk",
          "Atk",
          "Atk",
          "Atk",
          "Atk",
          "Atk",
          "Atk",
          "Atk",
          "Atk",
          "Atk",
          "Atk",
          "Atk",
          "Atk",
          "Atk",
          "Atk",
          "Atk",
          "Atk",
          "Atk",
          "Atk",
          "Atk",
          "Atk",
          "Atk",
          "Atk",
          "Atk",
          "Atk",
          "Atk",
          "Atk",
          "Atk",
          "Atk",
          "Atk",
          "Atk",
          "Atk",
          "Atk",
          "Atk",
          "Atk",
          "Atk",
          "Atk",
          "Atk",
          "Atk",
          "Atk",
          "Atk",
          "Atk",
          "Atk",
          "Atk",
          "Atk",
          "Atk",
          "Atk",
          "Atk",
          "Atk",
          "Atk",
          "Atk",
          "Atk",
          "Atk",
          "Atk",
          "Atk",
          "Atk",
          "Atk",
          "Atk",
          "Atk",
          "Atk",
          "Atk",
          "Atk",
          "Atk",
          "Atk",
          "Atk",
          "Atk",
          "Atk",
          "Atk",
          "Atk",
          "Atk",
          "Atk",
          "Atk",
          "Atk",
          "Atk",
          "Atk",
          "Atk",
          "Atk",
          "Atk",
          "Atk",
          "Atk",
          "Atk",
          "Atk",
          "Atk",
          "Atk",
          "Atk",
          "Atk",
          "Atk",
          "Atk",
          "Atk",
          "Atk",
          "Atk",
          "Atk",
          "Atk",
          "Atk",
          "Atk",
          "Atk",
          "Atk",
          "Atk",
          "Atk",
          "Atk",
          "Atk",
          "Atk",
          "Atk",
          "Atk",
          "Atk",
          "Atk",
          "Atk",
          "Atk",
          "Atk",
          "Atk",
          "Atk",
          "Atk",
          "Atk",
          "Atk",
          "Atk",
          "Atk",
          "Atk",
          "Atk",
          "Atk",
          "Atk",
          "Atk",
          "Atk",
          "Atk",
          "Atk",
          "Atk",
          "Atk",
          "Atk",
          "Atk",
          "Atk",
          "Atk",
          "Atk",
          "Atk",
          "Atk",
          "Atk",
          "Atk",
          "Atk",
          "Atk",
          "Atk",
          "Atk",
          "Atk",
          "Atk",
          "Atk",
          "Atk",
          "Atk",
          "Atk",
          "Atk",
          "Atk",
          "Atk",
          "Atk",
          "Atk",
          "Atk",
          "Atk",
          "Atk",
          "Atk",
          "Atk",
          "Atk",
          "Atk",
          "Atk",
          "Atk",
          "Atk",
          "Atk",
          "Atk",
          "Atk",
          "Atk",
          "Atk",
          "Atk",
          "Atk",
          "Atk",
          "Atk",
          "Atk",
          "Atk",
          "Atk",
          "Atk",
          "Atk",
          "Atk",
          "Atk",
          "Atk",
          "Atk",
          "Atk",
          "Atk",
          "Atk",
          "Atk",
          "Atk",
          "Atk",
          "Atk",
          "Atk",
          "Atk",
          "Atk",
          "Atk",
          "Atk",
          "Atk",
          "Atk",
          "Atk",
          "Atk",
          "Atk",
          "Atk",
          "Atk",
          "Atk",
          "Atk",
          "Atk",
          "Atk",
          "Atk",
          "Atk",
          "Atk",
          "Atk",
          "Atk",
          "Atk",
          "Atk",
          "Atk",
          "Atk",
          "Atk",
          "Atk",
          "Atk",
          "Atk",
          "Atk",
          "Atk",
          "Atk",
          "Atk",
          "Atk",
          "Atk",
          "Atk",
          "Atk",
          "Atk",
          "Atk",
          "Atk",
          "Atk",
          "Atk",
          "Atk",
          "Atk",
          "Atk",
          "Atk",
          "Atk",
          "Atk",
          "Atk",
          "Atk",
          "Atk",
          "Atk",
          "Atk",
          "Atk",
          "Atk",
          "Atk",
          "Atk",
          "Atk",
          "Atk",
          "Atk",
          "Atk",
          "Atk",
          "Atk",
          "Atk",
          "Atk",
          "Atk",
          "Atk",
          "Atk",
          "Atk",
          "Atk",
          "Atk",
          "Atk",
          "Atk",
          "Atk",
          "Atk",
          "Atk",
          "Atk",
          "Atk",
          "Atk",
          "Atk",
          "Atk",
          "Atk",
          "Atk",
          "Atk",
          "Atk",
          "Atk",
          "Atk",
          "Atk",
          "Atk",
          "Atk",
          "Atk",
          "Atk",
          "Atk",
          "Atk",
          "Atk",
          "Atk",
          "Atk",
          "Atk",
          "Atk",
          "Atk",
          "Atk",
          "Atk",
          "Atk",
          "Atk",
          "Atk",
          "Atk",
          "Atk",
          "Atk",
          "Atk",
          "Atk",
          "Atk",
          "Atk",
          "Atk",
          "Atk",
          "Atk",
          "Atk",
          "Atk",
          "Atk",
          "Atk",
          "Atk",
          "Atk",
          "Atk",
          "Atk",
          "Atk",
          "Atk",
          "Atk",
          "Atk",
          "Atk",
          "Atk",
          "Atk",
          "Atk",
          "Atk",
          "Atk",
          "Atk",
          "Atk",
          "Atk",
          "Atk",
          "Atk",
          "Atk",
          "Atk",
          "Atk",
          "Atk",
          "Atk",
          "Atk",
          "Atk",
          "Atk",
          "Atk",
          "Atk",
          "Atk",
          "Atk",
          "Atk",
          "Atk",
          "Atk",
          "Atk",
          "Atk",
          "Atk",
          "Atk",
          "Atk",
          "Atk",
          "Atk",
          "Atk",
          "Atk",
          "Atk",
          "Atk",
          "Atk",
          "Atk",
          "Atk",
          "Atk",
          "Atk",
          "Atk",
          "Atk",
          "Atk",
          "Atk",
          "Atk",
          "Atk",
          "Atk",
          "Atk",
          "Atk",
          "Atk",
          "Atk",
          "Atk",
          "Atk",
          "Atk",
          "Atk",
          "Atk",
          "Atk",
          "Atk",
          "Atk",
          "Atk",
          "Atk",
          "Atk",
          "Atk",
          "Atk",
          "Atk",
          "Atk",
          "Atk",
          "Atk",
          "Atk",
          "Atk",
          "Atk",
          "Atk",
          "Atk",
          "Atk",
          "Atk",
          "Atk",
          "Atk",
          "Atk",
          "Atk",
          "Atk",
          "Atk",
          "Atk",
          "Atk",
          "Atk",
          "Atk",
          "Atk",
          "Atk",
          "Atk",
          "Atk",
          "Atk",
          "Atk",
          "Atk",
          "Atk",
          "Atk",
          "Atk",
          "Atk",
          "Atk",
          "Atk",
          "Atk",
          "Atk",
          "Atk",
          "Atk",
          "Atk",
          "Atk",
          "Atk",
          "Atk",
          "Atk",
          "Atk",
          "Atk",
          "Atk",
          "Atk",
          "Atk",
          "Atk",
          "Atk",
          "Atk",
          "Atk",
          "Atk",
          "Atk",
          "Atk",
          "Atk",
          "Atk",
          "Atk",
          "Atk",
          "Atk",
          "Atk",
          "Atk",
          "Atk",
          "Atk",
          "Atk",
          "Atk",
          "Atk",
          "Atk",
          "Atk",
          "Atk",
          "Atk",
          "Atk",
          "Atk",
          "Atk",
          "Atk",
          "Atk",
          "Atk",
          "Atk",
          "Atk",
          "Atk",
          "Atk",
          "Atk",
          "Atk",
          "Atk",
          "Atk",
          "Atk",
          "Atk",
          "Atk",
          "Atk",
          "Atk",
          "Atk",
          "Atk",
          "Atk",
          "Atk",
          "Atk",
          "Atk",
          "Atk",
          "Atk",
          "Atk",
          "Atk",
          "Atk",
          "Atk",
          "Atk",
          "Atk",
          "Atk",
          "Atk",
          "Atk",
          "Atk",
          "Atk",
          "Atk",
          "Atk",
          "Atk",
          "Atk",
          "Atk",
          "Atk",
          "Atk",
          "Atk",
          "Atk",
          "Atk",
          "Atk",
          "Atk",
          "Atk",
          "Atk",
          "Atk",
          "Atk",
          "Atk",
          "Atk",
          "Atk",
          "Atk",
          "Atk",
          "Atk",
          "Atk",
          "Atk",
          "Atk",
          "Atk",
          "Atk",
          "Atk",
          "Atk",
          "Atk",
          "Atk",
          "Atk",
          "Atk",
          "Atk",
          "Atk",
          "Atk",
          "Atk",
          "Atk",
          "Atk",
          "Atk",
          "Atk",
          "Atk",
          "Atk",
          "Atk",
          "Atk",
          "Atk",
          "Atk",
          "Atk",
          "Atk",
          "Atk",
          "Atk",
          "Atk",
          "Atk",
          "Atk",
          "Atk",
          "Atk",
          "Atk",
          "Atk",
          "Atk",
          "Atk",
          "Atk",
          "Atk",
          "Atk",
          "Atk",
          "Atk",
          "Atk",
          "Atk",
          "Atk",
          "Atk",
          "Atk",
          "Atk",
          "Atk",
          "Atk",
          "Atk",
          "Atk",
          "Atk",
          "Atk",
          "Atk",
          "Atk",
          "Atk",
          "Atk",
          "Atk",
          "Atk",
          "Atk",
          "Atk",
          "Atk",
          "Atk",
          "Atk",
          "Atk",
          "Atk",
          "Atk",
          "Atk",
          "Atk",
          "Atk",
          "Atk",
          "Atk",
          "Atk",
          "Atk",
          "Atk",
          "Atk",
          "Atk",
          "Atk",
          "Atk",
          "Atk",
          "Atk",
          "Atk",
          "Atk",
          "Atk",
          "Atk",
          "Atk",
          "Atk",
          "Atk",
          "Atk",
          "Atk",
          "Atk",
          "Atk",
          "Atk",
          "Atk",
          "Atk",
          "Atk",
          "Atk",
          "Atk",
          "Atk",
          "Atk",
          "Atk",
          "Atk",
          "Atk",
          "Atk",
          "Atk",
          "Atk",
          "Atk",
          "Atk",
          "Atk",
          "Atk",
          "Atk",
          "Atk",
          "Atk",
          "Atk",
          "Atk",
          "Atk",
          "Atk",
          "Atk",
          "Atk",
          "Atk",
          "Atk",
          "Atk",
          "Atk",
          "Atk",
          "Atk",
          "Atk",
          "Atk",
          "Atk",
          "Atk",
          "Atk",
          "Atk",
          "Atk",
          "Atk",
          "Atk",
          "Atk",
          "Atk",
          "Atk",
          "Atk",
          "Atk",
          "Atk",
          "Atk",
          "Atk",
          "Atk",
          "Atk",
          "Atk",
          "Atk",
          "Atk",
          "Atk",
          "Atk",
          "Atk",
          "Atk",
          "Atk",
          "Atk",
          "Atk",
          "Atk",
          "Atk",
          "Atk",
          "Atk",
          "Atk",
          "Atk",
          "Atk",
          "Atk",
          "Atk",
          "Atk",
          "Atk",
          "Atk",
          "Atk",
          "Atk",
          "Atk",
          "Atk",
          "Atk",
          "Atk",
          "Atk",
          "Atk",
          "Atk",
          "Atk",
          "Atk",
          "Atk",
          "Atk",
          "Atk",
          "Atk",
          "Atk",
          "Atk",
          "Atk",
          "Atk",
          "Atk",
          "Atk",
          "Atk",
          "Atk",
          "Atk",
          "Atk",
          "Atk",
          "Atk",
          "Atk",
          "Atk",
          "Atk",
          "Atk",
          "Atk",
          "Atk",
          "Atk",
          "Atk",
          "Atk",
          "Atk",
          "Atk",
          "Atk",
          "Atk",
          "Atk",
          "Atk",
          "Atk",
          "Atk",
          "Atk",
          "Atk",
          "Atk",
          "Atk",
          "Atk",
          "Atk",
          "Atk",
          "Atk",
          "Atk",
          "Atk",
          "Atk",
          "Atk",
          "Atk",
          "Atk",
          "Atk",
          "Atk",
          "Atk",
          "Atk",
          "Atk",
          "Atk",
          "Atk",
          "Atk",
          "Atk",
          "Atk",
          "Atk",
          "Atk",
          "Atk",
          "Atk",
          "Atk",
          "Atk",
          "Atk",
          "Atk",
          "Atk",
          "Atk",
          "Atk",
          "Atk",
          "Atk",
          "Atk",
          "Atk",
          "Atk",
          "Atk",
          "Atk",
          "Atk",
          "Atk",
          "Atk",
          "Atk",
          "Atk",
          "Atk",
          "Atk",
          "Atk",
          "Atk",
          "Atk",
          "Atk",
          "Atk",
          "Atk",
          "Atk",
          "Atk",
          "Atk",
          "Atk",
          "Atk",
          "Atk",
          "Atk",
          "Atk",
          "Atk",
          "Atk",
          "Atk",
          "Atk",
          "Atk",
          "Atk",
          "Atk",
          "Atk",
          "Atk",
          "Atk",
          "Atk",
          "Atk",
          "Atk",
          "Atk",
          "Atk",
          "Atk",
          "Atk",
          "Atk",
          "Atk",
          "Atk",
          "Atk",
          "Atk",
          "Atk",
          "Atk",
          "Atk",
          "Atk",
          "Atk",
          "Atk",
          "Atk",
          "Atk",
          "Atk",
          "Atk",
          "Atk",
          "Atk",
          "Atk",
          "Atk",
          "Atk",
          "Atk",
          "Atk",
          "Atk",
          "Atk",
          "Atk",
          "Atk",
          "Atk",
          "Atk",
          "Atk",
          "Atk",
          "Atk",
          "Atk",
          "Atk",
          "Atk",
          "Atk",
          "Atk",
          "Atk",
          "Atk",
          "Atk",
          "Atk",
          "Atk",
          "Atk",
          "Atk",
          "Atk",
          "Atk",
          "Atk",
          "Atk",
          "Atk",
          "Atk",
          "Atk",
          "Atk",
          "Atk",
          "Atk",
          "Atk",
          "Atk",
          "Atk",
          "Atk",
          "Atk",
          "Atk",
          "Atk",
          "Atk",
          "Atk",
          "Atk",
          "Atk",
          "Atk",
          "Atk",
          "Atk",
          "Atk",
          "Atk",
          "Atk",
          "Atk",
          "Atk",
          "Atk",
          "Atk",
          "Atk",
          "Atk",
          "Atk",
          "Atk",
          "Atk",
          "Atk",
          "Atk",
          "Atk",
          "Atk",
          "Atk",
          "Atk",
          "Atk",
          "Atk",
          "Atk",
          "Atk",
          "Atk",
          "Atk",
          "Atk",
          "Atk",
          "Atk",
          "Atk",
          "Atk",
          "Atk",
          "Atk",
          "Atk",
          "Atk",
          "Atk",
          "Atk",
          "Atk",
          "Atk",
          "Atk",
          "Atk",
          "Atk",
          "Atk",
          "Atk",
          "Atk",
          "Atk",
          "Atk",
          "Atk",
          "Atk",
          "Atk",
          "Atk",
          "Atk",
          "Atk",
          "Atk",
          "Atk",
          "Atk",
          "Atk",
          "Atk",
          "Atk",
          "Atk",
          "Atk",
          "Atk",
          "Atk",
          "Atk",
          "Atk",
          "Atk",
          "Atk",
          "Atk",
          "Atk",
          "Atk",
          "Atk",
          "Atk",
          "Atk",
          "Atk",
          "Atk",
          "Atk",
          "Atk",
          "Atk",
          "Atk",
          "Atk",
          "Atk",
          "Atk",
          "Atk",
          "Atk",
          "Atk",
          "Atk",
          "Atk",
          "Atk",
          "Atk",
          "Atk",
          "Atk",
          "Atk",
          "Atk",
          "Atk",
          "Atk",
          "Atk",
          "Atk",
          "Atk",
          "Atk",
          "Atk",
          "Atk",
          "Atk",
          "Atk",
          "Atk",
          "Atk",
          "Atk",
          "Atk",
          "Atk",
          "Atk",
          "Atk",
          "Atk",
          "Atk",
          "Atk",
          "Atk",
          "Atk",
          "Atk",
          "Atk",
          "Atk",
          "Atk",
          "Atk",
          "Atk",
          "Atk",
          "Atk",
          "Atk",
          "Atk",
          "Atk",
          "Atk",
          "Atk",
          "Atk",
          "Atk",
          "Atk",
          "Atk",
          "Atk",
          "Atk",
          "Atk",
          "Atk",
          "Atk",
          "Atk",
          "Atk",
          "Atk",
          "Atk",
          "Atk",
          "Atk",
          "Atk",
          "Atk",
          "Atk",
          "Atk",
          "Atk",
          "Atk",
          "Atk",
          "Atk",
          "Atk",
          "Atk",
          "Atk",
          "Atk",
          "Atk",
          "Atk",
          "Atk",
          "Atk",
          "Atk",
          "Atk",
          "Atk",
          "Atk",
          "Atk",
          "Atk",
          "Atk",
          "Atk",
          "Atk",
          "Atk",
          "Atk",
          "Atk",
          "Atk",
          "Atk",
          "Atk",
          "Atk",
          "Atk",
          "Atk",
          "Atk",
          "Atk",
          "Atk",
          "Atk",
          "Atk",
          "Atk",
          "Atk",
          "Atk",
          "Atk",
          "Atk",
          "Atk",
          "Atk",
          "Atk",
          "Atk",
          "Atk",
          "Atk",
          "Atk",
          "Atk",
          "Atk",
          "Atk",
          "Atk",
          "Atk",
          "Atk",
          "Atk",
          "Atk",
          "Atk",
          "Atk",
          "Atk",
          "Atk",
          "Atk",
          "Atk",
          "Atk",
          "Atk",
          "Atk",
          "Atk",
          "Atk",
          "Atk",
          "Atk",
          "Atk",
          "Atk",
          "Atk",
          "Atk",
          "Atk",
          "Atk",
          "Atk",
          "Atk",
          "Atk",
          "Atk",
          "Atk",
          "Atk",
          "Atk",
          "Atk",
          "Atk",
          "Atk",
          "Atk",
          "Atk",
          "Atk",
          "Atk",
          "Atk",
          "Atk",
          "Atk",
          "Atk",
          "Atk",
          "Atk",
          "Atk",
          "Atk",
          "Atk",
          "Atk",
          "Atk",
          "Atk",
          "Atk",
          "Atk",
          "Atk",
          "Atk",
          "Atk",
          "Atk",
          "Atk",
          "Atk",
          "Atk",
          "Atk",
          "Atk",
          "Atk",
          "Atk",
          "Atk",
          "Atk",
          "Atk",
          "Atk",
          "Atk",
          "Atk",
          "Atk",
          "Atk",
          "Atk",
          "Atk",
          "Atk",
          "Atk",
          "Atk",
          "Atk",
          "Atk",
          "Atk",
          "Atk",
          "Atk",
          "Atk",
          "Atk",
          "Atk",
          "Atk",
          "Atk",
          "Atk",
          "Atk",
          "Atk",
          "Atk",
          "Atk",
          "Atk",
          "Atk",
          "Atk",
          "Atk",
          "Atk",
          "Atk",
          "Atk",
          "Atk",
          "Atk",
          "Atk",
          "Atk",
          "Atk",
          "Atk",
          "Atk",
          "Atk",
          "Atk",
          "Atk",
          "Atk",
          "Atk",
          "Atk",
          "Atk",
          "Atk",
          "Atk",
          "Atk",
          "Atk",
          "Atk",
          "Atk",
          "Atk",
          "Atk",
          "Atk",
          "Atk",
          "Atk",
          "Atk",
          "Atk",
          "Atk",
          "Atk",
          "Atk",
          "Atk",
          "Atk",
          "Atk",
          "Atk",
          "Atk",
          "Atk",
          "Atk",
          "Atk",
          "Atk",
          "Atk",
          "Atk",
          "Atk",
          "Atk",
          "Atk",
          "Atk",
          "Atk",
          "Atk",
          "Atk",
          "Atk",
          "Atk",
          "Atk",
          "Atk",
          "Atk",
          "Atk",
          "Atk",
          "Atk",
          "Atk",
          "Atk",
          "Atk",
          "Atk",
          "Atk",
          "Atk",
          "Atk",
          "Atk",
          "Atk",
          "Atk",
          "Atk",
          "Atk",
          "Atk",
          "Atk",
          "Atk",
          "Atk",
          "Atk",
          "Atk",
          "Atk",
          "Atk",
          "Atk",
          "Atk",
          "Atk",
          "Atk",
          "Atk",
          "Atk",
          "Spd",
          "Spd",
          "Spd",
          "Spd",
          "Spd",
          "Spd",
          "Spd",
          "Spd",
          "Spd",
          "Spd",
          "Spd",
          "Spd",
          "Spd",
          "Spd",
          "Spd",
          "Spd",
          "Spd",
          "Spd",
          "Spd",
          "Spd",
          "Spd",
          "Spd",
          "Spd",
          "Spd",
          "Spd",
          "Spd",
          "Spd",
          "Spd",
          "Spd",
          "Spd",
          "Spd",
          "Spd",
          "Spd",
          "Spd",
          "Spd",
          "Spd",
          "Spd",
          "Spd",
          "Spd",
          "Spd",
          "Spd",
          "Spd",
          "Spd",
          "Spd",
          "Spd",
          "Spd",
          "Spd",
          "Spd",
          "Spd",
          "Spd",
          "Spd",
          "Spd",
          "Spd",
          "Spd",
          "Spd",
          "Spd",
          "Spd",
          "Spd",
          "Spd",
          "Spd",
          "Spd",
          "Spd",
          "Spd",
          "Spd",
          "Spd",
          "Spd",
          "Spd",
          "Spd",
          "Spd",
          "Spd",
          "Spd",
          "Spd",
          "Spd",
          "Spd",
          "Spd",
          "Spd",
          "Spd",
          "Spd",
          "Spd",
          "Spd",
          "Spd",
          "Spd",
          "Spd",
          "Spd",
          "Spd",
          "Spd",
          "Spd",
          "Spd",
          "Spd",
          "Spd",
          "Spd",
          "Spd",
          "Spd",
          "Spd",
          "Spd",
          "Spd",
          "Spd",
          "Spd",
          "Spd",
          "Spd",
          "Spd",
          "Spd",
          "Spd",
          "Spd",
          "Spd",
          "Spd",
          "Spd",
          "Spd",
          "Spd",
          "Spd",
          "Spd",
          "Spd",
          "Spd",
          "Spd",
          "Spd",
          "Spd",
          "Spd",
          "Spd",
          "Spd",
          "Spd",
          "Spd",
          "Spd",
          "Spd",
          "Spd",
          "Spd",
          "Spd",
          "Spd",
          "Spd",
          "Spd",
          "Spd",
          "Spd",
          "Spd",
          "Spd",
          "Spd",
          "Spd",
          "Spd",
          "Spd",
          "Spd",
          "Spd",
          "Spd",
          "Spd",
          "Spd",
          "Spd",
          "Spd",
          "Spd",
          "Spd",
          "Spd",
          "Spd",
          "Spd",
          "Spd",
          "Spd",
          "Spd",
          "Spd",
          "Spd",
          "Spd",
          "Spd",
          "Spd",
          "Spd",
          "Spd",
          "Spd",
          "Spd",
          "Spd",
          "Spd",
          "Spd",
          "Spd",
          "Spd",
          "Spd",
          "Spd",
          "Spd",
          "Spd",
          "Spd",
          "Spd",
          "Spd",
          "Spd",
          "Spd",
          "Spd",
          "Spd",
          "Spd",
          "Spd",
          "Spd",
          "Spd",
          "Spd",
          "Spd",
          "Spd",
          "Spd",
          "Spd",
          "Spd",
          "Spd",
          "Spd",
          "Spd",
          "Spd",
          "Spd",
          "Spd",
          "Spd",
          "Spd",
          "Spd",
          "Spd",
          "Spd",
          "Spd",
          "Spd",
          "Spd",
          "Spd",
          "Spd",
          "Spd",
          "Spd",
          "Spd",
          "Spd",
          "Spd",
          "Spd",
          "Spd",
          "Spd",
          "Spd",
          "Spd",
          "Spd",
          "Spd",
          "Spd",
          "Spd",
          "Spd",
          "Spd",
          "Spd",
          "Spd",
          "Spd",
          "Spd",
          "Spd",
          "Spd",
          "Spd",
          "Spd",
          "Spd",
          "Spd",
          "Spd",
          "Spd",
          "Spd",
          "Spd",
          "Spd",
          "Spd",
          "Spd",
          "Spd",
          "Spd",
          "Spd",
          "Spd",
          "Spd",
          "Spd",
          "Spd",
          "Spd",
          "Spd",
          "Spd",
          "Spd",
          "Spd",
          "Spd",
          "Spd",
          "Spd",
          "Spd",
          "Spd",
          "Spd",
          "Spd",
          "Spd",
          "Spd",
          "Spd",
          "Spd",
          "Spd",
          "Spd",
          "Spd",
          "Spd",
          "Spd",
          "Spd",
          "Spd",
          "Spd",
          "Spd",
          "Spd",
          "Spd",
          "Spd",
          "Spd",
          "Spd",
          "Spd",
          "Spd",
          "Spd",
          "Spd",
          "Spd",
          "Spd",
          "Spd",
          "Spd",
          "Spd",
          "Spd",
          "Spd",
          "Spd",
          "Spd",
          "Spd",
          "Spd",
          "Spd",
          "Spd",
          "Spd",
          "Spd",
          "Spd",
          "Spd",
          "Spd",
          "Spd",
          "Spd",
          "Spd",
          "Spd",
          "Spd",
          "Spd",
          "Spd",
          "Spd",
          "Spd",
          "Spd",
          "Spd",
          "Spd",
          "Spd",
          "Spd",
          "Spd",
          "Spd",
          "Spd",
          "Spd",
          "Spd",
          "Spd",
          "Spd",
          "Spd",
          "Spd",
          "Spd",
          "Spd",
          "Spd",
          "Spd",
          "Spd",
          "Spd",
          "Spd",
          "Spd",
          "Spd",
          "Spd",
          "Spd",
          "Spd",
          "Spd",
          "Spd",
          "Spd",
          "Spd",
          "Spd",
          "Spd",
          "Spd",
          "Spd",
          "Spd",
          "Spd",
          "Spd",
          "Spd",
          "Spd",
          "Spd",
          "Spd",
          "Spd",
          "Spd",
          "Spd",
          "Spd",
          "Spd",
          "Spd",
          "Spd",
          "Spd",
          "Spd",
          "Spd",
          "Spd",
          "Spd",
          "Spd",
          "Spd",
          "Spd",
          "Spd",
          "Spd",
          "Spd",
          "Spd",
          "Spd",
          "Spd",
          "Spd",
          "Spd",
          "Spd",
          "Spd",
          "Spd",
          "Spd",
          "Spd",
          "Spd",
          "Spd",
          "Spd",
          "Spd",
          "Spd",
          "Spd",
          "Spd",
          "Spd",
          "Spd",
          "Spd",
          "Spd",
          "Spd",
          "Spd",
          "Spd",
          "Spd",
          "Spd",
          "Spd",
          "Spd",
          "Spd",
          "Spd",
          "Spd",
          "Spd",
          "Spd",
          "Spd",
          "Spd",
          "Spd",
          "Spd",
          "Spd",
          "Spd",
          "Spd",
          "Spd",
          "Spd",
          "Spd",
          "Spd",
          "Spd",
          "Spd",
          "Spd",
          "Spd",
          "Spd",
          "Spd",
          "Spd",
          "Spd",
          "Spd",
          "Spd",
          "Spd",
          "Spd",
          "Spd",
          "Spd",
          "Spd",
          "Spd",
          "Spd",
          "Spd",
          "Spd",
          "Spd",
          "Spd",
          "Spd",
          "Spd",
          "Spd",
          "Spd",
          "Spd",
          "Spd",
          "Spd",
          "Spd",
          "Spd",
          "Spd",
          "Spd",
          "Spd",
          "Spd",
          "Spd",
          "Spd",
          "Spd",
          "Spd",
          "Spd",
          "Spd",
          "Spd",
          "Spd",
          "Spd",
          "Spd",
          "Spd",
          "Spd",
          "Spd",
          "Spd",
          "Spd",
          "Spd",
          "Spd",
          "Spd",
          "Spd",
          "Spd",
          "Spd",
          "Spd",
          "Spd",
          "Spd",
          "Spd",
          "Spd",
          "Spd",
          "Spd",
          "Spd",
          "Spd",
          "Spd",
          "Spd",
          "Spd",
          "Spd",
          "Spd",
          "Spd",
          "Spd",
          "Spd",
          "Spd",
          "Spd",
          "Spd",
          "Spd",
          "Spd",
          "Spd",
          "Spd",
          "Spd",
          "Spd",
          "Spd",
          "Spd",
          "Spd",
          "Spd",
          "Spd",
          "Spd",
          "Spd",
          "Spd",
          "Spd",
          "Spd",
          "Spd",
          "Spd",
          "Spd",
          "Spd",
          "Spd",
          "Spd",
          "Spd",
          "Spd",
          "Spd",
          "Spd",
          "Spd",
          "Spd",
          "Spd",
          "Spd",
          "Spd",
          "Spd",
          "Spd",
          "Spd",
          "Spd",
          "Spd",
          "Spd",
          "Spd",
          "Spd",
          "Spd",
          "Spd",
          "Spd",
          "Spd",
          "Spd",
          "Spd",
          "Spd",
          "Spd",
          "Spd",
          "Spd",
          "Spd",
          "Spd",
          "Spd",
          "Spd",
          "Spd",
          "Spd",
          "Spd",
          "Spd",
          "Spd",
          "Spd",
          "Spd",
          "Spd",
          "Spd",
          "Spd",
          "Spd",
          "Spd",
          "Spd",
          "Spd",
          "Spd",
          "Spd",
          "Spd",
          "Spd",
          "Spd",
          "Spd",
          "Spd",
          "Spd",
          "Spd",
          "Spd",
          "Spd",
          "Spd",
          "Spd",
          "Spd",
          "Spd",
          "Spd",
          "Spd",
          "Spd",
          "Spd",
          "Spd",
          "Spd",
          "Spd",
          "Spd",
          "Spd",
          "Spd",
          "Spd",
          "Spd",
          "Spd",
          "Spd",
          "Spd",
          "Spd",
          "Spd",
          "Spd",
          "Spd",
          "Spd",
          "Spd",
          "Spd",
          "Spd",
          "Spd",
          "Spd",
          "Spd",
          "Spd",
          "Spd",
          "Spd",
          "Spd",
          "Spd",
          "Spd",
          "Spd",
          "Spd",
          "Spd",
          "Spd",
          "Spd",
          "Spd",
          "Spd",
          "Spd",
          "Spd",
          "Spd",
          "Spd",
          "Spd",
          "Spd",
          "Spd",
          "Spd",
          "Spd",
          "Spd",
          "Spd",
          "Spd",
          "Spd",
          "Spd",
          "Spd",
          "Spd",
          "Spd",
          "Spd",
          "Spd",
          "Spd",
          "Spd",
          "Spd",
          "Spd",
          "Spd",
          "Spd",
          "Spd",
          "Spd",
          "Spd",
          "Spd",
          "Spd",
          "Spd",
          "Spd",
          "Spd",
          "Spd",
          "Spd",
          "Spd",
          "Spd",
          "Spd",
          "Spd",
          "Spd",
          "Spd",
          "Spd",
          "Spd",
          "Spd",
          "Spd",
          "Spd",
          "Spd",
          "Spd",
          "Spd",
          "Spd",
          "Spd",
          "Spd",
          "Spd",
          "Spd",
          "Spd",
          "Spd",
          "Spd",
          "Spd",
          "Spd",
          "Spd",
          "Spd",
          "Spd",
          "Spd",
          "Spd",
          "Spd",
          "Spd",
          "Spd",
          "Spd",
          "Spd",
          "Spd",
          "Spd",
          "Spd",
          "Spd",
          "Spd",
          "Spd",
          "Spd",
          "Spd",
          "Spd",
          "Spd",
          "Spd",
          "Spd",
          "Spd",
          "Spd",
          "Spd",
          "Spd",
          "Spd",
          "Spd",
          "Spd",
          "Spd",
          "Spd",
          "Spd",
          "Spd",
          "Spd",
          "Spd",
          "Spd",
          "Spd",
          "Spd",
          "Spd",
          "Spd",
          "Spd",
          "Spd",
          "Spd",
          "Spd",
          "Spd",
          "Spd",
          "Spd",
          "Spd",
          "Spd",
          "Spd",
          "Spd",
          "Spd",
          "Spd",
          "Spd",
          "Spd",
          "Spd",
          "Spd",
          "Spd",
          "Spd",
          "Spd",
          "Spd",
          "Spd",
          "Spd",
          "Spd",
          "Spd",
          "Spd",
          "Spd",
          "Spd",
          "Spd",
          "Spd",
          "Spd",
          "Spd",
          "Spd",
          "Spd",
          "Spd",
          "Spd",
          "Spd",
          "Spd",
          "Spd",
          "Spd",
          "Spd",
          "Spd",
          "Spd",
          "Spd",
          "Spd",
          "Spd",
          "Spd",
          "Spd",
          "Spd",
          "Spd",
          "Spd",
          "Spd",
          "Spd",
          "Spd",
          "Spd",
          "Spd",
          "Spd",
          "Spd",
          "Spd",
          "Spd",
          "Spd",
          "Spd",
          "Spd",
          "Spd",
          "Spd",
          "Spd",
          "Spd",
          "Spd",
          "Spd",
          "Spd",
          "Spd",
          "Spd",
          "Spd",
          "Spd",
          "Spd",
          "Spd",
          "Spd",
          "Spd",
          "Spd",
          "Spd",
          "Spd",
          "Spd",
          "Spd",
          "Spd",
          "Spd",
          "Spd",
          "Spd",
          "Spd",
          "Spd",
          "Spd",
          "Spd",
          "Spd",
          "Spd",
          "Spd",
          "Spd",
          "Spd",
          "Spd",
          "Spd",
          "Spd",
          "Spd",
          "Spd",
          "Spd",
          "Spd",
          "Spd",
          "Spd",
          "Spd",
          "Spd",
          "Spd",
          "Spd",
          "Spd",
          "Spd",
          "Spd",
          "Spd",
          "Spd",
          "Spd",
          "Spd",
          "Spd",
          "Spd",
          "Spd",
          "Spd",
          "Spd",
          "Spd",
          "Spd",
          "Spd",
          "Spd",
          "Spd",
          "Spd",
          "Spd",
          "Spd",
          "Spd",
          "Spd",
          "Spd",
          "Spd",
          "Spd",
          "Spd",
          "Spd",
          "Spd",
          "Spd",
          "Spd",
          "Spd",
          "Spd",
          "Spd",
          "Spd",
          "Spd",
          "Spd",
          "Spd",
          "Spd",
          "Spd",
          "Spd",
          "Spd",
          "Spd",
          "Spd",
          "Spd",
          "Spd",
          "Spd",
          "Spd",
          "Spd",
          "Spd",
          "Spd",
          "Spd",
          "Spd",
          "Spd",
          "Spd",
          "Spd",
          "Spd",
          "Spd",
          "Spd",
          "Spd",
          "Spd",
          "Spd",
          "Spd",
          "Spd",
          "Spd",
          "Spd",
          "Spd",
          "Spd",
          "Spd",
          "Spd",
          "Spd",
          "Spd",
          "Spd",
          "Spd",
          "Spd",
          "Spd",
          "Spd",
          "Spd",
          "Spd",
          "Spd",
          "Spd",
          "Spd",
          "Spd",
          "Spd",
          "Spd",
          "Spd",
          "Spd",
          "Spd",
          "Spd",
          "Spd",
          "Spd",
          "Spd",
          "Spd",
          "Spd",
          "Spd",
          "Spd",
          "Spd",
          "Spd",
          "Spd",
          "Spd",
          "Spd",
          "Spd",
          "Spd",
          "Spd",
          "Spd",
          "Spd",
          "Spd",
          "Spd",
          "Spd",
          "Spd",
          "Spd",
          "Spd",
          "Spd",
          "Spd",
          "Spd",
          "Spd",
          "Spd",
          "Spd",
          "Spd",
          "Spd",
          "Spd",
          "Spd",
          "Spd",
          "Spd",
          "Spd",
          "Spd",
          "Spd",
          "Spd",
          "Spd",
          "Spd",
          "Spd",
          "Spd",
          "Spd",
          "Spd",
          "Spd",
          "Spd",
          "Spd",
          "Spd",
          "Spd",
          "Spd",
          "Spd",
          "Spd",
          "Spd",
          "Spd",
          "Spd",
          "Spd",
          "Spd",
          "Spd",
          "Spd",
          "Spd",
          "Spd",
          "Spd",
          "Spd",
          "Spd",
          "Spd",
          "Spd",
          "Spd",
          "Spd",
          "Spd",
          "Spd",
          "Spd",
          "Spd",
          "Spd",
          "Spd",
          "Spd",
          "Spd",
          "Spd",
          "Spd",
          "Spd",
          "Spd",
          "Spd",
          "Spd",
          "Spd",
          "Spd",
          "Spd",
          "Spd",
          "Spd",
          "Spd",
          "Spd",
          "Spd",
          "Spd",
          "Spd",
          "Spd",
          "Spd",
          "Spd",
          "Spd",
          "Spd",
          "Spd",
          "Spd",
          "Spd",
          "Spd",
          "Spd",
          "Spd",
          "Spd",
          "Spd",
          "Spd",
          "Spd",
          "Spd",
          "Spd",
          "Spd",
          "Spd",
          "Spd",
          "Spd",
          "Spd",
          "Spd",
          "Spd",
          "Spd",
          "Spd",
          "Spd",
          "Spd",
          "Spd",
          "Spd",
          "Spd",
          "Spd",
          "Spd",
          "Spd",
          "Spd",
          "Spd",
          "Spd",
          "Spd",
          "Spd",
          "Spd",
          "Spd",
          "Spd",
          "Spd",
          "Spd",
          "Spd",
          "Spd",
          "Spd",
          "Spd",
          "Spd",
          "Spd",
          "Spd",
          "Spd",
          "Spd",
          "Spd",
          "Spd",
          "Spd",
          "Spd",
          "Spd",
          "Spd",
          "Spd",
          "Spd",
          "Spd",
          "Spd",
          "Spd",
          "Spd",
          "Spd",
          "Spd",
          "Spd",
          "Spd",
          "Spd",
          "Spd",
          "Spd",
          "Spd",
          "Spd",
          "Spd",
          "Spd",
          "Spd",
          "Spd",
          "Spd",
          "Spd",
          "Spd",
          "Spd",
          "Spd",
          "Spd",
          "Spd",
          "Spd",
          "Spd",
          "Spd",
          "Spd",
          "Spd",
          "Spd",
          "Spd",
          "Spd",
          "Spd",
          "Spd",
          "Spd",
          "Spd",
          "Spd",
          "Spd",
          "Spd",
          "Spd",
          "Spd",
          "Spd",
          "Spd",
          "Spd",
          "Spd",
          "Spd",
          "Spd",
          "Spd",
          "Spd",
          "Spd",
          "Spd",
          "Spd",
          "Spd",
          "Spd",
          "Spd",
          "Spd",
          "Spd",
          "Spd",
          "Spd",
          "Spd",
          "Spd",
          "Spd",
          "Spd",
          "Spd",
          "Spd",
          "Spd",
          "Spd",
          "Spd",
          "Spd",
          "Spd",
          "Spd",
          "Spd",
          "Spd",
          "Spd",
          "Spd",
          "Spd",
          "Spd",
          "Spd",
          "Spd",
          "Spd",
          "Spd",
          "Spd",
          "Spd",
          "Spd",
          "Spd",
          "Spd",
          "Spd",
          "Spd",
          "Spd",
          "Spd",
          "Spd",
          "Spd",
          "Spd",
          "Spd",
          "Spd",
          "Spd",
          "Spd",
          "Spd",
          "Spd",
          "Spd",
          "Spd",
          "Spd",
          "Spd",
          "Spd",
          "Spd",
          "Spd",
          "Spd",
          "Spd",
          "Spd",
          "Spd",
          "Spd",
          "Spd",
          "Spd",
          "Spd",
          "Spd",
          "Spd",
          "Spd",
          "Spd",
          "Spd",
          "Spd",
          "Spd",
          "Spd",
          "Spd",
          "Spd",
          "Spd",
          "Spd",
          "Spd",
          "Spd",
          "Spd",
          "Spd",
          "Spd",
          "Spd",
          "Spd",
          "Spd",
          "Spd",
          "Spd",
          "Spd",
          "Spd",
          "Spd",
          "Spd",
          "Spd",
          "Spd",
          "Spd",
          "Spd",
          "Spd",
          "Spd",
          "Spd",
          "Spd",
          "Spd",
          "Spd",
          "Spd",
          "Spd",
          "Spd",
          "Spd",
          "Spd",
          "Spd",
          "Spd",
          "Spd",
          "Spd",
          "Spd",
          "Spd",
          "Spd",
          "Spd",
          "Spd",
          "Spd",
          "Spd",
          "Spd",
          "Spd",
          "Spd",
          "Spd",
          "Spd",
          "Spd",
          "Spd",
          "Spd",
          "Spd",
          "Spd",
          "Spd",
          "Spd",
          "Spd",
          "Spd",
          "Spd",
          "Spd",
          "Spd",
          "Spd",
          "Spd",
          "Spd",
          "Spd",
          "Spd",
          "Spd",
          "Spd",
          "Spd",
          "Spd",
          "Spd",
          "Spd",
          "Spd",
          "Spd",
          "Spd",
          "Spd",
          "Spd",
          "Spd",
          "Spd",
          "Spd",
          "Spd",
          "Spd",
          "Def",
          "Def",
          "Def",
          "Def",
          "Def",
          "Def",
          "Def",
          "Def",
          "Def",
          "Def",
          "Def",
          "Def",
          "Def",
          "Def",
          "Def",
          "Def",
          "Def",
          "Def",
          "Def",
          "Def",
          "Def",
          "Def",
          "Def",
          "Def",
          "Def",
          "Def",
          "Def",
          "Def",
          "Def",
          "Def",
          "Def",
          "Def",
          "Def",
          "Def",
          "Def",
          "Def",
          "Def",
          "Def",
          "Def",
          "Def",
          "Def",
          "Def",
          "Def",
          "Def",
          "Def",
          "Def",
          "Def",
          "Def",
          "Def",
          "Def",
          "Def",
          "Def",
          "Def",
          "Def",
          "Def",
          "Def",
          "Def",
          "Def",
          "Def",
          "Def",
          "Def",
          "Def",
          "Def",
          "Def",
          "Def",
          "Def",
          "Def",
          "Def",
          "Def",
          "Def",
          "Def",
          "Def",
          "Def",
          "Def",
          "Def",
          "Def",
          "Def",
          "Def",
          "Def",
          "Def",
          "Def",
          "Def",
          "Def",
          "Def",
          "Def",
          "Def",
          "Def",
          "Def",
          "Def",
          "Def",
          "Def",
          "Def",
          "Def",
          "Def",
          "Def",
          "Def",
          "Def",
          "Def",
          "Def",
          "Def",
          "Def",
          "Def",
          "Def",
          "Def",
          "Def",
          "Def",
          "Def",
          "Def",
          "Def",
          "Def",
          "Def",
          "Def",
          "Def",
          "Def",
          "Def",
          "Def",
          "Def",
          "Def",
          "Def",
          "Def",
          "Def",
          "Def",
          "Def",
          "Def",
          "Def",
          "Def",
          "Def",
          "Def",
          "Def",
          "Def",
          "Def",
          "Def",
          "Def",
          "Def",
          "Def",
          "Def",
          "Def",
          "Def",
          "Def",
          "Def",
          "Def",
          "Def",
          "Def",
          "Def",
          "Def",
          "Def",
          "Def",
          "Def",
          "Def",
          "Def",
          "Def",
          "Def",
          "Def",
          "Def",
          "Def",
          "Def",
          "Def",
          "Def",
          "Def",
          "Def",
          "Def",
          "Def",
          "Def",
          "Def",
          "Def",
          "Def",
          "Def",
          "Def",
          "Def",
          "Def",
          "Def",
          "Def",
          "Def",
          "Def",
          "Def",
          "Def",
          "Def",
          "Def",
          "Def",
          "Def",
          "Def",
          "Def",
          "Def",
          "Def",
          "Def",
          "Def",
          "Def",
          "Def",
          "Def",
          "Def",
          "Def",
          "Def",
          "Def",
          "Def",
          "Def",
          "Def",
          "Def",
          "Def",
          "Def",
          "Def",
          "Def",
          "Def",
          "Def",
          "Def",
          "Def",
          "Def",
          "Def",
          "Def",
          "Def",
          "Def",
          "Def",
          "Def",
          "Def",
          "Def",
          "Def",
          "Def",
          "Def",
          "Def",
          "Def",
          "Def",
          "Def",
          "Def",
          "Def",
          "Def",
          "Def",
          "Def",
          "Def",
          "Def",
          "Def",
          "Def",
          "Def",
          "Def",
          "Def",
          "Def",
          "Def",
          "Def",
          "Def",
          "Def",
          "Def",
          "Def",
          "Def",
          "Def",
          "Def",
          "Def",
          "Def",
          "Def",
          "Def",
          "Def",
          "Def",
          "Def",
          "Def",
          "Def",
          "Def",
          "Def",
          "Def",
          "Def",
          "Def",
          "Def",
          "Def",
          "Def",
          "Def",
          "Def",
          "Def",
          "Def",
          "Def",
          "Def",
          "Def",
          "Def",
          "Def",
          "Def",
          "Def",
          "Def",
          "Def",
          "Def",
          "Def",
          "Def",
          "Def",
          "Def",
          "Def",
          "Def",
          "Def",
          "Def",
          "Def",
          "Def",
          "Def",
          "Def",
          "Def",
          "Def",
          "Def",
          "Def",
          "Def",
          "Def",
          "Def",
          "Def",
          "Def",
          "Def",
          "Def",
          "Def",
          "Def",
          "Def",
          "Def",
          "Def",
          "Def",
          "Def",
          "Def",
          "Def",
          "Def",
          "Def",
          "Def",
          "Def",
          "Def",
          "Def",
          "Def",
          "Def",
          "Def",
          "Def",
          "Def",
          "Def",
          "Def",
          "Def",
          "Def",
          "Def",
          "Def",
          "Def",
          "Def",
          "Def",
          "Def",
          "Def",
          "Def",
          "Def",
          "Def",
          "Def",
          "Def",
          "Def",
          "Def",
          "Def",
          "Def",
          "Def",
          "Def",
          "Def",
          "Def",
          "Def",
          "Def",
          "Def",
          "Def",
          "Def",
          "Def",
          "Def",
          "Def",
          "Def",
          "Def",
          "Def",
          "Def",
          "Def",
          "Def",
          "Def",
          "Def",
          "Def",
          "Def",
          "Def",
          "Def",
          "Def",
          "Def",
          "Def",
          "Def",
          "Def",
          "Def",
          "Def",
          "Def",
          "Def",
          "Def",
          "Def",
          "Def",
          "Def",
          "Def",
          "Def",
          "Def",
          "Def",
          "Def",
          "Def",
          "Def",
          "Def",
          "Def",
          "Def",
          "Def",
          "Def",
          "Def",
          "Def",
          "Def",
          "Def",
          "Def",
          "Def",
          "Def",
          "Def",
          "Def",
          "Def",
          "Def",
          "Def",
          "Def",
          "Def",
          "Def",
          "Def",
          "Def",
          "Def",
          "Def",
          "Def",
          "Def",
          "Def",
          "Def",
          "Def",
          "Def",
          "Def",
          "Def",
          "Def",
          "Def",
          "Def",
          "Def",
          "Def",
          "Def",
          "Def",
          "Def",
          "Def",
          "Def",
          "Def",
          "Def",
          "Def",
          "Def",
          "Def",
          "Def",
          "Def",
          "Def",
          "Def",
          "Def",
          "Def",
          "Def",
          "Def",
          "Def",
          "Def",
          "Def",
          "Def",
          "Def",
          "Def",
          "Def",
          "Def",
          "Def",
          "Def",
          "Def",
          "Def",
          "Def",
          "Def",
          "Def",
          "Def",
          "Def",
          "Def",
          "Def",
          "Def",
          "Def",
          "Def",
          "Def",
          "Def",
          "Def",
          "Def",
          "Def",
          "Def",
          "Def",
          "Def",
          "Def",
          "Def",
          "Def",
          "Def",
          "Def",
          "Def",
          "Def",
          "Def",
          "Def",
          "Def",
          "Def",
          "Def",
          "Def",
          "Def",
          "Def",
          "Def",
          "Def",
          "Def",
          "Def",
          "Def",
          "Def",
          "Def",
          "Def",
          "Def",
          "Def",
          "Def",
          "Def",
          "Def",
          "Def",
          "Def",
          "Def",
          "Def",
          "Def",
          "Def",
          "Def",
          "Def",
          "Def",
          "Def",
          "Def",
          "Def",
          "Def",
          "Def",
          "Def",
          "Def",
          "Def",
          "Def",
          "Def",
          "Def",
          "Def",
          "Def",
          "Def",
          "Def",
          "Def",
          "Def",
          "Def",
          "Def",
          "Def",
          "Def",
          "Def",
          "Def",
          "Def",
          "Def",
          "Def",
          "Def",
          "Def",
          "Def",
          "Def",
          "Def",
          "Def",
          "Def",
          "Def",
          "Def",
          "Def",
          "Def",
          "Def",
          "Def",
          "Def",
          "Def",
          "Def",
          "Def",
          "Def",
          "Def",
          "Def",
          "Def",
          "Def",
          "Def",
          "Def",
          "Def",
          "Def",
          "Def",
          "Def",
          "Def",
          "Def",
          "Def",
          "Def",
          "Def",
          "Def",
          "Def",
          "Def",
          "Def",
          "Def",
          "Def",
          "Def",
          "Def",
          "Def",
          "Def",
          "Def",
          "Def",
          "Def",
          "Def",
          "Def",
          "Def",
          "Def",
          "Def",
          "Def",
          "Def",
          "Def",
          "Def",
          "Def",
          "Def",
          "Def",
          "Def",
          "Def",
          "Def",
          "Def",
          "Def",
          "Def",
          "Def",
          "Def",
          "Def",
          "Def",
          "Def",
          "Def",
          "Def",
          "Def",
          "Def",
          "Def",
          "Def",
          "Def",
          "Def",
          "Def",
          "Def",
          "Def",
          "Def",
          "Def",
          "Def",
          "Def",
          "Def",
          "Def",
          "Def",
          "Def",
          "Def",
          "Def",
          "Def",
          "Def",
          "Def",
          "Def",
          "Def",
          "Def",
          "Def",
          "Def",
          "Def",
          "Def",
          "Def",
          "Def",
          "Def",
          "Def",
          "Def",
          "Def",
          "Def",
          "Def",
          "Def",
          "Def",
          "Def",
          "Def",
          "Def",
          "Def",
          "Def",
          "Def",
          "Def",
          "Def",
          "Def",
          "Def",
          "Def",
          "Def",
          "Def",
          "Def",
          "Def",
          "Def",
          "Def",
          "Def",
          "Def",
          "Def",
          "Def",
          "Def",
          "Def",
          "Def",
          "Def",
          "Def",
          "Def",
          "Def",
          "Def",
          "Def",
          "Def",
          "Def",
          "Def",
          "Def",
          "Def",
          "Def",
          "Def",
          "Def",
          "Def",
          "Def",
          "Def",
          "Def",
          "Def",
          "Def",
          "Def",
          "Def",
          "Def",
          "Def",
          "Def",
          "Def",
          "Def",
          "Def",
          "Def",
          "Def",
          "Def",
          "Def",
          "Def",
          "Def",
          "Def",
          "Def",
          "Def",
          "Def",
          "Def",
          "Def",
          "Def",
          "Def",
          "Def",
          "Def",
          "Def",
          "Def",
          "Def",
          "Def",
          "Def",
          "Def",
          "Def",
          "Def",
          "Def",
          "Def",
          "Def",
          "Def",
          "Def",
          "Def",
          "Def",
          "Def",
          "Def",
          "Def",
          "Def",
          "Def",
          "Def",
          "Def",
          "Def",
          "Def",
          "Def",
          "Def",
          "Def",
          "Def",
          "Def",
          "Def",
          "Def",
          "Def",
          "Def",
          "Def",
          "Def",
          "Def",
          "Def",
          "Def",
          "Def",
          "Def",
          "Def",
          "Def",
          "Def",
          "Def",
          "Def",
          "Def",
          "Def",
          "Def",
          "Def",
          "Def",
          "Def",
          "Def",
          "Def",
          "Def",
          "Def",
          "Def",
          "Def",
          "Def",
          "Def",
          "Def",
          "Def",
          "Def",
          "Def",
          "Def",
          "Def",
          "Def",
          "Def",
          "Def",
          "Def",
          "Def",
          "Def",
          "Def",
          "Def",
          "Def",
          "Def",
          "Def",
          "Def",
          "Def",
          "Def",
          "Def",
          "Def",
          "Def",
          "Def",
          "Def",
          "Def",
          "Def",
          "Def",
          "Def",
          "Def",
          "Def",
          "Def",
          "Def",
          "Def",
          "Def",
          "Def",
          "Def",
          "Def",
          "Def",
          "Def",
          "Def",
          "Def",
          "Def",
          "Def",
          "Def",
          "Def",
          "Def",
          "Def",
          "Def",
          "Def",
          "Def",
          "Def",
          "Def",
          "Def",
          "Def",
          "Def",
          "Def",
          "Def",
          "Def",
          "Def",
          "Def",
          "Def",
          "Def",
          "Def",
          "Def",
          "Def",
          "Def",
          "Def",
          "Def",
          "Def",
          "Def",
          "Def",
          "Def",
          "Def",
          "Def",
          "Def",
          "Def",
          "Def",
          "Def",
          "Def",
          "Def",
          "Def",
          "Def",
          "Def",
          "Def",
          "Def",
          "Def",
          "Def",
          "Def",
          "Def",
          "Def",
          "Def",
          "Def",
          "Def",
          "Def",
          "Def",
          "Def",
          "Def",
          "Def",
          "Def",
          "Def",
          "Def",
          "Def",
          "Def",
          "Def",
          "Def",
          "Def",
          "Def",
          "Def",
          "Def",
          "Def",
          "Def",
          "Def",
          "Def",
          "Def",
          "Def",
          "Def",
          "Def",
          "Def",
          "Def",
          "Def",
          "Def",
          "Def",
          "Def",
          "Def",
          "Def",
          "Def",
          "Def",
          "Def",
          "Def",
          "Def",
          "Def",
          "Def",
          "Def",
          "Def",
          "Def",
          "Def",
          "Def",
          "Def",
          "Def",
          "Def",
          "Def",
          "Def",
          "Def",
          "Def",
          "Def",
          "Def",
          "Def",
          "Def",
          "Def",
          "Def",
          "Def",
          "Def",
          "Def",
          "Def",
          "Def",
          "Def",
          "Def",
          "Def",
          "Def",
          "Def",
          "Def",
          "Def",
          "Def",
          "Def",
          "Def",
          "Def",
          "Def",
          "Def",
          "Def",
          "Def",
          "Def",
          "Def",
          "Def",
          "Def",
          "Def",
          "Def",
          "Def",
          "Def",
          "Def",
          "Def",
          "Def",
          "Def",
          "Def",
          "Def",
          "Def",
          "Def",
          "Def",
          "Def",
          "Def",
          "Def",
          "Def",
          "Def",
          "Def",
          "Def",
          "Def",
          "Def",
          "Def",
          "Def",
          "Def",
          "Def",
          "Def",
          "Def",
          "Def",
          "Def",
          "Def",
          "Def",
          "Def",
          "Def",
          "Def",
          "Def",
          "Def",
          "Def",
          "Def",
          "Def",
          "Def",
          "Def",
          "Def",
          "Def",
          "Def",
          "Def",
          "Def",
          "Def",
          "Def",
          "Def",
          "Def",
          "Def",
          "Def",
          "Def",
          "Def",
          "Def",
          "Def",
          "Def",
          "Def",
          "Def",
          "Def",
          "Def",
          "Def",
          "Def",
          "Def",
          "Def",
          "Def",
          "Def",
          "Def",
          "Def",
          "Def",
          "Def",
          "Def",
          "Def",
          "Def",
          "Def",
          "Def",
          "Def",
          "Def",
          "Def",
          "Def",
          "Def",
          "Def",
          "Def",
          "Def",
          "Def",
          "Def",
          "Def",
          "Def",
          "Def",
          "Def",
          "Def",
          "Def",
          "Def",
          "Def",
          "Def",
          "Def",
          "Def",
          "Def",
          "Def",
          "Def",
          "Def",
          "Def",
          "Def",
          "Def",
          "Def",
          "Def",
          "Def",
          "Def",
          "Def",
          "Def",
          "Def",
          "Def",
          "Def",
          "Def",
          "Def",
          "Def",
          "Def",
          "Def",
          "Def",
          "Def",
          "Def",
          "Def",
          "Def",
          "Def",
          "Def",
          "Def",
          "Def",
          "Def",
          "Def",
          "Def",
          "Def",
          "Def",
          "Def",
          "Def",
          "Def",
          "Def",
          "Def",
          "Def",
          "Def",
          "Def",
          "Def",
          "Def",
          "Def",
          "Def",
          "Def",
          "Def",
          "Def",
          "Def",
          "Def",
          "Def",
          "Def",
          "Def",
          "Def",
          "Def",
          "Def",
          "Def",
          "Def",
          "Def",
          "Def",
          "Def",
          "Def",
          "Def",
          "Def",
          "Def",
          "Def",
          "Def",
          "Def",
          "Def",
          "Def",
          "Def",
          "Def",
          "Def",
          "Def",
          "Def",
          "Def",
          "Def",
          "Def",
          "Def",
          "Def",
          "Def",
          "Def",
          "Def",
          "Def",
          "Def",
          "Def",
          "Def",
          "Def",
          "Def",
          "Def",
          "Def",
          "Def",
          "Def",
          "Def",
          "Def",
          "Def",
          "Def",
          "Def",
          "Def",
          "Def",
          "Def",
          "Def",
          "Def",
          "Def",
          "Def",
          "Def",
          "Def",
          "Def",
          "Def",
          "Def",
          "Def",
          "Def",
          "Def",
          "Def",
          "Def",
          "Def",
          "Def",
          "Def",
          "Def",
          "Def",
          "Def",
          "Def",
          "Def",
          "Def",
          "Def",
          "Def",
          "Def",
          "Def",
          "Def",
          "Def",
          "Def",
          "Def",
          "Def",
          "Def",
          "Def",
          "Def",
          "Def",
          "Def",
          "Def",
          "Def",
          "Def",
          "Def",
          "Def",
          "Def",
          "Def",
          "Def",
          "Def",
          "Def",
          "Def",
          "Def",
          "Def",
          "Def",
          "Def",
          "Def",
          "Def",
          "Def",
          "Def",
          "Def",
          "Def",
          "Def",
          "Def",
          "Def",
          "Def",
          "Def",
          "Def",
          "Def",
          "Def",
          "Def",
          "Def",
          "Def",
          "Def",
          "Def",
          "Def",
          "Def",
          "Def",
          "Def",
          "Def",
          "Def",
          "Def",
          "Def",
          "Def",
          "Def",
          "Def",
          "Def",
          "Def",
          "Def",
          "Def",
          "Def",
          "Def",
          "Def",
          "Def",
          "Def",
          "Def",
          "Def",
          "Def",
          "Def",
          "Def",
          "Def",
          "Def",
          "Def",
          "Def",
          "Def",
          "Def",
          "Def",
          "Def",
          "Def",
          "Def",
          "Def",
          "Def",
          "Def",
          "Def",
          "Def",
          "Def",
          "Def",
          "Def",
          "Def",
          "Res",
          "Res",
          "Res",
          "Res",
          "Res",
          "Res",
          "Res",
          "Res",
          "Res",
          "Res",
          "Res",
          "Res",
          "Res",
          "Res",
          "Res",
          "Res",
          "Res",
          "Res",
          "Res",
          "Res",
          "Res",
          "Res",
          "Res",
          "Res",
          "Res",
          "Res",
          "Res",
          "Res",
          "Res",
          "Res",
          "Res",
          "Res",
          "Res",
          "Res",
          "Res",
          "Res",
          "Res",
          "Res",
          "Res",
          "Res",
          "Res",
          "Res",
          "Res",
          "Res",
          "Res",
          "Res",
          "Res",
          "Res",
          "Res",
          "Res",
          "Res",
          "Res",
          "Res",
          "Res",
          "Res",
          "Res",
          "Res",
          "Res",
          "Res",
          "Res",
          "Res",
          "Res",
          "Res",
          "Res",
          "Res",
          "Res",
          "Res",
          "Res",
          "Res",
          "Res",
          "Res",
          "Res",
          "Res",
          "Res",
          "Res",
          "Res",
          "Res",
          "Res",
          "Res",
          "Res",
          "Res",
          "Res",
          "Res",
          "Res",
          "Res",
          "Res",
          "Res",
          "Res",
          "Res",
          "Res",
          "Res",
          "Res",
          "Res",
          "Res",
          "Res",
          "Res",
          "Res",
          "Res",
          "Res",
          "Res",
          "Res",
          "Res",
          "Res",
          "Res",
          "Res",
          "Res",
          "Res",
          "Res",
          "Res",
          "Res",
          "Res",
          "Res",
          "Res",
          "Res",
          "Res",
          "Res",
          "Res",
          "Res",
          "Res",
          "Res",
          "Res",
          "Res",
          "Res",
          "Res",
          "Res",
          "Res",
          "Res",
          "Res",
          "Res",
          "Res",
          "Res",
          "Res",
          "Res",
          "Res",
          "Res",
          "Res",
          "Res",
          "Res",
          "Res",
          "Res",
          "Res",
          "Res",
          "Res",
          "Res",
          "Res",
          "Res",
          "Res",
          "Res",
          "Res",
          "Res",
          "Res",
          "Res",
          "Res",
          "Res",
          "Res",
          "Res",
          "Res",
          "Res",
          "Res",
          "Res",
          "Res",
          "Res",
          "Res",
          "Res",
          "Res",
          "Res",
          "Res",
          "Res",
          "Res",
          "Res",
          "Res",
          "Res",
          "Res",
          "Res",
          "Res",
          "Res",
          "Res",
          "Res",
          "Res",
          "Res",
          "Res",
          "Res",
          "Res",
          "Res",
          "Res",
          "Res",
          "Res",
          "Res",
          "Res",
          "Res",
          "Res",
          "Res",
          "Res",
          "Res",
          "Res",
          "Res",
          "Res",
          "Res",
          "Res",
          "Res",
          "Res",
          "Res",
          "Res",
          "Res",
          "Res",
          "Res",
          "Res",
          "Res",
          "Res",
          "Res",
          "Res",
          "Res",
          "Res",
          "Res",
          "Res",
          "Res",
          "Res",
          "Res",
          "Res",
          "Res",
          "Res",
          "Res",
          "Res",
          "Res",
          "Res",
          "Res",
          "Res",
          "Res",
          "Res",
          "Res",
          "Res",
          "Res",
          "Res",
          "Res",
          "Res",
          "Res",
          "Res",
          "Res",
          "Res",
          "Res",
          "Res",
          "Res",
          "Res",
          "Res",
          "Res",
          "Res",
          "Res",
          "Res",
          "Res",
          "Res",
          "Res",
          "Res",
          "Res",
          "Res",
          "Res",
          "Res",
          "Res",
          "Res",
          "Res",
          "Res",
          "Res",
          "Res",
          "Res",
          "Res",
          "Res",
          "Res",
          "Res",
          "Res",
          "Res",
          "Res",
          "Res",
          "Res",
          "Res",
          "Res",
          "Res",
          "Res",
          "Res",
          "Res",
          "Res",
          "Res",
          "Res",
          "Res",
          "Res",
          "Res",
          "Res",
          "Res",
          "Res",
          "Res",
          "Res",
          "Res",
          "Res",
          "Res",
          "Res",
          "Res",
          "Res",
          "Res",
          "Res",
          "Res",
          "Res",
          "Res",
          "Res",
          "Res",
          "Res",
          "Res",
          "Res",
          "Res",
          "Res",
          "Res",
          "Res",
          "Res",
          "Res",
          "Res",
          "Res",
          "Res",
          "Res",
          "Res",
          "Res",
          "Res",
          "Res",
          "Res",
          "Res",
          "Res",
          "Res",
          "Res",
          "Res",
          "Res",
          "Res",
          "Res",
          "Res",
          "Res",
          "Res",
          "Res",
          "Res",
          "Res",
          "Res",
          "Res",
          "Res",
          "Res",
          "Res",
          "Res",
          "Res",
          "Res",
          "Res",
          "Res",
          "Res",
          "Res",
          "Res",
          "Res",
          "Res",
          "Res",
          "Res",
          "Res",
          "Res",
          "Res",
          "Res",
          "Res",
          "Res",
          "Res",
          "Res",
          "Res",
          "Res",
          "Res",
          "Res",
          "Res",
          "Res",
          "Res",
          "Res",
          "Res",
          "Res",
          "Res",
          "Res",
          "Res",
          "Res",
          "Res",
          "Res",
          "Res",
          "Res",
          "Res",
          "Res",
          "Res",
          "Res",
          "Res",
          "Res",
          "Res",
          "Res",
          "Res",
          "Res",
          "Res",
          "Res",
          "Res",
          "Res",
          "Res",
          "Res",
          "Res",
          "Res",
          "Res",
          "Res",
          "Res",
          "Res",
          "Res",
          "Res",
          "Res",
          "Res",
          "Res",
          "Res",
          "Res",
          "Res",
          "Res",
          "Res",
          "Res",
          "Res",
          "Res",
          "Res",
          "Res",
          "Res",
          "Res",
          "Res",
          "Res",
          "Res",
          "Res",
          "Res",
          "Res",
          "Res",
          "Res",
          "Res",
          "Res",
          "Res",
          "Res",
          "Res",
          "Res",
          "Res",
          "Res",
          "Res",
          "Res",
          "Res",
          "Res",
          "Res",
          "Res",
          "Res",
          "Res",
          "Res",
          "Res",
          "Res",
          "Res",
          "Res",
          "Res",
          "Res",
          "Res",
          "Res",
          "Res",
          "Res",
          "Res",
          "Res",
          "Res",
          "Res",
          "Res",
          "Res",
          "Res",
          "Res",
          "Res",
          "Res",
          "Res",
          "Res",
          "Res",
          "Res",
          "Res",
          "Res",
          "Res",
          "Res",
          "Res",
          "Res",
          "Res",
          "Res",
          "Res",
          "Res",
          "Res",
          "Res",
          "Res",
          "Res",
          "Res",
          "Res",
          "Res",
          "Res",
          "Res",
          "Res",
          "Res",
          "Res",
          "Res",
          "Res",
          "Res",
          "Res",
          "Res",
          "Res",
          "Res",
          "Res",
          "Res",
          "Res",
          "Res",
          "Res",
          "Res",
          "Res",
          "Res",
          "Res",
          "Res",
          "Res",
          "Res",
          "Res",
          "Res",
          "Res",
          "Res",
          "Res",
          "Res",
          "Res",
          "Res",
          "Res",
          "Res",
          "Res",
          "Res",
          "Res",
          "Res",
          "Res",
          "Res",
          "Res",
          "Res",
          "Res",
          "Res",
          "Res",
          "Res",
          "Res",
          "Res",
          "Res",
          "Res",
          "Res",
          "Res",
          "Res",
          "Res",
          "Res",
          "Res",
          "Res",
          "Res",
          "Res",
          "Res",
          "Res",
          "Res",
          "Res",
          "Res",
          "Res",
          "Res",
          "Res",
          "Res",
          "Res",
          "Res",
          "Res",
          "Res",
          "Res",
          "Res",
          "Res",
          "Res",
          "Res",
          "Res",
          "Res",
          "Res",
          "Res",
          "Res",
          "Res",
          "Res",
          "Res",
          "Res",
          "Res",
          "Res",
          "Res",
          "Res",
          "Res",
          "Res",
          "Res",
          "Res",
          "Res",
          "Res",
          "Res",
          "Res",
          "Res",
          "Res",
          "Res",
          "Res",
          "Res",
          "Res",
          "Res",
          "Res",
          "Res",
          "Res",
          "Res",
          "Res",
          "Res",
          "Res",
          "Res",
          "Res",
          "Res",
          "Res",
          "Res",
          "Res",
          "Res",
          "Res",
          "Res",
          "Res",
          "Res",
          "Res",
          "Res",
          "Res",
          "Res",
          "Res",
          "Res",
          "Res",
          "Res",
          "Res",
          "Res",
          "Res",
          "Res",
          "Res",
          "Res",
          "Res",
          "Res",
          "Res",
          "Res",
          "Res",
          "Res",
          "Res",
          "Res",
          "Res",
          "Res",
          "Res",
          "Res",
          "Res",
          "Res",
          "Res",
          "Res",
          "Res",
          "Res",
          "Res",
          "Res",
          "Res",
          "Res",
          "Res",
          "Res",
          "Res",
          "Res",
          "Res",
          "Res",
          "Res",
          "Res",
          "Res",
          "Res",
          "Res",
          "Res",
          "Res",
          "Res",
          "Res",
          "Res",
          "Res",
          "Res",
          "Res",
          "Res",
          "Res",
          "Res",
          "Res",
          "Res",
          "Res",
          "Res",
          "Res",
          "Res",
          "Res",
          "Res",
          "Res",
          "Res",
          "Res",
          "Res",
          "Res",
          "Res",
          "Res",
          "Res",
          "Res",
          "Res",
          "Res",
          "Res",
          "Res",
          "Res",
          "Res",
          "Res",
          "Res",
          "Res",
          "Res",
          "Res",
          "Res",
          "Res",
          "Res",
          "Res",
          "Res",
          "Res",
          "Res",
          "Res",
          "Res",
          "Res",
          "Res",
          "Res",
          "Res",
          "Res",
          "Res",
          "Res",
          "Res",
          "Res",
          "Res",
          "Res",
          "Res",
          "Res",
          "Res",
          "Res",
          "Res",
          "Res",
          "Res",
          "Res",
          "Res",
          "Res",
          "Res",
          "Res",
          "Res",
          "Res",
          "Res",
          "Res",
          "Res",
          "Res",
          "Res",
          "Res",
          "Res",
          "Res",
          "Res",
          "Res",
          "Res",
          "Res",
          "Res",
          "Res",
          "Res",
          "Res",
          "Res",
          "Res",
          "Res",
          "Res",
          "Res",
          "Res",
          "Res",
          "Res",
          "Res",
          "Res",
          "Res",
          "Res",
          "Res",
          "Res",
          "Res",
          "Res",
          "Res",
          "Res",
          "Res",
          "Res",
          "Res",
          "Res",
          "Res",
          "Res",
          "Res",
          "Res",
          "Res",
          "Res",
          "Res",
          "Res",
          "Res",
          "Res",
          "Res",
          "Res",
          "Res",
          "Res",
          "Res",
          "Res",
          "Res",
          "Res",
          "Res",
          "Res",
          "Res",
          "Res",
          "Res",
          "Res",
          "Res",
          "Res",
          "Res",
          "Res",
          "Res",
          "Res",
          "Res",
          "Res",
          "Res",
          "Res",
          "Res",
          "Res",
          "Res",
          "Res",
          "Res",
          "Res",
          "Res",
          "Res",
          "Res",
          "Res",
          "Res",
          "Res",
          "Res",
          "Res",
          "Res",
          "Res",
          "Res",
          "Res",
          "Res",
          "Res",
          "Res",
          "Res",
          "Res",
          "Res",
          "Res",
          "Res",
          "Res",
          "Res",
          "Res",
          "Res",
          "Res",
          "Res",
          "Res",
          "Res",
          "Res",
          "Res",
          "Res",
          "Res",
          "Res",
          "Res",
          "Res",
          "Res",
          "Res",
          "Res",
          "Res",
          "Res",
          "Res",
          "Res",
          "Res",
          "Res",
          "Res",
          "Res",
          "Res",
          "Res",
          "Res",
          "Res",
          "Res",
          "Res",
          "Res",
          "Res",
          "Res",
          "Res",
          "Res",
          "Res",
          "Res",
          "Res",
          "Res",
          "Res",
          "Res",
          "Res",
          "Res",
          "Res",
          "Res",
          "Res",
          "Res",
          "Res",
          "Res",
          "Res",
          "Res",
          "Res",
          "Res",
          "Res",
          "Res",
          "Res",
          "Res",
          "Res",
          "Res",
          "Res",
          "Res",
          "Res",
          "Res",
          "Res",
          "Res",
          "Res",
          "Res",
          "Res",
          "Res",
          "Res",
          "Res",
          "Res",
          "Res",
          "Res",
          "Res",
          "Res",
          "Res",
          "Res",
          "Res",
          "Res",
          "Res",
          "Res",
          "Res",
          "Res",
          "Res",
          "Res",
          "Res",
          "Res",
          "Res",
          "Res",
          "Res",
          "Res",
          "Res",
          "Res",
          "Res",
          "Res",
          "Res",
          "Res",
          "Res",
          "Res",
          "Res",
          "Res",
          "Res",
          "Res",
          "Res",
          "Res",
          "Res",
          "Res",
          "Res",
          "Res",
          "Res",
          "Res",
          "Res",
          "Res",
          "Res",
          "Res",
          "Res",
          "Res",
          "Res",
          "Res",
          "Res",
          "Res",
          "Res",
          "Res",
          "Res",
          "Res",
          "Res",
          "Res",
          "Res",
          "Res",
          "Res",
          "Res",
          "Res",
          "Res",
          "Res",
          "Res",
          "Res",
          "Res",
          "Res",
          "Res",
          "Res",
          "Res",
          "Res",
          "Res",
          "Res",
          "Res",
          "Res",
          "Res",
          "Res",
          "Res",
          "Res",
          "Res",
          "Res",
          "Res",
          "Res",
          "Res",
          "Res",
          "Res",
          "Res",
          "Res",
          "Res",
          "Res",
          "Res",
          "Res",
          "Res",
          "Res",
          "Res",
          "Res",
          "Res",
          "Res",
          "Res",
          "Res",
          "Res",
          "Res",
          "Res",
          "Res",
          "Res",
          "Res",
          "Res",
          "Res",
          "Res",
          "Res",
          "Res",
          "Res",
          "Res",
          "Res",
          "Res",
          "Res",
          "Res",
          "Res",
          "Res",
          "Res",
          "Res",
          "Res",
          "Res",
          "Res",
          "Res",
          "Res",
          "Res",
          "Res",
          "Res",
          "Res",
          "Res",
          "Res",
          "Res",
          "Res",
          "Res",
          "Res",
          "Res",
          "Res",
          "Res",
          "Res",
          "Res",
          "Res",
          "Res",
          "Res",
          "Res",
          "Res",
          "Res",
          "Res",
          "Res",
          "Res",
          "Res",
          "Res",
          "Res",
          "Res",
          "Res",
          "Res",
          "Res",
          "Res",
          "Res",
          "Res",
          "Res",
          "Res",
          "Res",
          "Res",
          "Res",
          "Res",
          "Res",
          "Res",
          "Res",
          "Res",
          "Res",
          "Res",
          "Res",
          "Res",
          "Res",
          "Res",
          "Res",
          "Res",
          "Res",
          "Res",
          "Res",
          "Res",
          "Res",
          "Res",
          "Res",
          "Res",
          "Res",
          "Res",
          "Res",
          "Res",
          "Res",
          "Res",
          "Res",
          "Res",
          "Res",
          "Res",
          "Res",
          "Res",
          "Res",
          "Res",
          "Res",
          "Res",
          "Res",
          "Res",
          "Res",
          "Res",
          "Res",
          "Res",
          "Res",
          "Res",
          "Res",
          "Res",
          "Res",
          "Res",
          "Res",
          "Res",
          "Res",
          "Res",
          "Res",
          "Res",
          "Res",
          "Res",
          "Res",
          "Res",
          "Res",
          "Res",
          "Res",
          "Res",
          "Res",
          "Res",
          "Res",
          "Res",
          "Res",
          "Res",
          "Res",
          "Res",
          "Res",
          "Res",
          "Res",
          "Res",
          "Res",
          "Res",
          "Res",
          "Res",
          "Res",
          "Res",
          "Res",
          "Res",
          "Res",
          "Res",
          "Res",
          "Res",
          "Res",
          "Res",
          "Res",
          "Res",
          "Res",
          "Res",
          "Res",
          "Res",
          "Res",
          "Res",
          "Res",
          "Res",
          "Res",
          "Res",
          "Res",
          "Res",
          "Res",
          "Res",
          "Res",
          "Res",
          "Res",
          "Res",
          "Res",
          "Res",
          "Res",
          "Res",
          "Res",
          "Res",
          "Res",
          "Res",
          "Res",
          "Res",
          "Res",
          "Res",
          "Res",
          "Res",
          "Res",
          "Res",
          "Res",
          "Res",
          "Res",
          "Res",
          "Res",
          "Res",
          "Res",
          "Res",
          "Res",
          "Res",
          "Res",
          "Res",
          "Res",
          "Res",
          "Res",
          "Res",
          "Res",
          "Res",
          "Res",
          "Res",
          "Res",
          "Res",
          "Res",
          "Res",
          "Res",
          "Res",
          "Res",
          "Res",
          "Res",
          "Res",
          "Res",
          "Res",
          "Res",
          "Res",
          "Res",
          "Res",
          "Res",
          "Res",
          "Res",
          "Res",
          "Res",
          "Res",
          "Res",
          "Res",
          "Res",
          "Res",
          "Res",
          "Res",
          "Res",
          "Res",
          "Res",
          "Res",
          "Res",
          "Res",
          "Res",
          "Res",
          "Res",
          "Res",
          "Res",
          "Res",
          "Res",
          "Res",
          "Res",
          "Res",
          "Res",
          "Res",
          "Res",
          "Res",
          "Res",
          "Res"
         ],
         "x0": " ",
         "xaxis": "x",
         "y": {
          "bdata": "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",
          "dtype": "i1"
         },
         "y0": " ",
         "yaxis": "y"
        }
       ],
       "layout": {
        "boxmode": "group",
        "legend": {
         "tracegroupgap": 0
        },
        "margin": {
         "t": 60
        },
        "template": {
         "data": {
          "bar": [
           {
            "error_x": {
             "color": "#2a3f5f"
            },
            "error_y": {
             "color": "#2a3f5f"
            },
            "marker": {
             "line": {
              "color": "#E5ECF6",
              "width": 0.5
             },
             "pattern": {
              "fillmode": "overlay",
              "size": 10,
              "solidity": 0.2
             }
            },
            "type": "bar"
           }
          ],
          "barpolar": [
           {
            "marker": {
             "line": {
              "color": "#E5ECF6",
              "width": 0.5
             },
             "pattern": {
              "fillmode": "overlay",
              "size": 10,
              "solidity": 0.2
             }
            },
            "type": "barpolar"
           }
          ],
          "carpet": [
           {
            "aaxis": {
             "endlinecolor": "#2a3f5f",
             "gridcolor": "white",
             "linecolor": "white",
             "minorgridcolor": "white",
             "startlinecolor": "#2a3f5f"
            },
            "baxis": {
             "endlinecolor": "#2a3f5f",
             "gridcolor": "white",
             "linecolor": "white",
             "minorgridcolor": "white",
             "startlinecolor": "#2a3f5f"
            },
            "type": "carpet"
           }
          ],
          "choropleth": [
           {
            "colorbar": {
             "outlinewidth": 0,
             "ticks": ""
            },
            "type": "choropleth"
           }
          ],
          "contour": [
           {
            "colorbar": {
             "outlinewidth": 0,
             "ticks": ""
            },
            "colorscale": [
             [
              0,
              "#0d0887"
             ],
             [
              0.1111111111111111,
              "#46039f"
             ],
             [
              0.2222222222222222,
              "#7201a8"
             ],
             [
              0.3333333333333333,
              "#9c179e"
             ],
             [
              0.4444444444444444,
              "#bd3786"
             ],
             [
              0.5555555555555556,
              "#d8576b"
             ],
             [
              0.6666666666666666,
              "#ed7953"
             ],
             [
              0.7777777777777778,
              "#fb9f3a"
             ],
             [
              0.8888888888888888,
              "#fdca26"
             ],
             [
              1,
              "#f0f921"
             ]
            ],
            "type": "contour"
           }
          ],
          "contourcarpet": [
           {
            "colorbar": {
             "outlinewidth": 0,
             "ticks": ""
            },
            "type": "contourcarpet"
           }
          ],
          "heatmap": [
           {
            "colorbar": {
             "outlinewidth": 0,
             "ticks": ""
            },
            "colorscale": [
             [
              0,
              "#0d0887"
             ],
             [
              0.1111111111111111,
              "#46039f"
             ],
             [
              0.2222222222222222,
              "#7201a8"
             ],
             [
              0.3333333333333333,
              "#9c179e"
             ],
             [
              0.4444444444444444,
              "#bd3786"
             ],
             [
              0.5555555555555556,
              "#d8576b"
             ],
             [
              0.6666666666666666,
              "#ed7953"
             ],
             [
              0.7777777777777778,
              "#fb9f3a"
             ],
             [
              0.8888888888888888,
              "#fdca26"
             ],
             [
              1,
              "#f0f921"
             ]
            ],
            "type": "heatmap"
           }
          ],
          "histogram": [
           {
            "marker": {
             "pattern": {
              "fillmode": "overlay",
              "size": 10,
              "solidity": 0.2
             }
            },
            "type": "histogram"
           }
          ],
          "histogram2d": [
           {
            "colorbar": {
             "outlinewidth": 0,
             "ticks": ""
            },
            "colorscale": [
             [
              0,
              "#0d0887"
             ],
             [
              0.1111111111111111,
              "#46039f"
             ],
             [
              0.2222222222222222,
              "#7201a8"
             ],
             [
              0.3333333333333333,
              "#9c179e"
             ],
             [
              0.4444444444444444,
              "#bd3786"
             ],
             [
              0.5555555555555556,
              "#d8576b"
             ],
             [
              0.6666666666666666,
              "#ed7953"
             ],
             [
              0.7777777777777778,
              "#fb9f3a"
             ],
             [
              0.8888888888888888,
              "#fdca26"
             ],
             [
              1,
              "#f0f921"
             ]
            ],
            "type": "histogram2d"
           }
          ],
          "histogram2dcontour": [
           {
            "colorbar": {
             "outlinewidth": 0,
             "ticks": ""
            },
            "colorscale": [
             [
              0,
              "#0d0887"
             ],
             [
              0.1111111111111111,
              "#46039f"
             ],
             [
              0.2222222222222222,
              "#7201a8"
             ],
             [
              0.3333333333333333,
              "#9c179e"
             ],
             [
              0.4444444444444444,
              "#bd3786"
             ],
             [
              0.5555555555555556,
              "#d8576b"
             ],
             [
              0.6666666666666666,
              "#ed7953"
             ],
             [
              0.7777777777777778,
              "#fb9f3a"
             ],
             [
              0.8888888888888888,
              "#fdca26"
             ],
             [
              1,
              "#f0f921"
             ]
            ],
            "type": "histogram2dcontour"
           }
          ],
          "mesh3d": [
           {
            "colorbar": {
             "outlinewidth": 0,
             "ticks": ""
            },
            "type": "mesh3d"
           }
          ],
          "parcoords": [
           {
            "line": {
             "colorbar": {
              "outlinewidth": 0,
              "ticks": ""
             }
            },
            "type": "parcoords"
           }
          ],
          "pie": [
           {
            "automargin": true,
            "type": "pie"
           }
          ],
          "scatter": [
           {
            "fillpattern": {
             "fillmode": "overlay",
             "size": 10,
             "solidity": 0.2
            },
            "type": "scatter"
           }
          ],
          "scatter3d": [
           {
            "line": {
             "colorbar": {
              "outlinewidth": 0,
              "ticks": ""
             }
            },
            "marker": {
             "colorbar": {
              "outlinewidth": 0,
              "ticks": ""
             }
            },
            "type": "scatter3d"
           }
          ],
          "scattercarpet": [
           {
            "marker": {
             "colorbar": {
              "outlinewidth": 0,
              "ticks": ""
             }
            },
            "type": "scattercarpet"
           }
          ],
          "scattergeo": [
           {
            "marker": {
             "colorbar": {
              "outlinewidth": 0,
              "ticks": ""
             }
            },
            "type": "scattergeo"
           }
          ],
          "scattergl": [
           {
            "marker": {
             "colorbar": {
              "outlinewidth": 0,
              "ticks": ""
             }
            },
            "type": "scattergl"
           }
          ],
          "scattermap": [
           {
            "marker": {
             "colorbar": {
              "outlinewidth": 0,
              "ticks": ""
             }
            },
            "type": "scattermap"
           }
          ],
          "scattermapbox": [
           {
            "marker": {
             "colorbar": {
              "outlinewidth": 0,
              "ticks": ""
             }
            },
            "type": "scattermapbox"
           }
          ],
          "scatterpolar": [
           {
            "marker": {
             "colorbar": {
              "outlinewidth": 0,
              "ticks": ""
             }
            },
            "type": "scatterpolar"
           }
          ],
          "scatterpolargl": [
           {
            "marker": {
             "colorbar": {
              "outlinewidth": 0,
              "ticks": ""
             }
            },
            "type": "scatterpolargl"
           }
          ],
          "scatterternary": [
           {
            "marker": {
             "colorbar": {
              "outlinewidth": 0,
              "ticks": ""
             }
            },
            "type": "scatterternary"
           }
          ],
          "surface": [
           {
            "colorbar": {
             "outlinewidth": 0,
             "ticks": ""
            },
            "colorscale": [
             [
              0,
              "#0d0887"
             ],
             [
              0.1111111111111111,
              "#46039f"
             ],
             [
              0.2222222222222222,
              "#7201a8"
             ],
             [
              0.3333333333333333,
              "#9c179e"
             ],
             [
              0.4444444444444444,
              "#bd3786"
             ],
             [
              0.5555555555555556,
              "#d8576b"
             ],
             [
              0.6666666666666666,
              "#ed7953"
             ],
             [
              0.7777777777777778,
              "#fb9f3a"
             ],
             [
              0.8888888888888888,
              "#fdca26"
             ],
             [
              1,
              "#f0f921"
             ]
            ],
            "type": "surface"
           }
          ],
          "table": [
           {
            "cells": {
             "fill": {
              "color": "#EBF0F8"
             },
             "line": {
              "color": "white"
             }
            },
            "header": {
             "fill": {
              "color": "#C8D4E3"
             },
             "line": {
              "color": "white"
             }
            },
            "type": "table"
           }
          ]
         },
         "layout": {
          "annotationdefaults": {
           "arrowcolor": "#2a3f5f",
           "arrowhead": 0,
           "arrowwidth": 1
          },
          "autotypenumbers": "strict",
          "coloraxis": {
           "colorbar": {
            "outlinewidth": 0,
            "ticks": ""
           }
          },
          "colorscale": {
           "diverging": [
            [
             0,
             "#8e0152"
            ],
            [
             0.1,
             "#c51b7d"
            ],
            [
             0.2,
             "#de77ae"
            ],
            [
             0.3,
             "#f1b6da"
            ],
            [
             0.4,
             "#fde0ef"
            ],
            [
             0.5,
             "#f7f7f7"
            ],
            [
             0.6,
             "#e6f5d0"
            ],
            [
             0.7,
             "#b8e186"
            ],
            [
             0.8,
             "#7fbc41"
            ],
            [
             0.9,
             "#4d9221"
            ],
            [
             1,
             "#276419"
            ]
           ],
           "sequential": [
            [
             0,
             "#0d0887"
            ],
            [
             0.1111111111111111,
             "#46039f"
            ],
            [
             0.2222222222222222,
             "#7201a8"
            ],
            [
             0.3333333333333333,
             "#9c179e"
            ],
            [
             0.4444444444444444,
             "#bd3786"
            ],
            [
             0.5555555555555556,
             "#d8576b"
            ],
            [
             0.6666666666666666,
             "#ed7953"
            ],
            [
             0.7777777777777778,
             "#fb9f3a"
            ],
            [
             0.8888888888888888,
             "#fdca26"
            ],
            [
             1,
             "#f0f921"
            ]
           ],
           "sequentialminus": [
            [
             0,
             "#0d0887"
            ],
            [
             0.1111111111111111,
             "#46039f"
            ],
            [
             0.2222222222222222,
             "#7201a8"
            ],
            [
             0.3333333333333333,
             "#9c179e"
            ],
            [
             0.4444444444444444,
             "#bd3786"
            ],
            [
             0.5555555555555556,
             "#d8576b"
            ],
            [
             0.6666666666666666,
             "#ed7953"
            ],
            [
             0.7777777777777778,
             "#fb9f3a"
            ],
            [
             0.8888888888888888,
             "#fdca26"
            ],
            [
             1,
             "#f0f921"
            ]
           ]
          },
          "colorway": [
           "#636efa",
           "#EF553B",
           "#00cc96",
           "#ab63fa",
           "#FFA15A",
           "#19d3f3",
           "#FF6692",
           "#B6E880",
           "#FF97FF",
           "#FECB52"
          ],
          "font": {
           "color": "#2a3f5f"
          },
          "geo": {
           "bgcolor": "white",
           "lakecolor": "white",
           "landcolor": "#E5ECF6",
           "showlakes": true,
           "showland": true,
           "subunitcolor": "white"
          },
          "hoverlabel": {
           "align": "left"
          },
          "hovermode": "closest",
          "mapbox": {
           "style": "light"
          },
          "paper_bgcolor": "white",
          "plot_bgcolor": "#E5ECF6",
          "polar": {
           "angularaxis": {
            "gridcolor": "white",
            "linecolor": "white",
            "ticks": ""
           },
           "bgcolor": "#E5ECF6",
           "radialaxis": {
            "gridcolor": "white",
            "linecolor": "white",
            "ticks": ""
           }
          },
          "scene": {
           "xaxis": {
            "backgroundcolor": "#E5ECF6",
            "gridcolor": "white",
            "gridwidth": 2,
            "linecolor": "white",
            "showbackground": true,
            "ticks": "",
            "zerolinecolor": "white"
           },
           "yaxis": {
            "backgroundcolor": "#E5ECF6",
            "gridcolor": "white",
            "gridwidth": 2,
            "linecolor": "white",
            "showbackground": true,
            "ticks": "",
            "zerolinecolor": "white"
           },
           "zaxis": {
            "backgroundcolor": "#E5ECF6",
            "gridcolor": "white",
            "gridwidth": 2,
            "linecolor": "white",
            "showbackground": true,
            "ticks": "",
            "zerolinecolor": "white"
           }
          },
          "shapedefaults": {
           "line": {
            "color": "#2a3f5f"
           }
          },
          "ternary": {
           "aaxis": {
            "gridcolor": "white",
            "linecolor": "white",
            "ticks": ""
           },
           "baxis": {
            "gridcolor": "white",
            "linecolor": "white",
            "ticks": ""
           },
           "bgcolor": "#E5ECF6",
           "caxis": {
            "gridcolor": "white",
            "linecolor": "white",
            "ticks": ""
           }
          },
          "title": {
           "x": 0.05
          },
          "xaxis": {
           "automargin": true,
           "gridcolor": "white",
           "linecolor": "white",
           "ticks": "",
           "title": {
            "standoff": 15
           },
           "zerolinecolor": "white",
           "zerolinewidth": 2
          },
          "yaxis": {
           "automargin": true,
           "gridcolor": "white",
           "linecolor": "white",
           "ticks": "",
           "title": {
            "standoff": 15
           },
           "zerolinecolor": "white",
           "zerolinewidth": 2
          }
         }
        },
        "xaxis": {
         "anchor": "y",
         "domain": [
          0,
          1
         ],
         "title": {
          "text": "variable"
         }
        },
        "yaxis": {
         "anchor": "x",
         "domain": [
          0,
          1
         ],
         "title": {
          "text": "value"
         }
        }
       }
      }
     },
     "metadata": {},
     "output_type": "display_data"
    }
   ],
   "source": [
    "px.box(heroes_table, y=['HP', 'Atk', 'Spd', 'Def', 'Res'])"
   ]
  },
  {
   "cell_type": "code",
   "execution_count": 9,
   "id": "b0359aec",
   "metadata": {},
   "outputs": [
    {
     "data": {
      "application/vnd.plotly.v1+json": {
       "config": {
        "plotlyServerURL": "https://plot.ly"
       },
       "data": [
        {
         "hovertemplate": "Weapon=%{x}<br>count=%{y}<extra></extra>",
         "legendgroup": "",
         "marker": {
          "color": "#636efa",
          "pattern": {
           "shape": ""
          }
         },
         "name": "",
         "orientation": "v",
         "showlegend": false,
         "textposition": "auto",
         "type": "bar",
         "x": [
          "Blue Lance",
          "Red Tome",
          "Colorless Bow",
          "Red Bow",
          "Green Breath",
          "Red Sword",
          "Red Sword",
          "Colorless Breath",
          "Red Sword",
          "Blue Breath",
          "Green Breath",
          "Colorless Breath",
          "Blue Tome",
          "Green Axe",
          "Red Sword",
          "Green Axe",
          "Green Tome",
          "Blue Lance",
          "Red Sword",
          "Red Sword",
          "Green Axe",
          "Colorless Bow",
          "Colorless Bow",
          "Blue Lance",
          "Red Sword",
          "Red Sword",
          "Green Axe",
          "Blue Lance",
          "Green Axe",
          "Blue Breath",
          "Green Axe",
          "Green Bow",
          "Blue Lance",
          "Green Axe",
          "Red Bow",
          "Red Sword",
          "Colorless Bow",
          "Green Axe",
          "Red Sword",
          "Red Sword",
          "Red Tome",
          "Blue Lance",
          "Colorless Tome",
          "Green Tome",
          "Green Axe",
          "Green Tome",
          "Colorless Tome",
          "Red Tome",
          "Green Tome",
          "Blue Beast",
          "Colorless Beast",
          "Red Dagger",
          "Green Bow",
          "Blue Lance",
          "Colorless Tome",
          "Red Sword",
          "Colorless Beast",
          "Colorless Beast",
          "Colorless Tome",
          "Red Sword",
          "Green Bow",
          "Red Sword",
          "Blue Tome",
          "Green Axe",
          "Colorless Staff",
          "Red Tome",
          "Red Sword",
          "Red Sword",
          "Red Sword",
          "Colorless Staff",
          "Red Tome",
          "Green Axe",
          "Green Tome",
          "Green Axe",
          "Blue Lance",
          "Green Axe",
          "Blue Tome",
          "Green Tome",
          "Green Axe",
          "Red Breath",
          "Green Axe",
          "Red Sword",
          "Green Axe",
          "Green Axe",
          "Green Tome",
          "Blue Lance",
          "Blue Lance",
          "Blue Lance",
          "Blue Lance",
          "Colorless Bow",
          "Green Tome",
          "Blue Bow",
          "Blue Bow",
          "Red Sword",
          "Green Axe",
          "Red Sword",
          "Red Sword",
          "Green Axe",
          "Green Tome",
          "Blue Lance",
          "Green Axe",
          "Colorless Staff",
          "Colorless Tome",
          "Green Axe",
          "Green Bow",
          "Red Bow",
          "Blue Tome",
          "Colorless Staff",
          "Green Tome",
          "Red Tome",
          "Blue Tome",
          "Red Sword",
          "Red Sword",
          "Colorless Tome",
          "Red Sword",
          "Blue Tome",
          "Green Tome",
          "Red Sword",
          "Blue Lance",
          "Blue Lance",
          "Red Sword",
          "Green Axe",
          "Blue Tome",
          "Red Sword",
          "Blue Lance",
          "Green Axe",
          "Red Sword",
          "Colorless Beast",
          "Green Tome",
          "Green Axe",
          "Red Tome",
          "Red Sword",
          "Colorless Staff",
          "Red Tome",
          "Green Tome",
          "Colorless Dagger",
          "Blue Tome",
          "Green Axe",
          "Blue Lance",
          "Red Tome",
          "Colorless Bow",
          "Green Axe",
          "Green Axe",
          "Red Bow",
          "Blue Tome",
          "Green Dagger",
          "Red Sword",
          "Green Axe",
          "Blue Lance",
          "Red Sword",
          "Blue Tome",
          "Blue Bow",
          "Red Tome",
          "Green Tome",
          "Colorless Dagger",
          "Green Tome",
          "Green Tome",
          "Red Tome",
          "Red Sword",
          "Blue Tome",
          "Green Tome",
          "Colorless Tome",
          "Colorless Tome",
          "Red Sword",
          "Green Tome",
          "Blue Tome",
          "Blue Lance",
          "Colorless Dagger",
          "Blue Lance",
          "Green Axe",
          "Green Axe",
          "Green Axe",
          "Blue Lance",
          "Red Tome",
          "Blue Bow",
          "Red Sword",
          "Red Bow",
          "Blue Lance",
          "Red Sword",
          "Green Axe",
          "Red Sword",
          "Green Axe",
          "Red Sword",
          "Green Tome",
          "Blue Lance",
          "Colorless Dagger",
          "Colorless Staff",
          "Colorless Bow",
          "Colorless Bow",
          "Blue Bow",
          "Green Dagger",
          "Colorless Bow",
          "Colorless Bow",
          "Blue Dagger",
          "Colorless Bow",
          "Blue Lance",
          "Blue Dagger",
          "Blue Lance",
          "Red Sword",
          "Red Tome",
          "Blue Lance",
          "Blue Lance",
          "Colorless Bow",
          "Blue Lance",
          "Blue Lance",
          "Colorless Staff",
          "Blue Breath",
          "Green Breath",
          "Green Breath",
          "Colorless Breath",
          "Blue Lance",
          "Blue Breath",
          "Green Breath",
          "Colorless Bow",
          "Red Sword",
          "Blue Breath",
          "Green Tome",
          "Blue Tome",
          "Colorless Breath",
          "Blue Breath",
          "Colorless Breath",
          "Blue Breath",
          "Blue Lance",
          "Red Bow",
          "Red Sword",
          "Green Bow",
          "Green Axe",
          "Red Sword",
          "Green Axe",
          "Blue Lance",
          "Blue Beast",
          "Green Axe",
          "Green Axe",
          "Colorless Dagger",
          "Blue Tome",
          "Green Tome",
          "Blue Tome",
          "Blue Tome",
          "Blue Tome",
          "Red Dagger",
          "Red Breath",
          "Green Axe",
          "Red Sword",
          "Green Axe",
          "Green Axe",
          "Blue Lance",
          "Blue Lance",
          "Blue Lance",
          "Green Axe",
          "Red Sword",
          "Blue Lance",
          "Blue Lance",
          "Green Axe",
          "Blue Lance",
          "Green Axe",
          "Green Axe",
          "Blue Tome",
          "Colorless Dagger",
          "Red Tome",
          "Red Tome",
          "Colorless Bow",
          "Colorless Dagger",
          "Red Sword",
          "Blue Lance",
          "Colorless Breath",
          "Red Breath",
          "Colorless Staff",
          "Green Axe",
          "Colorless Staff",
          "Green Axe",
          "Green Axe",
          "Green Axe",
          "Colorless Beast",
          "Blue Lance",
          "Red Sword",
          "Green Axe",
          "Red Sword",
          "Blue Lance",
          "Green Axe",
          "Blue Beast",
          "Colorless Beast",
          "Green Dagger",
          "Colorless Dagger",
          "Red Dagger",
          "Red Tome",
          "Green Tome",
          "Colorless Staff",
          "Red Sword",
          "Red Sword",
          "Blue Lance",
          "Green Axe",
          "Red Sword",
          "Red Sword",
          "Blue Beast",
          "Colorless Beast",
          "Green Tome",
          "Red Sword",
          "Blue Lance",
          "Colorless Bow",
          "Colorless Tome",
          "Colorless Staff",
          "Colorless Staff",
          "Colorless Staff",
          "Green Dagger",
          "Red Sword",
          "Blue Bow",
          "Red Sword",
          "Red Dagger",
          "Colorless Staff",
          "Colorless Staff",
          "Colorless Staff",
          "Green Tome",
          "Red Sword",
          "Blue Lance",
          "Red Sword",
          "Blue Lance",
          "Red Sword",
          "Green Beast",
          "Red Beast",
          "Colorless Beast",
          "Red Beast",
          "Colorless Staff",
          "Colorless Staff",
          "Red Breath",
          "Blue Lance",
          "Blue Lance",
          "Blue Lance",
          "Blue Lance",
          "Green Axe",
          "Blue Lance",
          "Green Axe",
          "Colorless Staff",
          "Blue Lance",
          "Red Tome",
          "Blue Lance",
          "Blue Tome",
          "Blue Lance",
          "Colorless Dagger",
          "Colorless Staff",
          "Colorless Bow",
          "Red Tome",
          "Red Tome",
          "Red Sword",
          "Blue Breath",
          "Green Breath",
          "Green Breath",
          "Red Dagger",
          "Blue Lance",
          "Green Axe",
          "Blue Lance",
          "Colorless Bow",
          "Colorless Bow",
          "Blue Bow",
          "Red Sword",
          "Green Axe",
          "Colorless Dagger",
          "Green Axe",
          "Blue Bow",
          "Red Sword",
          "Red Sword",
          "Green Tome",
          "Blue Lance",
          "Blue Lance",
          "Blue Lance",
          "Blue Lance",
          "Red Sword",
          "Green Axe",
          "Red Sword",
          "Red Sword",
          "Colorless Staff",
          "Blue Lance",
          "Green Axe",
          "Green Bow",
          "Blue Lance",
          "Red Sword",
          "Green Axe",
          "Red Sword",
          "Red Sword",
          "Colorless Staff",
          "Colorless Staff",
          "Red Dagger",
          "Colorless Dagger",
          "Red Dagger",
          "Colorless Bow",
          "Blue Lance",
          "Green Bow",
          "Colorless Dagger",
          "Red Beast",
          "Colorless Beast",
          "Red Sword",
          "Colorless Staff",
          "Blue Lance",
          "Green Axe",
          "Colorless Dagger",
          "Green Axe",
          "Green Axe",
          "Colorless Beast",
          "Green Beast",
          "Blue Beast",
          "Red Beast",
          "Green Axe",
          "Colorless Dagger",
          "Colorless Bow",
          "Blue Lance",
          "Red Sword",
          "Green Axe",
          "Colorless Dagger",
          "Red Breath",
          "Green Tome",
          "Blue Lance",
          "Blue Lance",
          "Colorless Staff",
          "Colorless Staff",
          "Blue Lance",
          "Green Axe",
          "Green Axe",
          "Red Tome",
          "Blue Lance",
          "Colorless Dagger",
          "Red Sword",
          "Blue Lance",
          "Green Axe",
          "Colorless Bow",
          "Red Tome",
          "Colorless Tome",
          "Red Sword",
          "Red Sword",
          "Green Axe",
          "Colorless Breath",
          "Blue Breath",
          "Green Tome",
          "Blue Tome",
          "Colorless Tome",
          "Red Tome",
          "Colorless Tome",
          "Blue Tome",
          "Colorless Dagger",
          "Green Tome",
          "Red Sword",
          "Green Axe",
          "Green Axe",
          "Green Axe",
          "Red Sword",
          "Blue Lance",
          "Green Axe",
          "Red Sword",
          "Green Axe",
          "Red Sword",
          "Red Sword",
          "Green Axe",
          "Blue Tome",
          "Blue Lance",
          "Blue Lance",
          "Red Sword",
          "Green Axe",
          "Blue Lance",
          "Red Tome",
          "Blue Lance",
          "Colorless Bow",
          "Green Dagger",
          "Blue Lance",
          "Red Sword",
          "Green Axe",
          "Green Axe",
          "Green Axe",
          "Red Sword",
          "Green Axe",
          "Green Tome",
          "Green Beast",
          "Colorless Tome",
          "Green Axe",
          "Green Axe",
          "Red Sword",
          "Red Tome",
          "Green Tome",
          "Colorless Bow",
          "Red Tome",
          "Blue Tome",
          "Colorless Staff",
          "Green Axe",
          "Blue Lance",
          "Green Axe",
          "Red Tome",
          "Green Axe",
          "Red Sword",
          "Colorless Bow",
          "Green Bow",
          "Green Dagger",
          "Red Bow",
          "Blue Lance",
          "Red Sword",
          "Colorless Staff",
          "Colorless Staff",
          "Blue Beast",
          "Green Beast",
          "Red Sword",
          "Blue Lance",
          "Red Sword",
          "Blue Tome",
          "Red Tome",
          "Red Tome",
          "Red Tome",
          "Red Breath",
          "Blue Breath",
          "Red Breath",
          "Colorless Bow",
          "Red Bow",
          "Colorless Dagger",
          "Blue Bow",
          "Green Axe",
          "Red Sword",
          "Blue Lance",
          "Red Sword",
          "Red Sword",
          "Red Sword",
          "Red Sword",
          "Red Sword",
          "Green Tome",
          "Blue Tome",
          "Blue Tome",
          "Blue Lance",
          "Blue Lance",
          "Blue Lance",
          "Green Bow",
          "Red Sword",
          "Green Tome",
          "Green Axe",
          "Colorless Bow",
          "Colorless Bow",
          "Colorless Bow",
          "Blue Lance",
          "Blue Tome",
          "Blue Tome",
          "Red Tome",
          "Red Sword",
          "Blue Tome",
          "Green Tome",
          "Colorless Dagger",
          "Green Dagger",
          "Blue Lance",
          "Colorless Bow",
          "Colorless Dagger",
          "Colorless Bow",
          "Blue Lance",
          "Red Tome",
          "Colorless Bow",
          "Blue Lance",
          "Red Sword",
          "Green Axe",
          "Blue Bow",
          "Colorless Dagger",
          "Red Sword",
          "Red Bow",
          "Colorless Tome",
          "Blue Tome",
          "Red Tome",
          "Green Tome",
          "Red Tome",
          "Colorless Dagger",
          "Red Tome",
          "Red Sword",
          "Blue Tome",
          "Green Beast",
          "Red Beast",
          "Green Dagger",
          "Colorless Dagger",
          "Colorless Dagger",
          "Colorless Dagger",
          "Red Sword",
          "Red Sword",
          "Green Breath",
          "Blue Breath",
          "Red Breath",
          "Blue Breath",
          "Red Sword",
          "Blue Lance",
          "Green Axe",
          "Blue Lance",
          "Red Sword",
          "Blue Tome",
          "Red Tome",
          "Colorless Dagger",
          "Red Beast",
          "Green Beast",
          "Red Sword",
          "Red Sword",
          "Red Sword",
          "Colorless Bow",
          "Red Tome",
          "Blue Lance",
          "Colorless Bow",
          "Blue Tome",
          "Red Tome",
          "Green Axe",
          "Red Sword",
          "Blue Lance",
          "Colorless Dagger",
          "Red Breath",
          "Red Tome",
          "Green Tome",
          "Blue Lance",
          "Red Beast",
          "Green Tome",
          "Blue Tome",
          "Colorless Staff",
          "Colorless Staff",
          "Green Dagger",
          "Colorless Staff",
          "Blue Tome",
          "Blue Bow",
          "Colorless Bow",
          "Blue Lance",
          "Red Sword",
          "Green Tome",
          "Colorless Staff",
          "Green Axe",
          "Red Sword",
          "Colorless Staff",
          "Blue Lance",
          "Red Sword",
          "Red Sword",
          "Red Dagger",
          "Blue Lance",
          "Red Sword",
          "Green Axe",
          "Blue Lance",
          "Colorless Dagger",
          "Red Sword",
          "Colorless Tome",
          "Colorless Beast",
          "Colorless Beast",
          "Colorless Dagger",
          "Green Axe",
          "Colorless Bow",
          "Red Sword",
          "Colorless Bow",
          "Red Tome",
          "Colorless Dagger",
          "Colorless Dagger",
          "Colorless Staff",
          "Colorless Staff",
          "Red Sword",
          "Red Tome",
          "Green Tome",
          "Colorless Tome",
          "Red Tome",
          "Green Bow",
          "Red Tome",
          "Colorless Bow",
          "Colorless Bow",
          "Colorless Bow",
          "Blue Beast",
          "Red Beast",
          "Green Beast",
          "Green Tome",
          "Green Tome",
          "Blue Tome",
          "Green Axe",
          "Green Axe",
          "Red Sword",
          "Red Sword",
          "Red Tome",
          "Green Axe",
          "Red Dagger",
          "Blue Tome",
          "Green Tome",
          "Green Tome",
          "Red Tome",
          "Red Tome",
          "Blue Breath",
          "Red Breath",
          "Green Tome",
          "Red Tome",
          "Blue Tome",
          "Colorless Dagger",
          "Colorless Staff",
          "Colorless Bow",
          "Green Axe",
          "Green Axe",
          "Green Axe",
          "Green Axe",
          "Colorless Staff",
          "Colorless Staff",
          "Red Sword",
          "Red Sword",
          "Colorless Bow",
          "Colorless Staff",
          "Colorless Staff",
          "Red Sword",
          "Green Axe",
          "Red Tome",
          "Colorless Bow",
          "Colorless Bow",
          "Blue Lance",
          "Red Sword",
          "Blue Lance",
          "Green Axe",
          "Green Axe",
          "Red Sword",
          "Blue Bow",
          "Colorless Bow",
          "Blue Tome",
          "Colorless Staff",
          "Colorless Staff",
          "Green Axe",
          "Green Tome",
          "Blue Lance",
          "Blue Lance",
          "Red Sword",
          "Red Breath",
          "Red Sword",
          "Blue Breath",
          "Blue Tome",
          "Blue Tome",
          "Green Tome",
          "Blue Lance",
          "Blue Lance",
          "Colorless Bow",
          "Colorless Staff",
          "Blue Bow",
          "Red Sword",
          "Green Bow",
          "Colorless Dagger",
          "Green Bow",
          "Blue Tome",
          "Green Tome",
          "Green Tome",
          "Blue Tome",
          "Red Tome",
          "Red Sword",
          "Colorless Beast",
          "Red Tome",
          "Red Tome",
          "Colorless Tome",
          "Colorless Tome",
          "Blue Tome",
          "Green Tome",
          "Red Sword",
          "Red Sword",
          "Green Axe",
          "Red Sword",
          "Blue Lance",
          "Red Sword",
          "Red Sword",
          "Red Sword",
          "Colorless Staff",
          "Colorless Staff",
          "Green Axe",
          "Blue Tome",
          "Red Tome",
          "Colorless Tome",
          "Colorless Staff",
          "Red Sword",
          "Blue Lance",
          "Green Axe",
          "Blue Tome",
          "Red Tome",
          "Green Axe",
          "Green Axe",
          "Red Sword",
          "Red Sword",
          "Red Sword",
          "Red Sword",
          "Red Sword",
          "Red Sword",
          "Red Sword",
          "Colorless Bow",
          "Blue Lance",
          "Colorless Dagger",
          "Blue Lance",
          "Blue Lance",
          "Colorless Breath",
          "Blue Breath",
          "Blue Lance",
          "Colorless Staff",
          "Red Tome",
          "Colorless Dagger",
          "Green Tome",
          "Green Tome",
          "Green Tome",
          "Red Sword",
          "Colorless Dagger",
          "Red Sword",
          "Colorless Dagger",
          "Red Sword",
          "Colorless Staff",
          "Green Axe",
          "Colorless Tome",
          "Green Tome",
          "Blue Tome",
          "Green Tome",
          "Colorless Tome",
          "Red Tome",
          "Colorless Tome",
          "Green Axe",
          "Blue Lance",
          "Blue Bow",
          "Red Bow",
          "Colorless Staff",
          "Colorless Breath",
          "Green Axe",
          "Green Axe",
          "Blue Lance",
          "Red Sword",
          "Blue Tome",
          "Blue Dagger",
          "Red Tome",
          "Blue Tome",
          "Colorless Staff",
          "Green Tome",
          "Blue Tome",
          "Green Beast",
          "Blue Beast",
          "Green Axe",
          "Red Tome",
          "Red Tome",
          "Blue Tome",
          "Blue Lance",
          "Blue Beast",
          "Green Axe",
          "Red Breath",
          "Colorless Breath",
          "Green Axe",
          "Blue Lance",
          "Colorless Breath",
          "Green Breath",
          "Blue Breath",
          "Red Breath",
          "Colorless Breath",
          "Red Beast",
          "Blue Beast",
          "Blue Breath",
          "Colorless Breath",
          "Colorless Breath",
          "Green Breath",
          "Red Breath",
          "Green Breath",
          "Red Breath",
          "Green Beast",
          "Red Beast",
          "Blue Beast",
          "Red Sword",
          "Colorless Staff",
          "Colorless Staff",
          "Blue Lance",
          "Green Axe",
          "Colorless Staff",
          "Blue Lance",
          "Red Sword",
          "Red Bow",
          "Green Breath",
          "Blue Breath",
          "Red Sword",
          "Red Tome",
          "Blue Lance",
          "Colorless Bow",
          "Green Tome",
          "Green Beast",
          "Blue Beast",
          "Colorless Beast",
          "Colorless Bow",
          "Blue Beast",
          "Red Beast",
          "Blue Breath",
          "Colorless Breath",
          "Colorless Tome",
          "Colorless Bow",
          "Blue Bow",
          "Blue Breath",
          "Blue Breath",
          "Green Breath",
          "Colorless Bow",
          "Colorless Dagger",
          "Blue Tome",
          "Blue Breath",
          "Green Breath",
          "Blue Breath",
          "Red Tome",
          "Green Dagger",
          "Blue Tome",
          "Green Tome",
          "Green Tome",
          "Red Tome",
          "Blue Lance",
          "Colorless Dagger",
          "Red Bow",
          "Colorless Bow",
          "Green Tome",
          "Blue Lance",
          "Colorless Bow",
          "Blue Lance",
          "Red Tome",
          "Blue Breath",
          "Blue Tome",
          "Colorless Staff",
          "Red Tome",
          "Red Sword",
          "Blue Lance",
          "Blue Tome",
          "Red Sword",
          "Blue Lance",
          "Red Sword",
          "Blue Tome",
          "Red Sword",
          "Colorless Dagger",
          "Red Sword",
          "Colorless Tome",
          "Blue Tome",
          "Green Tome",
          "Blue Tome",
          "Red Tome",
          "Green Tome",
          "Blue Lance",
          "Blue Lance",
          "Green Axe",
          "Blue Lance",
          "Green Axe",
          "Red Sword",
          "Blue Lance",
          "Red Dagger",
          "Red Sword",
          "Red Sword",
          "Blue Lance",
          "Green Axe",
          "Colorless Staff",
          "Green Axe",
          "Blue Beast",
          "Red Beast",
          "Colorless Dagger",
          "Red Tome",
          "Blue Tome",
          "Green Tome",
          "Green Tome",
          "Green Axe",
          "Blue Tome",
          "Blue Lance",
          "Blue Lance",
          "Colorless Dagger",
          "Red Bow",
          "Blue Dagger",
          "Blue Lance",
          "Blue Lance",
          "Red Sword",
          "Red Tome",
          "Blue Tome",
          "Blue Lance",
          "Colorless Bow",
          "Red Sword",
          "Colorless Staff",
          "Green Bow",
          "Blue Bow",
          "Blue Lance",
          "Red Breath",
          "Blue Beast",
          "Red Tome",
          "Green Beast",
          "Colorless Bow",
          "Blue Beast",
          "Green Bow",
          "Green Axe",
          "Colorless Bow",
          "Colorless Bow",
          "Blue Tome",
          "Red Sword",
          "Blue Lance",
          "Green Bow",
          "Green Tome",
          "Blue Tome",
          "Blue Tome",
          "Red Sword",
          "Green Dagger",
          "Green Beast",
          "Green Tome",
          "Colorless Breath",
          "Colorless Breath",
          "Colorless Breath",
          "Green Breath",
          "Colorless Staff",
          "Red Sword",
          "Green Tome",
          "Blue Tome",
          "Blue Tome",
          "Red Sword",
          "Green Axe",
          "Red Sword",
          "Green Tome",
          "Colorless Tome",
          "Colorless Breath",
          "Green Breath",
          "Red Tome",
          "Green Breath",
          "Colorless Breath",
          "Colorless Breath",
          "Blue Lance",
          "Blue Tome",
          "Red Tome",
          "Green Tome",
          "Blue Lance",
          "Colorless Tome",
          "Blue Tome",
          "Blue Lance",
          "Colorless Bow",
          "Blue Bow",
          "Green Axe",
          "Blue Lance",
          "Green Axe",
          "Green Axe",
          "Red Sword",
          "Red Sword",
          "Red Sword",
          "Colorless Bow",
          "Blue Lance",
          "Colorless Tome",
          "Red Sword",
          "Blue Dagger",
          "Red Sword",
          "Blue Lance",
          "Red Sword",
          "Red Sword",
          "Blue Lance",
          "Colorless Staff",
          "Blue Tome",
          "Blue Lance",
          "Colorless Dagger",
          "Blue Lance",
          "Colorless Dagger",
          "Colorless Staff",
          "Colorless Staff",
          "Colorless Staff",
          "Green Axe",
          "Red Tome",
          "Green Tome",
          "Red Tome",
          "Red Tome",
          "Colorless Staff",
          "Colorless Staff",
          "Colorless Staff",
          "Red Sword",
          "Blue Lance",
          "Red Sword",
          "Red Tome",
          "Green Bow",
          "Green Tome",
          "Blue Tome",
          "Blue Breath",
          "Red Tome",
          "Red Sword",
          "Blue Tome",
          "Green Tome",
          "Red Sword",
          "Red Sword",
          "Green Axe",
          "Red Sword",
          "Blue Beast",
          "Colorless Beast",
          "Colorless Staff",
          "Colorless Staff",
          "Blue Lance",
          "Red Sword",
          "Green Axe",
          "Colorless Bow",
          "Red Tome",
          "Red Sword",
          "Green Bow",
          "Blue Bow",
          "Green Axe",
          "Red Bow",
          "Blue Lance",
          "Red Sword",
          "Blue Lance",
          "Blue Lance",
          "Green Tome",
          "Green Axe",
          "Red Dagger",
          "Green Axe",
          "Blue Lance",
          "Red Sword",
          "Red Sword",
          "Blue Dagger",
          "Green Dagger",
          "Blue Tome",
          "Blue Lance",
          "Colorless Bow",
          "Red Bow",
          "Blue Lance",
          "Red Sword",
          "Blue Lance",
          "Red Sword",
          "Red Tome",
          "Red Sword",
          "Red Sword",
          "Blue Lance",
          "Blue Tome",
          "Blue Lance",
          "Colorless Staff",
          "Colorless Staff",
          "Red Sword",
          "Blue Lance",
          "Red Sword",
          "Red Tome",
          "Blue Tome",
          "Green Tome",
          "Green Tome",
          "Green Tome",
          "Blue Tome",
          "Red Tome",
          "Red Tome",
          "Blue Tome",
          "Colorless Tome",
          "Green Tome",
          "Green Tome",
          "Blue Tome",
          "Colorless Dagger",
          "Green Dagger",
          "Colorless Dagger",
          "Blue Breath",
          "Red Breath",
          "Green Breath",
          "Red Sword",
          "Blue Lance",
          "Green Bow",
          "Blue Lance",
          "Blue Lance",
          "Blue Lance",
          "Green Axe",
          "Green Axe",
          "Green Tome",
          "Blue Lance",
          "Red Sword",
          "Green Tome",
          "Blue Tome",
          "Colorless Bow",
          "Colorless Bow",
          "Colorless Dagger",
          "Blue Tome",
          "Colorless Bow",
          "Colorless Bow",
          "Blue Lance",
          "Red Tome",
          "Red Sword",
          "Colorless Bow",
          "Green Dagger",
          "Blue Lance",
          "Red Sword",
          "Blue Lance",
          "Colorless Bow",
          "Blue Tome",
          "Colorless Dagger",
          "Colorless Dagger",
          "Red Tome",
          "Blue Tome",
          "Red Tome",
          "Green Tome",
          "Green Tome",
          "Red Tome",
          "Red Tome",
          "Blue Lance",
          "Red Sword",
          "Blue Tome",
          "Green Axe",
          "Green Tome",
          "Red Beast",
          "Colorless Beast",
          "Red Breath",
          "Red Breath",
          "Colorless Breath",
          "Red Breath",
          "Green Breath",
          "Green Breath",
          "Blue Breath",
          "Blue Breath",
          "Red Breath",
          "Green Axe",
          "Colorless Breath",
          "Blue Lance",
          "Blue Lance",
          "Colorless Staff",
          "Red Tome",
          "Colorless Tome",
          "Green Axe",
          "Red Tome",
          "Red Sword",
          "Red Tome",
          "Blue Lance",
          "Green Tome",
          "Red Sword",
          "Colorless Tome",
          "Blue Lance",
          "Blue Bow",
          "Blue Tome",
          "Blue Tome",
          "Colorless Dagger",
          "Green Tome",
          "Green Axe",
          "Blue Lance",
          "Green Axe",
          "Blue Lance",
          "Red Tome",
          "Blue Lance",
          "Blue Lance",
          "Red Tome",
          "Blue Beast",
          "Colorless Beast",
          "Blue Tome",
          "Colorless Staff",
          "Green Axe",
          "Red Tome",
          "Green Tome",
          "Colorless Tome",
          "Blue Tome",
          "Red Tome",
          "Blue Lance",
          "Green Axe",
          "Colorless Beast",
          "Colorless Bow",
          "Red Dagger",
          "Green Axe",
          "Green Axe",
          "Colorless Bow",
          "Colorless Bow",
          "Green Bow",
          "Colorless Staff",
          "Colorless Dagger",
          "Red Sword",
          "Green Axe",
          "Red Sword",
          "Blue Lance",
          "Green Axe",
          "Colorless Tome",
          "Colorless Staff",
          "Blue Tome",
          "Blue Beast",
          "Green Beast",
          "Red Beast",
          "Red Sword",
          "Green Axe",
          "Blue Dagger",
          "Green Breath",
          "Colorless Tome",
          "Colorless Dagger",
          "Colorless Staff",
          "Colorless Dagger",
          "Colorless Dagger",
          "Green Tome",
          "Colorless Dagger",
          "Red Dagger",
          "Blue Lance",
          "Blue Lance",
          "Green Tome",
          "Red Sword",
          "Blue Lance",
          "Green Axe",
          "Red Tome",
          "Red Sword",
          "Red Sword",
          "Red Sword",
          "Green Axe"
         ],
         "xaxis": "x",
         "y": {
          "bdata": "AQEBAQEBAQEBAQEBAQEBAQEBAQEBAQEBAQEBAQEBAQEBAQEBAQEBAQEBAQEBAQEBAQEBAQEBAQEBAQEBAQEBAQEBAQEBAQEBAQEBAQEBAQEBAQEBAQEBAQEBAQEBAQEBAQEBAQEBAQEBAQEBAQEBAQEBAQEBAQEBAQEBAQEBAQEBAQEBAQEBAQEBAQEBAQEBAQEBAQEBAQEBAQEBAQEBAQEBAQEBAQEBAQEBAQEBAQEBAQEBAQEBAQEBAQEBAQEBAQEBAQEBAQEBAQEBAQEBAQEBAQEBAQEBAQEBAQEBAQEBAQEBAQEBAQEBAQEBAQEBAQEBAQEBAQEBAQEBAQEBAQEBAQEBAQEBAQEBAQEBAQEBAQEBAQEBAQEBAQEBAQEBAQEBAQEBAQEBAQEBAQEBAQEBAQEBAQEBAQEBAQEBAQEBAQEBAQEBAQEBAQEBAQEBAQEBAQEBAQEBAQEBAQEBAQEBAQEBAQEBAQEBAQEBAQEBAQEBAQEBAQEBAQEBAQEBAQEBAQEBAQEBAQEBAQEBAQEBAQEBAQEBAQEBAQEBAQEBAQEBAQEBAQEBAQEBAQEBAQEBAQEBAQEBAQEBAQEBAQEBAQEBAQEBAQEBAQEBAQEBAQEBAQEBAQEBAQEBAQEBAQEBAQEBAQEBAQEBAQEBAQEBAQEBAQEBAQEBAQEBAQEBAQEBAQEBAQEBAQEBAQEBAQEBAQEBAQEBAQEBAQEBAQEBAQEBAQEBAQEBAQEBAQEBAQEBAQEBAQEBAQEBAQEBAQEBAQEBAQEBAQEBAQEBAQEBAQEBAQEBAQEBAQEBAQEBAQEBAQEBAQEBAQEBAQEBAQEBAQEBAQEBAQEBAQEBAQEBAQEBAQEBAQEBAQEBAQEBAQEBAQEBAQEBAQEBAQEBAQEBAQEBAQEBAQEBAQEBAQEBAQEBAQEBAQEBAQEBAQEBAQEBAQEBAQEBAQEBAQEBAQEBAQEBAQEBAQEBAQEBAQEBAQEBAQEBAQEBAQEBAQEBAQEBAQEBAQEBAQEBAQEBAQEBAQEBAQEBAQEBAQEBAQEBAQEBAQEBAQEBAQEBAQEBAQEBAQEBAQEBAQEBAQEBAQEBAQEBAQEBAQEBAQEBAQEBAQEBAQEBAQEBAQEBAQEBAQEBAQEBAQEBAQEBAQEBAQEBAQEBAQEBAQEBAQEBAQEBAQEBAQEBAQEBAQEBAQEBAQEBAQEBAQEBAQEBAQEBAQEBAQEBAQEBAQEBAQEBAQEBAQEBAQEBAQEBAQEBAQEBAQEBAQEBAQEBAQEBAQEBAQEBAQEBAQEBAQEBAQEBAQEBAQEBAQEBAQEBAQEBAQEBAQEBAQEBAQEBAQEBAQEBAQEBAQEBAQEBAQEBAQEBAQEBAQEBAQEBAQEBAQEBAQEBAQEBAQEBAQEBAQEBAQEBAQEBAQEBAQEBAQEBAQEBAQEBAQEBAQEBAQEBAQEBAQEBAQEBAQEBAQEBAQEBAQEBAQEBAQEBAQEBAQEBAQEBAQEBAQEBAQEBAQEBAQEBAQEBAQEBAQEBAQEBAQEBAQEBAQEBAQEBAQEBAQEBAQEBAQEBAQEBAQEBAQEBAQEBAQEBAQEBAQEBAQEBAQEBAQEBAQEBAQEBAQEBAQEBAQEBAQEBAQEBAQEBAQEBAQEBAQEBAQEBAQEBAQEBAQEBAQEBAQEBAQEBAQEB",
          "dtype": "i1"
         },
         "yaxis": "y"
        }
       ],
       "layout": {
        "barmode": "relative",
        "legend": {
         "tracegroupgap": 0
        },
        "margin": {
         "t": 60
        },
        "template": {
         "data": {
          "bar": [
           {
            "error_x": {
             "color": "#2a3f5f"
            },
            "error_y": {
             "color": "#2a3f5f"
            },
            "marker": {
             "line": {
              "color": "#E5ECF6",
              "width": 0.5
             },
             "pattern": {
              "fillmode": "overlay",
              "size": 10,
              "solidity": 0.2
             }
            },
            "type": "bar"
           }
          ],
          "barpolar": [
           {
            "marker": {
             "line": {
              "color": "#E5ECF6",
              "width": 0.5
             },
             "pattern": {
              "fillmode": "overlay",
              "size": 10,
              "solidity": 0.2
             }
            },
            "type": "barpolar"
           }
          ],
          "carpet": [
           {
            "aaxis": {
             "endlinecolor": "#2a3f5f",
             "gridcolor": "white",
             "linecolor": "white",
             "minorgridcolor": "white",
             "startlinecolor": "#2a3f5f"
            },
            "baxis": {
             "endlinecolor": "#2a3f5f",
             "gridcolor": "white",
             "linecolor": "white",
             "minorgridcolor": "white",
             "startlinecolor": "#2a3f5f"
            },
            "type": "carpet"
           }
          ],
          "choropleth": [
           {
            "colorbar": {
             "outlinewidth": 0,
             "ticks": ""
            },
            "type": "choropleth"
           }
          ],
          "contour": [
           {
            "colorbar": {
             "outlinewidth": 0,
             "ticks": ""
            },
            "colorscale": [
             [
              0,
              "#0d0887"
             ],
             [
              0.1111111111111111,
              "#46039f"
             ],
             [
              0.2222222222222222,
              "#7201a8"
             ],
             [
              0.3333333333333333,
              "#9c179e"
             ],
             [
              0.4444444444444444,
              "#bd3786"
             ],
             [
              0.5555555555555556,
              "#d8576b"
             ],
             [
              0.6666666666666666,
              "#ed7953"
             ],
             [
              0.7777777777777778,
              "#fb9f3a"
             ],
             [
              0.8888888888888888,
              "#fdca26"
             ],
             [
              1,
              "#f0f921"
             ]
            ],
            "type": "contour"
           }
          ],
          "contourcarpet": [
           {
            "colorbar": {
             "outlinewidth": 0,
             "ticks": ""
            },
            "type": "contourcarpet"
           }
          ],
          "heatmap": [
           {
            "colorbar": {
             "outlinewidth": 0,
             "ticks": ""
            },
            "colorscale": [
             [
              0,
              "#0d0887"
             ],
             [
              0.1111111111111111,
              "#46039f"
             ],
             [
              0.2222222222222222,
              "#7201a8"
             ],
             [
              0.3333333333333333,
              "#9c179e"
             ],
             [
              0.4444444444444444,
              "#bd3786"
             ],
             [
              0.5555555555555556,
              "#d8576b"
             ],
             [
              0.6666666666666666,
              "#ed7953"
             ],
             [
              0.7777777777777778,
              "#fb9f3a"
             ],
             [
              0.8888888888888888,
              "#fdca26"
             ],
             [
              1,
              "#f0f921"
             ]
            ],
            "type": "heatmap"
           }
          ],
          "histogram": [
           {
            "marker": {
             "pattern": {
              "fillmode": "overlay",
              "size": 10,
              "solidity": 0.2
             }
            },
            "type": "histogram"
           }
          ],
          "histogram2d": [
           {
            "colorbar": {
             "outlinewidth": 0,
             "ticks": ""
            },
            "colorscale": [
             [
              0,
              "#0d0887"
             ],
             [
              0.1111111111111111,
              "#46039f"
             ],
             [
              0.2222222222222222,
              "#7201a8"
             ],
             [
              0.3333333333333333,
              "#9c179e"
             ],
             [
              0.4444444444444444,
              "#bd3786"
             ],
             [
              0.5555555555555556,
              "#d8576b"
             ],
             [
              0.6666666666666666,
              "#ed7953"
             ],
             [
              0.7777777777777778,
              "#fb9f3a"
             ],
             [
              0.8888888888888888,
              "#fdca26"
             ],
             [
              1,
              "#f0f921"
             ]
            ],
            "type": "histogram2d"
           }
          ],
          "histogram2dcontour": [
           {
            "colorbar": {
             "outlinewidth": 0,
             "ticks": ""
            },
            "colorscale": [
             [
              0,
              "#0d0887"
             ],
             [
              0.1111111111111111,
              "#46039f"
             ],
             [
              0.2222222222222222,
              "#7201a8"
             ],
             [
              0.3333333333333333,
              "#9c179e"
             ],
             [
              0.4444444444444444,
              "#bd3786"
             ],
             [
              0.5555555555555556,
              "#d8576b"
             ],
             [
              0.6666666666666666,
              "#ed7953"
             ],
             [
              0.7777777777777778,
              "#fb9f3a"
             ],
             [
              0.8888888888888888,
              "#fdca26"
             ],
             [
              1,
              "#f0f921"
             ]
            ],
            "type": "histogram2dcontour"
           }
          ],
          "mesh3d": [
           {
            "colorbar": {
             "outlinewidth": 0,
             "ticks": ""
            },
            "type": "mesh3d"
           }
          ],
          "parcoords": [
           {
            "line": {
             "colorbar": {
              "outlinewidth": 0,
              "ticks": ""
             }
            },
            "type": "parcoords"
           }
          ],
          "pie": [
           {
            "automargin": true,
            "type": "pie"
           }
          ],
          "scatter": [
           {
            "fillpattern": {
             "fillmode": "overlay",
             "size": 10,
             "solidity": 0.2
            },
            "type": "scatter"
           }
          ],
          "scatter3d": [
           {
            "line": {
             "colorbar": {
              "outlinewidth": 0,
              "ticks": ""
             }
            },
            "marker": {
             "colorbar": {
              "outlinewidth": 0,
              "ticks": ""
             }
            },
            "type": "scatter3d"
           }
          ],
          "scattercarpet": [
           {
            "marker": {
             "colorbar": {
              "outlinewidth": 0,
              "ticks": ""
             }
            },
            "type": "scattercarpet"
           }
          ],
          "scattergeo": [
           {
            "marker": {
             "colorbar": {
              "outlinewidth": 0,
              "ticks": ""
             }
            },
            "type": "scattergeo"
           }
          ],
          "scattergl": [
           {
            "marker": {
             "colorbar": {
              "outlinewidth": 0,
              "ticks": ""
             }
            },
            "type": "scattergl"
           }
          ],
          "scattermap": [
           {
            "marker": {
             "colorbar": {
              "outlinewidth": 0,
              "ticks": ""
             }
            },
            "type": "scattermap"
           }
          ],
          "scattermapbox": [
           {
            "marker": {
             "colorbar": {
              "outlinewidth": 0,
              "ticks": ""
             }
            },
            "type": "scattermapbox"
           }
          ],
          "scatterpolar": [
           {
            "marker": {
             "colorbar": {
              "outlinewidth": 0,
              "ticks": ""
             }
            },
            "type": "scatterpolar"
           }
          ],
          "scatterpolargl": [
           {
            "marker": {
             "colorbar": {
              "outlinewidth": 0,
              "ticks": ""
             }
            },
            "type": "scatterpolargl"
           }
          ],
          "scatterternary": [
           {
            "marker": {
             "colorbar": {
              "outlinewidth": 0,
              "ticks": ""
             }
            },
            "type": "scatterternary"
           }
          ],
          "surface": [
           {
            "colorbar": {
             "outlinewidth": 0,
             "ticks": ""
            },
            "colorscale": [
             [
              0,
              "#0d0887"
             ],
             [
              0.1111111111111111,
              "#46039f"
             ],
             [
              0.2222222222222222,
              "#7201a8"
             ],
             [
              0.3333333333333333,
              "#9c179e"
             ],
             [
              0.4444444444444444,
              "#bd3786"
             ],
             [
              0.5555555555555556,
              "#d8576b"
             ],
             [
              0.6666666666666666,
              "#ed7953"
             ],
             [
              0.7777777777777778,
              "#fb9f3a"
             ],
             [
              0.8888888888888888,
              "#fdca26"
             ],
             [
              1,
              "#f0f921"
             ]
            ],
            "type": "surface"
           }
          ],
          "table": [
           {
            "cells": {
             "fill": {
              "color": "#EBF0F8"
             },
             "line": {
              "color": "white"
             }
            },
            "header": {
             "fill": {
              "color": "#C8D4E3"
             },
             "line": {
              "color": "white"
             }
            },
            "type": "table"
           }
          ]
         },
         "layout": {
          "annotationdefaults": {
           "arrowcolor": "#2a3f5f",
           "arrowhead": 0,
           "arrowwidth": 1
          },
          "autotypenumbers": "strict",
          "coloraxis": {
           "colorbar": {
            "outlinewidth": 0,
            "ticks": ""
           }
          },
          "colorscale": {
           "diverging": [
            [
             0,
             "#8e0152"
            ],
            [
             0.1,
             "#c51b7d"
            ],
            [
             0.2,
             "#de77ae"
            ],
            [
             0.3,
             "#f1b6da"
            ],
            [
             0.4,
             "#fde0ef"
            ],
            [
             0.5,
             "#f7f7f7"
            ],
            [
             0.6,
             "#e6f5d0"
            ],
            [
             0.7,
             "#b8e186"
            ],
            [
             0.8,
             "#7fbc41"
            ],
            [
             0.9,
             "#4d9221"
            ],
            [
             1,
             "#276419"
            ]
           ],
           "sequential": [
            [
             0,
             "#0d0887"
            ],
            [
             0.1111111111111111,
             "#46039f"
            ],
            [
             0.2222222222222222,
             "#7201a8"
            ],
            [
             0.3333333333333333,
             "#9c179e"
            ],
            [
             0.4444444444444444,
             "#bd3786"
            ],
            [
             0.5555555555555556,
             "#d8576b"
            ],
            [
             0.6666666666666666,
             "#ed7953"
            ],
            [
             0.7777777777777778,
             "#fb9f3a"
            ],
            [
             0.8888888888888888,
             "#fdca26"
            ],
            [
             1,
             "#f0f921"
            ]
           ],
           "sequentialminus": [
            [
             0,
             "#0d0887"
            ],
            [
             0.1111111111111111,
             "#46039f"
            ],
            [
             0.2222222222222222,
             "#7201a8"
            ],
            [
             0.3333333333333333,
             "#9c179e"
            ],
            [
             0.4444444444444444,
             "#bd3786"
            ],
            [
             0.5555555555555556,
             "#d8576b"
            ],
            [
             0.6666666666666666,
             "#ed7953"
            ],
            [
             0.7777777777777778,
             "#fb9f3a"
            ],
            [
             0.8888888888888888,
             "#fdca26"
            ],
            [
             1,
             "#f0f921"
            ]
           ]
          },
          "colorway": [
           "#636efa",
           "#EF553B",
           "#00cc96",
           "#ab63fa",
           "#FFA15A",
           "#19d3f3",
           "#FF6692",
           "#B6E880",
           "#FF97FF",
           "#FECB52"
          ],
          "font": {
           "color": "#2a3f5f"
          },
          "geo": {
           "bgcolor": "white",
           "lakecolor": "white",
           "landcolor": "#E5ECF6",
           "showlakes": true,
           "showland": true,
           "subunitcolor": "white"
          },
          "hoverlabel": {
           "align": "left"
          },
          "hovermode": "closest",
          "mapbox": {
           "style": "light"
          },
          "paper_bgcolor": "white",
          "plot_bgcolor": "#E5ECF6",
          "polar": {
           "angularaxis": {
            "gridcolor": "white",
            "linecolor": "white",
            "ticks": ""
           },
           "bgcolor": "#E5ECF6",
           "radialaxis": {
            "gridcolor": "white",
            "linecolor": "white",
            "ticks": ""
           }
          },
          "scene": {
           "xaxis": {
            "backgroundcolor": "#E5ECF6",
            "gridcolor": "white",
            "gridwidth": 2,
            "linecolor": "white",
            "showbackground": true,
            "ticks": "",
            "zerolinecolor": "white"
           },
           "yaxis": {
            "backgroundcolor": "#E5ECF6",
            "gridcolor": "white",
            "gridwidth": 2,
            "linecolor": "white",
            "showbackground": true,
            "ticks": "",
            "zerolinecolor": "white"
           },
           "zaxis": {
            "backgroundcolor": "#E5ECF6",
            "gridcolor": "white",
            "gridwidth": 2,
            "linecolor": "white",
            "showbackground": true,
            "ticks": "",
            "zerolinecolor": "white"
           }
          },
          "shapedefaults": {
           "line": {
            "color": "#2a3f5f"
           }
          },
          "ternary": {
           "aaxis": {
            "gridcolor": "white",
            "linecolor": "white",
            "ticks": ""
           },
           "baxis": {
            "gridcolor": "white",
            "linecolor": "white",
            "ticks": ""
           },
           "bgcolor": "#E5ECF6",
           "caxis": {
            "gridcolor": "white",
            "linecolor": "white",
            "ticks": ""
           }
          },
          "title": {
           "x": 0.05
          },
          "xaxis": {
           "automargin": true,
           "gridcolor": "white",
           "linecolor": "white",
           "ticks": "",
           "title": {
            "standoff": 15
           },
           "zerolinecolor": "white",
           "zerolinewidth": 2
          },
          "yaxis": {
           "automargin": true,
           "gridcolor": "white",
           "linecolor": "white",
           "ticks": "",
           "title": {
            "standoff": 15
           },
           "zerolinecolor": "white",
           "zerolinewidth": 2
          }
         }
        },
        "xaxis": {
         "anchor": "y",
         "domain": [
          0,
          1
         ],
         "title": {
          "text": "Weapon"
         }
        },
        "yaxis": {
         "anchor": "x",
         "domain": [
          0,
          1
         ],
         "title": {
          "text": "count"
         }
        }
       }
      }
     },
     "metadata": {},
     "output_type": "display_data"
    }
   ],
   "source": [
    "px.bar(heroes_table, x='Weapon')"
   ]
  },
  {
   "cell_type": "code",
   "execution_count": 10,
   "id": "977df58f",
   "metadata": {},
   "outputs": [],
   "source": [
    "# def color(str):\n",
    "#     return str.split(' ')[0]\n",
    "\n",
    "# heroes_table['Color'] = heroes_table['Weapon'].apply(color)\n",
    "# heroes_table.head()"
   ]
  },
  {
   "cell_type": "code",
   "execution_count": 11,
   "id": "2af7f866",
   "metadata": {},
   "outputs": [
    {
     "data": {
      "application/vnd.plotly.v1+json": {
       "config": {
        "plotlyServerURL": "https://plot.ly"
       },
       "data": [
        {
         "hovertemplate": "Color=%{x}<br>count=%{y}<extra></extra>",
         "legendgroup": "",
         "marker": {
          "color": "#636efa",
          "pattern": {
           "shape": ""
          }
         },
         "name": "",
         "orientation": "v",
         "showlegend": false,
         "textposition": "auto",
         "type": "bar",
         "x": [
          "Blue",
          "Red",
          "Colorless",
          "Red",
          "Green",
          "Red",
          "Red",
          "Colorless",
          "Red",
          "Blue",
          "Green",
          "Colorless",
          "Blue",
          "Green",
          "Red",
          "Green",
          "Green",
          "Blue",
          "Red",
          "Red",
          "Green",
          "Colorless",
          "Colorless",
          "Blue",
          "Red",
          "Red",
          "Green",
          "Blue",
          "Green",
          "Blue",
          "Green",
          "Green",
          "Blue",
          "Green",
          "Red",
          "Red",
          "Colorless",
          "Green",
          "Red",
          "Red",
          "Red",
          "Blue",
          "Colorless",
          "Green",
          "Green",
          "Green",
          "Colorless",
          "Red",
          "Green",
          "Blue",
          "Colorless",
          "Red",
          "Green",
          "Blue",
          "Colorless",
          "Red",
          "Colorless",
          "Colorless",
          "Colorless",
          "Red",
          "Green",
          "Red",
          "Blue",
          "Green",
          "Colorless",
          "Red",
          "Red",
          "Red",
          "Red",
          "Colorless",
          "Red",
          "Green",
          "Green",
          "Green",
          "Blue",
          "Green",
          "Blue",
          "Green",
          "Green",
          "Red",
          "Green",
          "Red",
          "Green",
          "Green",
          "Green",
          "Blue",
          "Blue",
          "Blue",
          "Blue",
          "Colorless",
          "Green",
          "Blue",
          "Blue",
          "Red",
          "Green",
          "Red",
          "Red",
          "Green",
          "Green",
          "Blue",
          "Green",
          "Colorless",
          "Colorless",
          "Green",
          "Green",
          "Red",
          "Blue",
          "Colorless",
          "Green",
          "Red",
          "Blue",
          "Red",
          "Red",
          "Colorless",
          "Red",
          "Blue",
          "Green",
          "Red",
          "Blue",
          "Blue",
          "Red",
          "Green",
          "Blue",
          "Red",
          "Blue",
          "Green",
          "Red",
          "Colorless",
          "Green",
          "Green",
          "Red",
          "Red",
          "Colorless",
          "Red",
          "Green",
          "Colorless",
          "Blue",
          "Green",
          "Blue",
          "Red",
          "Colorless",
          "Green",
          "Green",
          "Red",
          "Blue",
          "Green",
          "Red",
          "Green",
          "Blue",
          "Red",
          "Blue",
          "Blue",
          "Red",
          "Green",
          "Colorless",
          "Green",
          "Green",
          "Red",
          "Red",
          "Blue",
          "Green",
          "Colorless",
          "Colorless",
          "Red",
          "Green",
          "Blue",
          "Blue",
          "Colorless",
          "Blue",
          "Green",
          "Green",
          "Green",
          "Blue",
          "Red",
          "Blue",
          "Red",
          "Red",
          "Blue",
          "Red",
          "Green",
          "Red",
          "Green",
          "Red",
          "Green",
          "Blue",
          "Colorless",
          "Colorless",
          "Colorless",
          "Colorless",
          "Blue",
          "Green",
          "Colorless",
          "Colorless",
          "Blue",
          "Colorless",
          "Blue",
          "Blue",
          "Blue",
          "Red",
          "Red",
          "Blue",
          "Blue",
          "Colorless",
          "Blue",
          "Blue",
          "Colorless",
          "Blue",
          "Green",
          "Green",
          "Colorless",
          "Blue",
          "Blue",
          "Green",
          "Colorless",
          "Red",
          "Blue",
          "Green",
          "Blue",
          "Colorless",
          "Blue",
          "Colorless",
          "Blue",
          "Blue",
          "Red",
          "Red",
          "Green",
          "Green",
          "Red",
          "Green",
          "Blue",
          "Blue",
          "Green",
          "Green",
          "Colorless",
          "Blue",
          "Green",
          "Blue",
          "Blue",
          "Blue",
          "Red",
          "Red",
          "Green",
          "Red",
          "Green",
          "Green",
          "Blue",
          "Blue",
          "Blue",
          "Green",
          "Red",
          "Blue",
          "Blue",
          "Green",
          "Blue",
          "Green",
          "Green",
          "Blue",
          "Colorless",
          "Red",
          "Red",
          "Colorless",
          "Colorless",
          "Red",
          "Blue",
          "Colorless",
          "Red",
          "Colorless",
          "Green",
          "Colorless",
          "Green",
          "Green",
          "Green",
          "Colorless",
          "Blue",
          "Red",
          "Green",
          "Red",
          "Blue",
          "Green",
          "Blue",
          "Colorless",
          "Green",
          "Colorless",
          "Red",
          "Red",
          "Green",
          "Colorless",
          "Red",
          "Red",
          "Blue",
          "Green",
          "Red",
          "Red",
          "Blue",
          "Colorless",
          "Green",
          "Red",
          "Blue",
          "Colorless",
          "Colorless",
          "Colorless",
          "Colorless",
          "Colorless",
          "Green",
          "Red",
          "Blue",
          "Red",
          "Red",
          "Colorless",
          "Colorless",
          "Colorless",
          "Green",
          "Red",
          "Blue",
          "Red",
          "Blue",
          "Red",
          "Green",
          "Red",
          "Colorless",
          "Red",
          "Colorless",
          "Colorless",
          "Red",
          "Blue",
          "Blue",
          "Blue",
          "Blue",
          "Green",
          "Blue",
          "Green",
          "Colorless",
          "Blue",
          "Red",
          "Blue",
          "Blue",
          "Blue",
          "Colorless",
          "Colorless",
          "Colorless",
          "Red",
          "Red",
          "Red",
          "Blue",
          "Green",
          "Green",
          "Red",
          "Blue",
          "Green",
          "Blue",
          "Colorless",
          "Colorless",
          "Blue",
          "Red",
          "Green",
          "Colorless",
          "Green",
          "Blue",
          "Red",
          "Red",
          "Green",
          "Blue",
          "Blue",
          "Blue",
          "Blue",
          "Red",
          "Green",
          "Red",
          "Red",
          "Colorless",
          "Blue",
          "Green",
          "Green",
          "Blue",
          "Red",
          "Green",
          "Red",
          "Red",
          "Colorless",
          "Colorless",
          "Red",
          "Colorless",
          "Red",
          "Colorless",
          "Blue",
          "Green",
          "Colorless",
          "Red",
          "Colorless",
          "Red",
          "Colorless",
          "Blue",
          "Green",
          "Colorless",
          "Green",
          "Green",
          "Colorless",
          "Green",
          "Blue",
          "Red",
          "Green",
          "Colorless",
          "Colorless",
          "Blue",
          "Red",
          "Green",
          "Colorless",
          "Red",
          "Green",
          "Blue",
          "Blue",
          "Colorless",
          "Colorless",
          "Blue",
          "Green",
          "Green",
          "Red",
          "Blue",
          "Colorless",
          "Red",
          "Blue",
          "Green",
          "Colorless",
          "Red",
          "Colorless",
          "Red",
          "Red",
          "Green",
          "Colorless",
          "Blue",
          "Green",
          "Blue",
          "Colorless",
          "Red",
          "Colorless",
          "Blue",
          "Colorless",
          "Green",
          "Red",
          "Green",
          "Green",
          "Green",
          "Red",
          "Blue",
          "Green",
          "Red",
          "Green",
          "Red",
          "Red",
          "Green",
          "Blue",
          "Blue",
          "Blue",
          "Red",
          "Green",
          "Blue",
          "Red",
          "Blue",
          "Colorless",
          "Green",
          "Blue",
          "Red",
          "Green",
          "Green",
          "Green",
          "Red",
          "Green",
          "Green",
          "Green",
          "Colorless",
          "Green",
          "Green",
          "Red",
          "Red",
          "Green",
          "Colorless",
          "Red",
          "Blue",
          "Colorless",
          "Green",
          "Blue",
          "Green",
          "Red",
          "Green",
          "Red",
          "Colorless",
          "Green",
          "Green",
          "Red",
          "Blue",
          "Red",
          "Colorless",
          "Colorless",
          "Blue",
          "Green",
          "Red",
          "Blue",
          "Red",
          "Blue",
          "Red",
          "Red",
          "Red",
          "Red",
          "Blue",
          "Red",
          "Colorless",
          "Red",
          "Colorless",
          "Blue",
          "Green",
          "Red",
          "Blue",
          "Red",
          "Red",
          "Red",
          "Red",
          "Red",
          "Green",
          "Blue",
          "Blue",
          "Blue",
          "Blue",
          "Blue",
          "Green",
          "Red",
          "Green",
          "Green",
          "Colorless",
          "Colorless",
          "Colorless",
          "Blue",
          "Blue",
          "Blue",
          "Red",
          "Red",
          "Blue",
          "Green",
          "Colorless",
          "Green",
          "Blue",
          "Colorless",
          "Colorless",
          "Colorless",
          "Blue",
          "Red",
          "Colorless",
          "Blue",
          "Red",
          "Green",
          "Blue",
          "Colorless",
          "Red",
          "Red",
          "Colorless",
          "Blue",
          "Red",
          "Green",
          "Red",
          "Colorless",
          "Red",
          "Red",
          "Blue",
          "Green",
          "Red",
          "Green",
          "Colorless",
          "Colorless",
          "Colorless",
          "Red",
          "Red",
          "Green",
          "Blue",
          "Red",
          "Blue",
          "Red",
          "Blue",
          "Green",
          "Blue",
          "Red",
          "Blue",
          "Red",
          "Colorless",
          "Red",
          "Green",
          "Red",
          "Red",
          "Red",
          "Colorless",
          "Red",
          "Blue",
          "Colorless",
          "Blue",
          "Red",
          "Green",
          "Red",
          "Blue",
          "Colorless",
          "Red",
          "Red",
          "Green",
          "Blue",
          "Red",
          "Green",
          "Blue",
          "Colorless",
          "Colorless",
          "Green",
          "Colorless",
          "Blue",
          "Blue",
          "Colorless",
          "Blue",
          "Red",
          "Green",
          "Colorless",
          "Green",
          "Red",
          "Colorless",
          "Blue",
          "Red",
          "Red",
          "Red",
          "Blue",
          "Red",
          "Green",
          "Blue",
          "Colorless",
          "Red",
          "Colorless",
          "Colorless",
          "Colorless",
          "Colorless",
          "Green",
          "Colorless",
          "Red",
          "Colorless",
          "Red",
          "Colorless",
          "Colorless",
          "Colorless",
          "Colorless",
          "Red",
          "Red",
          "Green",
          "Colorless",
          "Red",
          "Green",
          "Red",
          "Colorless",
          "Colorless",
          "Colorless",
          "Blue",
          "Red",
          "Green",
          "Green",
          "Green",
          "Blue",
          "Green",
          "Green",
          "Red",
          "Red",
          "Red",
          "Green",
          "Red",
          "Blue",
          "Green",
          "Green",
          "Red",
          "Red",
          "Blue",
          "Red",
          "Green",
          "Red",
          "Blue",
          "Colorless",
          "Colorless",
          "Colorless",
          "Green",
          "Green",
          "Green",
          "Green",
          "Colorless",
          "Colorless",
          "Red",
          "Red",
          "Colorless",
          "Colorless",
          "Colorless",
          "Red",
          "Green",
          "Red",
          "Colorless",
          "Colorless",
          "Blue",
          "Red",
          "Blue",
          "Green",
          "Green",
          "Red",
          "Blue",
          "Colorless",
          "Blue",
          "Colorless",
          "Colorless",
          "Green",
          "Green",
          "Blue",
          "Blue",
          "Red",
          "Red",
          "Red",
          "Blue",
          "Blue",
          "Blue",
          "Green",
          "Blue",
          "Blue",
          "Colorless",
          "Colorless",
          "Blue",
          "Red",
          "Green",
          "Colorless",
          "Green",
          "Blue",
          "Green",
          "Green",
          "Blue",
          "Red",
          "Red",
          "Colorless",
          "Red",
          "Red",
          "Colorless",
          "Colorless",
          "Blue",
          "Green",
          "Red",
          "Red",
          "Green",
          "Red",
          "Blue",
          "Red",
          "Red",
          "Red",
          "Colorless",
          "Colorless",
          "Green",
          "Blue",
          "Red",
          "Colorless",
          "Colorless",
          "Red",
          "Blue",
          "Green",
          "Blue",
          "Red",
          "Green",
          "Green",
          "Red",
          "Red",
          "Red",
          "Red",
          "Red",
          "Red",
          "Red",
          "Colorless",
          "Blue",
          "Colorless",
          "Blue",
          "Blue",
          "Colorless",
          "Blue",
          "Blue",
          "Colorless",
          "Red",
          "Colorless",
          "Green",
          "Green",
          "Green",
          "Red",
          "Colorless",
          "Red",
          "Colorless",
          "Red",
          "Colorless",
          "Green",
          "Colorless",
          "Green",
          "Blue",
          "Green",
          "Colorless",
          "Red",
          "Colorless",
          "Green",
          "Blue",
          "Blue",
          "Red",
          "Colorless",
          "Colorless",
          "Green",
          "Green",
          "Blue",
          "Red",
          "Blue",
          "Blue",
          "Red",
          "Blue",
          "Colorless",
          "Green",
          "Blue",
          "Green",
          "Blue",
          "Green",
          "Red",
          "Red",
          "Blue",
          "Blue",
          "Blue",
          "Green",
          "Red",
          "Colorless",
          "Green",
          "Blue",
          "Colorless",
          "Green",
          "Blue",
          "Red",
          "Colorless",
          "Red",
          "Blue",
          "Blue",
          "Colorless",
          "Colorless",
          "Green",
          "Red",
          "Green",
          "Red",
          "Green",
          "Red",
          "Blue",
          "Red",
          "Colorless",
          "Colorless",
          "Blue",
          "Green",
          "Colorless",
          "Blue",
          "Red",
          "Red",
          "Green",
          "Blue",
          "Red",
          "Red",
          "Blue",
          "Colorless",
          "Green",
          "Green",
          "Blue",
          "Colorless",
          "Colorless",
          "Blue",
          "Red",
          "Blue",
          "Colorless",
          "Colorless",
          "Colorless",
          "Blue",
          "Blue",
          "Blue",
          "Green",
          "Colorless",
          "Colorless",
          "Blue",
          "Blue",
          "Green",
          "Blue",
          "Red",
          "Green",
          "Blue",
          "Green",
          "Green",
          "Red",
          "Blue",
          "Colorless",
          "Red",
          "Colorless",
          "Green",
          "Blue",
          "Colorless",
          "Blue",
          "Red",
          "Blue",
          "Blue",
          "Colorless",
          "Red",
          "Red",
          "Blue",
          "Blue",
          "Red",
          "Blue",
          "Red",
          "Blue",
          "Red",
          "Colorless",
          "Red",
          "Colorless",
          "Blue",
          "Green",
          "Blue",
          "Red",
          "Green",
          "Blue",
          "Blue",
          "Green",
          "Blue",
          "Green",
          "Red",
          "Blue",
          "Red",
          "Red",
          "Red",
          "Blue",
          "Green",
          "Colorless",
          "Green",
          "Blue",
          "Red",
          "Colorless",
          "Red",
          "Blue",
          "Green",
          "Green",
          "Green",
          "Blue",
          "Blue",
          "Blue",
          "Colorless",
          "Red",
          "Blue",
          "Blue",
          "Blue",
          "Red",
          "Red",
          "Blue",
          "Blue",
          "Colorless",
          "Red",
          "Colorless",
          "Green",
          "Blue",
          "Blue",
          "Red",
          "Blue",
          "Red",
          "Green",
          "Colorless",
          "Blue",
          "Green",
          "Green",
          "Colorless",
          "Colorless",
          "Blue",
          "Red",
          "Blue",
          "Green",
          "Green",
          "Blue",
          "Blue",
          "Red",
          "Green",
          "Green",
          "Green",
          "Colorless",
          "Colorless",
          "Colorless",
          "Green",
          "Colorless",
          "Red",
          "Green",
          "Blue",
          "Blue",
          "Red",
          "Green",
          "Red",
          "Green",
          "Colorless",
          "Colorless",
          "Green",
          "Red",
          "Green",
          "Colorless",
          "Colorless",
          "Blue",
          "Blue",
          "Red",
          "Green",
          "Blue",
          "Colorless",
          "Blue",
          "Blue",
          "Colorless",
          "Blue",
          "Green",
          "Blue",
          "Green",
          "Green",
          "Red",
          "Red",
          "Red",
          "Colorless",
          "Blue",
          "Colorless",
          "Red",
          "Blue",
          "Red",
          "Blue",
          "Red",
          "Red",
          "Blue",
          "Colorless",
          "Blue",
          "Blue",
          "Colorless",
          "Blue",
          "Colorless",
          "Colorless",
          "Colorless",
          "Colorless",
          "Green",
          "Red",
          "Green",
          "Red",
          "Red",
          "Colorless",
          "Colorless",
          "Colorless",
          "Red",
          "Blue",
          "Red",
          "Red",
          "Green",
          "Green",
          "Blue",
          "Blue",
          "Red",
          "Red",
          "Blue",
          "Green",
          "Red",
          "Red",
          "Green",
          "Red",
          "Blue",
          "Colorless",
          "Colorless",
          "Colorless",
          "Blue",
          "Red",
          "Green",
          "Colorless",
          "Red",
          "Red",
          "Green",
          "Blue",
          "Green",
          "Red",
          "Blue",
          "Red",
          "Blue",
          "Blue",
          "Green",
          "Green",
          "Red",
          "Green",
          "Blue",
          "Red",
          "Red",
          "Blue",
          "Green",
          "Blue",
          "Blue",
          "Colorless",
          "Red",
          "Blue",
          "Red",
          "Blue",
          "Red",
          "Red",
          "Red",
          "Red",
          "Blue",
          "Blue",
          "Blue",
          "Colorless",
          "Colorless",
          "Red",
          "Blue",
          "Red",
          "Red",
          "Blue",
          "Green",
          "Green",
          "Green",
          "Blue",
          "Red",
          "Red",
          "Blue",
          "Colorless",
          "Green",
          "Green",
          "Blue",
          "Colorless",
          "Green",
          "Colorless",
          "Blue",
          "Red",
          "Green",
          "Red",
          "Blue",
          "Green",
          "Blue",
          "Blue",
          "Blue",
          "Green",
          "Green",
          "Green",
          "Blue",
          "Red",
          "Green",
          "Blue",
          "Colorless",
          "Colorless",
          "Colorless",
          "Blue",
          "Colorless",
          "Colorless",
          "Blue",
          "Red",
          "Red",
          "Colorless",
          "Green",
          "Blue",
          "Red",
          "Blue",
          "Colorless",
          "Blue",
          "Colorless",
          "Colorless",
          "Red",
          "Blue",
          "Red",
          "Green",
          "Green",
          "Red",
          "Red",
          "Blue",
          "Red",
          "Blue",
          "Green",
          "Green",
          "Red",
          "Colorless",
          "Red",
          "Red",
          "Colorless",
          "Red",
          "Green",
          "Green",
          "Blue",
          "Blue",
          "Red",
          "Green",
          "Colorless",
          "Blue",
          "Blue",
          "Colorless",
          "Red",
          "Colorless",
          "Green",
          "Red",
          "Red",
          "Red",
          "Blue",
          "Green",
          "Red",
          "Colorless",
          "Blue",
          "Blue",
          "Blue",
          "Blue",
          "Colorless",
          "Green",
          "Green",
          "Blue",
          "Green",
          "Blue",
          "Red",
          "Blue",
          "Blue",
          "Red",
          "Blue",
          "Colorless",
          "Blue",
          "Colorless",
          "Green",
          "Red",
          "Green",
          "Colorless",
          "Blue",
          "Red",
          "Blue",
          "Green",
          "Colorless",
          "Colorless",
          "Red",
          "Green",
          "Green",
          "Colorless",
          "Colorless",
          "Green",
          "Colorless",
          "Colorless",
          "Red",
          "Green",
          "Red",
          "Blue",
          "Green",
          "Colorless",
          "Colorless",
          "Blue",
          "Blue",
          "Green",
          "Red",
          "Red",
          "Green",
          "Blue",
          "Green",
          "Colorless",
          "Colorless",
          "Colorless",
          "Colorless",
          "Colorless",
          "Green",
          "Colorless",
          "Red",
          "Blue",
          "Blue",
          "Green",
          "Red",
          "Blue",
          "Green",
          "Red",
          "Red",
          "Red",
          "Red",
          "Green"
         ],
         "xaxis": "x",
         "y": {
          "bdata": "AQEBAQEBAQEBAQEBAQEBAQEBAQEBAQEBAQEBAQEBAQEBAQEBAQEBAQEBAQEBAQEBAQEBAQEBAQEBAQEBAQEBAQEBAQEBAQEBAQEBAQEBAQEBAQEBAQEBAQEBAQEBAQEBAQEBAQEBAQEBAQEBAQEBAQEBAQEBAQEBAQEBAQEBAQEBAQEBAQEBAQEBAQEBAQEBAQEBAQEBAQEBAQEBAQEBAQEBAQEBAQEBAQEBAQEBAQEBAQEBAQEBAQEBAQEBAQEBAQEBAQEBAQEBAQEBAQEBAQEBAQEBAQEBAQEBAQEBAQEBAQEBAQEBAQEBAQEBAQEBAQEBAQEBAQEBAQEBAQEBAQEBAQEBAQEBAQEBAQEBAQEBAQEBAQEBAQEBAQEBAQEBAQEBAQEBAQEBAQEBAQEBAQEBAQEBAQEBAQEBAQEBAQEBAQEBAQEBAQEBAQEBAQEBAQEBAQEBAQEBAQEBAQEBAQEBAQEBAQEBAQEBAQEBAQEBAQEBAQEBAQEBAQEBAQEBAQEBAQEBAQEBAQEBAQEBAQEBAQEBAQEBAQEBAQEBAQEBAQEBAQEBAQEBAQEBAQEBAQEBAQEBAQEBAQEBAQEBAQEBAQEBAQEBAQEBAQEBAQEBAQEBAQEBAQEBAQEBAQEBAQEBAQEBAQEBAQEBAQEBAQEBAQEBAQEBAQEBAQEBAQEBAQEBAQEBAQEBAQEBAQEBAQEBAQEBAQEBAQEBAQEBAQEBAQEBAQEBAQEBAQEBAQEBAQEBAQEBAQEBAQEBAQEBAQEBAQEBAQEBAQEBAQEBAQEBAQEBAQEBAQEBAQEBAQEBAQEBAQEBAQEBAQEBAQEBAQEBAQEBAQEBAQEBAQEBAQEBAQEBAQEBAQEBAQEBAQEBAQEBAQEBAQEBAQEBAQEBAQEBAQEBAQEBAQEBAQEBAQEBAQEBAQEBAQEBAQEBAQEBAQEBAQEBAQEBAQEBAQEBAQEBAQEBAQEBAQEBAQEBAQEBAQEBAQEBAQEBAQEBAQEBAQEBAQEBAQEBAQEBAQEBAQEBAQEBAQEBAQEBAQEBAQEBAQEBAQEBAQEBAQEBAQEBAQEBAQEBAQEBAQEBAQEBAQEBAQEBAQEBAQEBAQEBAQEBAQEBAQEBAQEBAQEBAQEBAQEBAQEBAQEBAQEBAQEBAQEBAQEBAQEBAQEBAQEBAQEBAQEBAQEBAQEBAQEBAQEBAQEBAQEBAQEBAQEBAQEBAQEBAQEBAQEBAQEBAQEBAQEBAQEBAQEBAQEBAQEBAQEBAQEBAQEBAQEBAQEBAQEBAQEBAQEBAQEBAQEBAQEBAQEBAQEBAQEBAQEBAQEBAQEBAQEBAQEBAQEBAQEBAQEBAQEBAQEBAQEBAQEBAQEBAQEBAQEBAQEBAQEBAQEBAQEBAQEBAQEBAQEBAQEBAQEBAQEBAQEBAQEBAQEBAQEBAQEBAQEBAQEBAQEBAQEBAQEBAQEBAQEBAQEBAQEBAQEBAQEBAQEBAQEBAQEBAQEBAQEBAQEBAQEBAQEBAQEBAQEBAQEBAQEBAQEBAQEBAQEBAQEBAQEBAQEBAQEBAQEBAQEBAQEBAQEBAQEBAQEBAQEBAQEBAQEBAQEBAQEBAQEBAQEBAQEBAQEBAQEBAQEBAQEBAQEBAQEBAQEBAQEBAQEBAQEBAQEBAQEBAQEBAQEBAQEBAQEBAQEB",
          "dtype": "i1"
         },
         "yaxis": "y"
        }
       ],
       "layout": {
        "barmode": "relative",
        "legend": {
         "tracegroupgap": 0
        },
        "margin": {
         "t": 60
        },
        "template": {
         "data": {
          "bar": [
           {
            "error_x": {
             "color": "#2a3f5f"
            },
            "error_y": {
             "color": "#2a3f5f"
            },
            "marker": {
             "line": {
              "color": "#E5ECF6",
              "width": 0.5
             },
             "pattern": {
              "fillmode": "overlay",
              "size": 10,
              "solidity": 0.2
             }
            },
            "type": "bar"
           }
          ],
          "barpolar": [
           {
            "marker": {
             "line": {
              "color": "#E5ECF6",
              "width": 0.5
             },
             "pattern": {
              "fillmode": "overlay",
              "size": 10,
              "solidity": 0.2
             }
            },
            "type": "barpolar"
           }
          ],
          "carpet": [
           {
            "aaxis": {
             "endlinecolor": "#2a3f5f",
             "gridcolor": "white",
             "linecolor": "white",
             "minorgridcolor": "white",
             "startlinecolor": "#2a3f5f"
            },
            "baxis": {
             "endlinecolor": "#2a3f5f",
             "gridcolor": "white",
             "linecolor": "white",
             "minorgridcolor": "white",
             "startlinecolor": "#2a3f5f"
            },
            "type": "carpet"
           }
          ],
          "choropleth": [
           {
            "colorbar": {
             "outlinewidth": 0,
             "ticks": ""
            },
            "type": "choropleth"
           }
          ],
          "contour": [
           {
            "colorbar": {
             "outlinewidth": 0,
             "ticks": ""
            },
            "colorscale": [
             [
              0,
              "#0d0887"
             ],
             [
              0.1111111111111111,
              "#46039f"
             ],
             [
              0.2222222222222222,
              "#7201a8"
             ],
             [
              0.3333333333333333,
              "#9c179e"
             ],
             [
              0.4444444444444444,
              "#bd3786"
             ],
             [
              0.5555555555555556,
              "#d8576b"
             ],
             [
              0.6666666666666666,
              "#ed7953"
             ],
             [
              0.7777777777777778,
              "#fb9f3a"
             ],
             [
              0.8888888888888888,
              "#fdca26"
             ],
             [
              1,
              "#f0f921"
             ]
            ],
            "type": "contour"
           }
          ],
          "contourcarpet": [
           {
            "colorbar": {
             "outlinewidth": 0,
             "ticks": ""
            },
            "type": "contourcarpet"
           }
          ],
          "heatmap": [
           {
            "colorbar": {
             "outlinewidth": 0,
             "ticks": ""
            },
            "colorscale": [
             [
              0,
              "#0d0887"
             ],
             [
              0.1111111111111111,
              "#46039f"
             ],
             [
              0.2222222222222222,
              "#7201a8"
             ],
             [
              0.3333333333333333,
              "#9c179e"
             ],
             [
              0.4444444444444444,
              "#bd3786"
             ],
             [
              0.5555555555555556,
              "#d8576b"
             ],
             [
              0.6666666666666666,
              "#ed7953"
             ],
             [
              0.7777777777777778,
              "#fb9f3a"
             ],
             [
              0.8888888888888888,
              "#fdca26"
             ],
             [
              1,
              "#f0f921"
             ]
            ],
            "type": "heatmap"
           }
          ],
          "histogram": [
           {
            "marker": {
             "pattern": {
              "fillmode": "overlay",
              "size": 10,
              "solidity": 0.2
             }
            },
            "type": "histogram"
           }
          ],
          "histogram2d": [
           {
            "colorbar": {
             "outlinewidth": 0,
             "ticks": ""
            },
            "colorscale": [
             [
              0,
              "#0d0887"
             ],
             [
              0.1111111111111111,
              "#46039f"
             ],
             [
              0.2222222222222222,
              "#7201a8"
             ],
             [
              0.3333333333333333,
              "#9c179e"
             ],
             [
              0.4444444444444444,
              "#bd3786"
             ],
             [
              0.5555555555555556,
              "#d8576b"
             ],
             [
              0.6666666666666666,
              "#ed7953"
             ],
             [
              0.7777777777777778,
              "#fb9f3a"
             ],
             [
              0.8888888888888888,
              "#fdca26"
             ],
             [
              1,
              "#f0f921"
             ]
            ],
            "type": "histogram2d"
           }
          ],
          "histogram2dcontour": [
           {
            "colorbar": {
             "outlinewidth": 0,
             "ticks": ""
            },
            "colorscale": [
             [
              0,
              "#0d0887"
             ],
             [
              0.1111111111111111,
              "#46039f"
             ],
             [
              0.2222222222222222,
              "#7201a8"
             ],
             [
              0.3333333333333333,
              "#9c179e"
             ],
             [
              0.4444444444444444,
              "#bd3786"
             ],
             [
              0.5555555555555556,
              "#d8576b"
             ],
             [
              0.6666666666666666,
              "#ed7953"
             ],
             [
              0.7777777777777778,
              "#fb9f3a"
             ],
             [
              0.8888888888888888,
              "#fdca26"
             ],
             [
              1,
              "#f0f921"
             ]
            ],
            "type": "histogram2dcontour"
           }
          ],
          "mesh3d": [
           {
            "colorbar": {
             "outlinewidth": 0,
             "ticks": ""
            },
            "type": "mesh3d"
           }
          ],
          "parcoords": [
           {
            "line": {
             "colorbar": {
              "outlinewidth": 0,
              "ticks": ""
             }
            },
            "type": "parcoords"
           }
          ],
          "pie": [
           {
            "automargin": true,
            "type": "pie"
           }
          ],
          "scatter": [
           {
            "fillpattern": {
             "fillmode": "overlay",
             "size": 10,
             "solidity": 0.2
            },
            "type": "scatter"
           }
          ],
          "scatter3d": [
           {
            "line": {
             "colorbar": {
              "outlinewidth": 0,
              "ticks": ""
             }
            },
            "marker": {
             "colorbar": {
              "outlinewidth": 0,
              "ticks": ""
             }
            },
            "type": "scatter3d"
           }
          ],
          "scattercarpet": [
           {
            "marker": {
             "colorbar": {
              "outlinewidth": 0,
              "ticks": ""
             }
            },
            "type": "scattercarpet"
           }
          ],
          "scattergeo": [
           {
            "marker": {
             "colorbar": {
              "outlinewidth": 0,
              "ticks": ""
             }
            },
            "type": "scattergeo"
           }
          ],
          "scattergl": [
           {
            "marker": {
             "colorbar": {
              "outlinewidth": 0,
              "ticks": ""
             }
            },
            "type": "scattergl"
           }
          ],
          "scattermap": [
           {
            "marker": {
             "colorbar": {
              "outlinewidth": 0,
              "ticks": ""
             }
            },
            "type": "scattermap"
           }
          ],
          "scattermapbox": [
           {
            "marker": {
             "colorbar": {
              "outlinewidth": 0,
              "ticks": ""
             }
            },
            "type": "scattermapbox"
           }
          ],
          "scatterpolar": [
           {
            "marker": {
             "colorbar": {
              "outlinewidth": 0,
              "ticks": ""
             }
            },
            "type": "scatterpolar"
           }
          ],
          "scatterpolargl": [
           {
            "marker": {
             "colorbar": {
              "outlinewidth": 0,
              "ticks": ""
             }
            },
            "type": "scatterpolargl"
           }
          ],
          "scatterternary": [
           {
            "marker": {
             "colorbar": {
              "outlinewidth": 0,
              "ticks": ""
             }
            },
            "type": "scatterternary"
           }
          ],
          "surface": [
           {
            "colorbar": {
             "outlinewidth": 0,
             "ticks": ""
            },
            "colorscale": [
             [
              0,
              "#0d0887"
             ],
             [
              0.1111111111111111,
              "#46039f"
             ],
             [
              0.2222222222222222,
              "#7201a8"
             ],
             [
              0.3333333333333333,
              "#9c179e"
             ],
             [
              0.4444444444444444,
              "#bd3786"
             ],
             [
              0.5555555555555556,
              "#d8576b"
             ],
             [
              0.6666666666666666,
              "#ed7953"
             ],
             [
              0.7777777777777778,
              "#fb9f3a"
             ],
             [
              0.8888888888888888,
              "#fdca26"
             ],
             [
              1,
              "#f0f921"
             ]
            ],
            "type": "surface"
           }
          ],
          "table": [
           {
            "cells": {
             "fill": {
              "color": "#EBF0F8"
             },
             "line": {
              "color": "white"
             }
            },
            "header": {
             "fill": {
              "color": "#C8D4E3"
             },
             "line": {
              "color": "white"
             }
            },
            "type": "table"
           }
          ]
         },
         "layout": {
          "annotationdefaults": {
           "arrowcolor": "#2a3f5f",
           "arrowhead": 0,
           "arrowwidth": 1
          },
          "autotypenumbers": "strict",
          "coloraxis": {
           "colorbar": {
            "outlinewidth": 0,
            "ticks": ""
           }
          },
          "colorscale": {
           "diverging": [
            [
             0,
             "#8e0152"
            ],
            [
             0.1,
             "#c51b7d"
            ],
            [
             0.2,
             "#de77ae"
            ],
            [
             0.3,
             "#f1b6da"
            ],
            [
             0.4,
             "#fde0ef"
            ],
            [
             0.5,
             "#f7f7f7"
            ],
            [
             0.6,
             "#e6f5d0"
            ],
            [
             0.7,
             "#b8e186"
            ],
            [
             0.8,
             "#7fbc41"
            ],
            [
             0.9,
             "#4d9221"
            ],
            [
             1,
             "#276419"
            ]
           ],
           "sequential": [
            [
             0,
             "#0d0887"
            ],
            [
             0.1111111111111111,
             "#46039f"
            ],
            [
             0.2222222222222222,
             "#7201a8"
            ],
            [
             0.3333333333333333,
             "#9c179e"
            ],
            [
             0.4444444444444444,
             "#bd3786"
            ],
            [
             0.5555555555555556,
             "#d8576b"
            ],
            [
             0.6666666666666666,
             "#ed7953"
            ],
            [
             0.7777777777777778,
             "#fb9f3a"
            ],
            [
             0.8888888888888888,
             "#fdca26"
            ],
            [
             1,
             "#f0f921"
            ]
           ],
           "sequentialminus": [
            [
             0,
             "#0d0887"
            ],
            [
             0.1111111111111111,
             "#46039f"
            ],
            [
             0.2222222222222222,
             "#7201a8"
            ],
            [
             0.3333333333333333,
             "#9c179e"
            ],
            [
             0.4444444444444444,
             "#bd3786"
            ],
            [
             0.5555555555555556,
             "#d8576b"
            ],
            [
             0.6666666666666666,
             "#ed7953"
            ],
            [
             0.7777777777777778,
             "#fb9f3a"
            ],
            [
             0.8888888888888888,
             "#fdca26"
            ],
            [
             1,
             "#f0f921"
            ]
           ]
          },
          "colorway": [
           "#636efa",
           "#EF553B",
           "#00cc96",
           "#ab63fa",
           "#FFA15A",
           "#19d3f3",
           "#FF6692",
           "#B6E880",
           "#FF97FF",
           "#FECB52"
          ],
          "font": {
           "color": "#2a3f5f"
          },
          "geo": {
           "bgcolor": "white",
           "lakecolor": "white",
           "landcolor": "#E5ECF6",
           "showlakes": true,
           "showland": true,
           "subunitcolor": "white"
          },
          "hoverlabel": {
           "align": "left"
          },
          "hovermode": "closest",
          "mapbox": {
           "style": "light"
          },
          "paper_bgcolor": "white",
          "plot_bgcolor": "#E5ECF6",
          "polar": {
           "angularaxis": {
            "gridcolor": "white",
            "linecolor": "white",
            "ticks": ""
           },
           "bgcolor": "#E5ECF6",
           "radialaxis": {
            "gridcolor": "white",
            "linecolor": "white",
            "ticks": ""
           }
          },
          "scene": {
           "xaxis": {
            "backgroundcolor": "#E5ECF6",
            "gridcolor": "white",
            "gridwidth": 2,
            "linecolor": "white",
            "showbackground": true,
            "ticks": "",
            "zerolinecolor": "white"
           },
           "yaxis": {
            "backgroundcolor": "#E5ECF6",
            "gridcolor": "white",
            "gridwidth": 2,
            "linecolor": "white",
            "showbackground": true,
            "ticks": "",
            "zerolinecolor": "white"
           },
           "zaxis": {
            "backgroundcolor": "#E5ECF6",
            "gridcolor": "white",
            "gridwidth": 2,
            "linecolor": "white",
            "showbackground": true,
            "ticks": "",
            "zerolinecolor": "white"
           }
          },
          "shapedefaults": {
           "line": {
            "color": "#2a3f5f"
           }
          },
          "ternary": {
           "aaxis": {
            "gridcolor": "white",
            "linecolor": "white",
            "ticks": ""
           },
           "baxis": {
            "gridcolor": "white",
            "linecolor": "white",
            "ticks": ""
           },
           "bgcolor": "#E5ECF6",
           "caxis": {
            "gridcolor": "white",
            "linecolor": "white",
            "ticks": ""
           }
          },
          "title": {
           "x": 0.05
          },
          "xaxis": {
           "automargin": true,
           "gridcolor": "white",
           "linecolor": "white",
           "ticks": "",
           "title": {
            "standoff": 15
           },
           "zerolinecolor": "white",
           "zerolinewidth": 2
          },
          "yaxis": {
           "automargin": true,
           "gridcolor": "white",
           "linecolor": "white",
           "ticks": "",
           "title": {
            "standoff": 15
           },
           "zerolinecolor": "white",
           "zerolinewidth": 2
          }
         }
        },
        "xaxis": {
         "anchor": "y",
         "domain": [
          0,
          1
         ],
         "title": {
          "text": "Color"
         }
        },
        "yaxis": {
         "anchor": "x",
         "domain": [
          0,
          1
         ],
         "title": {
          "text": "count"
         }
        }
       }
      }
     },
     "metadata": {},
     "output_type": "display_data"
    }
   ],
   "source": [
    "px.bar(heroes_table, x='Color')"
   ]
  },
  {
   "cell_type": "code",
   "execution_count": 12,
   "id": "9053b93f",
   "metadata": {},
   "outputs": [],
   "source": [
    "# heroes_table.to_csv('heroes_table.csv')"
   ]
  },
  {
   "cell_type": "markdown",
   "id": "dee52e99",
   "metadata": {},
   "source": [
    "##### Day 2"
   ]
  },
  {
   "cell_type": "code",
   "execution_count": 13,
   "id": "009d9c50",
   "metadata": {},
   "outputs": [],
   "source": [
    "heroes = pd.read_csv('heroes_table.csv')"
   ]
  },
  {
   "cell_type": "code",
   "execution_count": 14,
   "id": "30d52acc",
   "metadata": {},
   "outputs": [
    {
     "data": {
      "text/html": [
       "<div>\n",
       "<style scoped>\n",
       "    .dataframe tbody tr th:only-of-type {\n",
       "        vertical-align: middle;\n",
       "    }\n",
       "\n",
       "    .dataframe tbody tr th {\n",
       "        vertical-align: top;\n",
       "    }\n",
       "\n",
       "    .dataframe thead th {\n",
       "        text-align: right;\n",
       "    }\n",
       "</style>\n",
       "<table border=\"1\" class=\"dataframe\">\n",
       "  <thead>\n",
       "    <tr style=\"text-align: right;\">\n",
       "      <th></th>\n",
       "      <th>Unnamed: 0</th>\n",
       "      <th>Hero</th>\n",
       "      <th>Entry</th>\n",
       "      <th>Move</th>\n",
       "      <th>Weapon</th>\n",
       "      <th>HP</th>\n",
       "      <th>Atk</th>\n",
       "      <th>Spd</th>\n",
       "      <th>Def</th>\n",
       "      <th>Res</th>\n",
       "      <th>Total</th>\n",
       "      <th>Color</th>\n",
       "    </tr>\n",
       "  </thead>\n",
       "  <tbody>\n",
       "    <tr>\n",
       "      <th>0</th>\n",
       "      <td>0</td>\n",
       "      <td>Abel: The Panther</td>\n",
       "      <td>Shadow Dragon / (New) Mystery</td>\n",
       "      <td>Cavalry</td>\n",
       "      <td>Blue Lance</td>\n",
       "      <td>39</td>\n",
       "      <td>33</td>\n",
       "      <td>32</td>\n",
       "      <td>25</td>\n",
       "      <td>25</td>\n",
       "      <td>154</td>\n",
       "      <td>Blue</td>\n",
       "    </tr>\n",
       "    <tr>\n",
       "      <th>1</th>\n",
       "      <td>1</td>\n",
       "      <td>Aelfric: Custodian Monk</td>\n",
       "      <td>Three Houses</td>\n",
       "      <td>Infantry</td>\n",
       "      <td>Red Tome</td>\n",
       "      <td>43</td>\n",
       "      <td>40</td>\n",
       "      <td>31</td>\n",
       "      <td>20</td>\n",
       "      <td>37</td>\n",
       "      <td>171</td>\n",
       "      <td>Red</td>\n",
       "    </tr>\n",
       "    <tr>\n",
       "      <th>2</th>\n",
       "      <td>2</td>\n",
       "      <td>Alcryst: Tender Archer</td>\n",
       "      <td>Engage</td>\n",
       "      <td>Infantry</td>\n",
       "      <td>Colorless Bow</td>\n",
       "      <td>39</td>\n",
       "      <td>43</td>\n",
       "      <td>46</td>\n",
       "      <td>30</td>\n",
       "      <td>24</td>\n",
       "      <td>182</td>\n",
       "      <td>Colorless</td>\n",
       "    </tr>\n",
       "    <tr>\n",
       "      <th>3</th>\n",
       "      <td>3</td>\n",
       "      <td>Alcryst: Tender Groom</td>\n",
       "      <td>Engage</td>\n",
       "      <td>Infantry</td>\n",
       "      <td>Red Bow</td>\n",
       "      <td>40</td>\n",
       "      <td>44</td>\n",
       "      <td>46</td>\n",
       "      <td>35</td>\n",
       "      <td>23</td>\n",
       "      <td>188</td>\n",
       "      <td>Red</td>\n",
       "    </tr>\n",
       "    <tr>\n",
       "      <th>4</th>\n",
       "      <td>4</td>\n",
       "      <td>Alear: Awoken Divinity</td>\n",
       "      <td>Engage</td>\n",
       "      <td>Infantry</td>\n",
       "      <td>Green Breath</td>\n",
       "      <td>40</td>\n",
       "      <td>41</td>\n",
       "      <td>47</td>\n",
       "      <td>33</td>\n",
       "      <td>37</td>\n",
       "      <td>198</td>\n",
       "      <td>Green</td>\n",
       "    </tr>\n",
       "  </tbody>\n",
       "</table>\n",
       "</div>"
      ],
      "text/plain": [
       "   Unnamed: 0                     Hero                          Entry  \\\n",
       "0           0        Abel: The Panther  Shadow Dragon / (New) Mystery   \n",
       "1           1  Aelfric: Custodian Monk                   Three Houses   \n",
       "2           2   Alcryst: Tender Archer                         Engage   \n",
       "3           3    Alcryst: Tender Groom                         Engage   \n",
       "4           4   Alear: Awoken Divinity                         Engage   \n",
       "\n",
       "       Move         Weapon  HP  Atk  Spd  Def  Res  Total      Color  \n",
       "0   Cavalry     Blue Lance  39   33   32   25   25    154       Blue  \n",
       "1  Infantry       Red Tome  43   40   31   20   37    171        Red  \n",
       "2  Infantry  Colorless Bow  39   43   46   30   24    182  Colorless  \n",
       "3  Infantry        Red Bow  40   44   46   35   23    188        Red  \n",
       "4  Infantry   Green Breath  40   41   47   33   37    198      Green  "
      ]
     },
     "execution_count": 14,
     "metadata": {},
     "output_type": "execute_result"
    }
   ],
   "source": [
    "heroes.head()"
   ]
  },
  {
   "cell_type": "code",
   "execution_count": 15,
   "id": "1b041b03",
   "metadata": {},
   "outputs": [
    {
     "data": {
      "application/vnd.plotly.v1+json": {
       "config": {
        "plotlyServerURL": "https://plot.ly"
       },
       "data": [
        {
         "hovertemplate": "Entry=%{x}<br>Hero=%{y}<extra></extra>",
         "legendgroup": "",
         "marker": {
          "color": "#636efa",
          "pattern": {
           "shape": ""
          }
         },
         "name": "",
         "orientation": "v",
         "showlegend": false,
         "textposition": "auto",
         "type": "bar",
         "x": [
          "Tokyo Mirage Sessions ♯FE Encore",
          "Thracia 776",
          "Path of Radiance",
          "Engage",
          "Radiant Dawn",
          "Echoes",
          "Genealogy of the Holy War",
          "The Binding Blade",
          "The Sacred Stones",
          "The Blazing Blade",
          "Shadow Dragon / (New) Mystery",
          "Three Houses",
          "Awakening",
          "Heroes",
          "Fates"
         ],
         "xaxis": "x",
         "y": {
          "bdata": "BQAiAC8ANQBHAEgASQBNAFQAXgBqAHoAggCIAJkA",
          "dtype": "i2"
         },
         "yaxis": "y"
        }
       ],
       "layout": {
        "barmode": "relative",
        "legend": {
         "tracegroupgap": 0
        },
        "margin": {
         "t": 60
        },
        "template": {
         "data": {
          "bar": [
           {
            "error_x": {
             "color": "#2a3f5f"
            },
            "error_y": {
             "color": "#2a3f5f"
            },
            "marker": {
             "line": {
              "color": "#E5ECF6",
              "width": 0.5
             },
             "pattern": {
              "fillmode": "overlay",
              "size": 10,
              "solidity": 0.2
             }
            },
            "type": "bar"
           }
          ],
          "barpolar": [
           {
            "marker": {
             "line": {
              "color": "#E5ECF6",
              "width": 0.5
             },
             "pattern": {
              "fillmode": "overlay",
              "size": 10,
              "solidity": 0.2
             }
            },
            "type": "barpolar"
           }
          ],
          "carpet": [
           {
            "aaxis": {
             "endlinecolor": "#2a3f5f",
             "gridcolor": "white",
             "linecolor": "white",
             "minorgridcolor": "white",
             "startlinecolor": "#2a3f5f"
            },
            "baxis": {
             "endlinecolor": "#2a3f5f",
             "gridcolor": "white",
             "linecolor": "white",
             "minorgridcolor": "white",
             "startlinecolor": "#2a3f5f"
            },
            "type": "carpet"
           }
          ],
          "choropleth": [
           {
            "colorbar": {
             "outlinewidth": 0,
             "ticks": ""
            },
            "type": "choropleth"
           }
          ],
          "contour": [
           {
            "colorbar": {
             "outlinewidth": 0,
             "ticks": ""
            },
            "colorscale": [
             [
              0,
              "#0d0887"
             ],
             [
              0.1111111111111111,
              "#46039f"
             ],
             [
              0.2222222222222222,
              "#7201a8"
             ],
             [
              0.3333333333333333,
              "#9c179e"
             ],
             [
              0.4444444444444444,
              "#bd3786"
             ],
             [
              0.5555555555555556,
              "#d8576b"
             ],
             [
              0.6666666666666666,
              "#ed7953"
             ],
             [
              0.7777777777777778,
              "#fb9f3a"
             ],
             [
              0.8888888888888888,
              "#fdca26"
             ],
             [
              1,
              "#f0f921"
             ]
            ],
            "type": "contour"
           }
          ],
          "contourcarpet": [
           {
            "colorbar": {
             "outlinewidth": 0,
             "ticks": ""
            },
            "type": "contourcarpet"
           }
          ],
          "heatmap": [
           {
            "colorbar": {
             "outlinewidth": 0,
             "ticks": ""
            },
            "colorscale": [
             [
              0,
              "#0d0887"
             ],
             [
              0.1111111111111111,
              "#46039f"
             ],
             [
              0.2222222222222222,
              "#7201a8"
             ],
             [
              0.3333333333333333,
              "#9c179e"
             ],
             [
              0.4444444444444444,
              "#bd3786"
             ],
             [
              0.5555555555555556,
              "#d8576b"
             ],
             [
              0.6666666666666666,
              "#ed7953"
             ],
             [
              0.7777777777777778,
              "#fb9f3a"
             ],
             [
              0.8888888888888888,
              "#fdca26"
             ],
             [
              1,
              "#f0f921"
             ]
            ],
            "type": "heatmap"
           }
          ],
          "histogram": [
           {
            "marker": {
             "pattern": {
              "fillmode": "overlay",
              "size": 10,
              "solidity": 0.2
             }
            },
            "type": "histogram"
           }
          ],
          "histogram2d": [
           {
            "colorbar": {
             "outlinewidth": 0,
             "ticks": ""
            },
            "colorscale": [
             [
              0,
              "#0d0887"
             ],
             [
              0.1111111111111111,
              "#46039f"
             ],
             [
              0.2222222222222222,
              "#7201a8"
             ],
             [
              0.3333333333333333,
              "#9c179e"
             ],
             [
              0.4444444444444444,
              "#bd3786"
             ],
             [
              0.5555555555555556,
              "#d8576b"
             ],
             [
              0.6666666666666666,
              "#ed7953"
             ],
             [
              0.7777777777777778,
              "#fb9f3a"
             ],
             [
              0.8888888888888888,
              "#fdca26"
             ],
             [
              1,
              "#f0f921"
             ]
            ],
            "type": "histogram2d"
           }
          ],
          "histogram2dcontour": [
           {
            "colorbar": {
             "outlinewidth": 0,
             "ticks": ""
            },
            "colorscale": [
             [
              0,
              "#0d0887"
             ],
             [
              0.1111111111111111,
              "#46039f"
             ],
             [
              0.2222222222222222,
              "#7201a8"
             ],
             [
              0.3333333333333333,
              "#9c179e"
             ],
             [
              0.4444444444444444,
              "#bd3786"
             ],
             [
              0.5555555555555556,
              "#d8576b"
             ],
             [
              0.6666666666666666,
              "#ed7953"
             ],
             [
              0.7777777777777778,
              "#fb9f3a"
             ],
             [
              0.8888888888888888,
              "#fdca26"
             ],
             [
              1,
              "#f0f921"
             ]
            ],
            "type": "histogram2dcontour"
           }
          ],
          "mesh3d": [
           {
            "colorbar": {
             "outlinewidth": 0,
             "ticks": ""
            },
            "type": "mesh3d"
           }
          ],
          "parcoords": [
           {
            "line": {
             "colorbar": {
              "outlinewidth": 0,
              "ticks": ""
             }
            },
            "type": "parcoords"
           }
          ],
          "pie": [
           {
            "automargin": true,
            "type": "pie"
           }
          ],
          "scatter": [
           {
            "fillpattern": {
             "fillmode": "overlay",
             "size": 10,
             "solidity": 0.2
            },
            "type": "scatter"
           }
          ],
          "scatter3d": [
           {
            "line": {
             "colorbar": {
              "outlinewidth": 0,
              "ticks": ""
             }
            },
            "marker": {
             "colorbar": {
              "outlinewidth": 0,
              "ticks": ""
             }
            },
            "type": "scatter3d"
           }
          ],
          "scattercarpet": [
           {
            "marker": {
             "colorbar": {
              "outlinewidth": 0,
              "ticks": ""
             }
            },
            "type": "scattercarpet"
           }
          ],
          "scattergeo": [
           {
            "marker": {
             "colorbar": {
              "outlinewidth": 0,
              "ticks": ""
             }
            },
            "type": "scattergeo"
           }
          ],
          "scattergl": [
           {
            "marker": {
             "colorbar": {
              "outlinewidth": 0,
              "ticks": ""
             }
            },
            "type": "scattergl"
           }
          ],
          "scattermap": [
           {
            "marker": {
             "colorbar": {
              "outlinewidth": 0,
              "ticks": ""
             }
            },
            "type": "scattermap"
           }
          ],
          "scattermapbox": [
           {
            "marker": {
             "colorbar": {
              "outlinewidth": 0,
              "ticks": ""
             }
            },
            "type": "scattermapbox"
           }
          ],
          "scatterpolar": [
           {
            "marker": {
             "colorbar": {
              "outlinewidth": 0,
              "ticks": ""
             }
            },
            "type": "scatterpolar"
           }
          ],
          "scatterpolargl": [
           {
            "marker": {
             "colorbar": {
              "outlinewidth": 0,
              "ticks": ""
             }
            },
            "type": "scatterpolargl"
           }
          ],
          "scatterternary": [
           {
            "marker": {
             "colorbar": {
              "outlinewidth": 0,
              "ticks": ""
             }
            },
            "type": "scatterternary"
           }
          ],
          "surface": [
           {
            "colorbar": {
             "outlinewidth": 0,
             "ticks": ""
            },
            "colorscale": [
             [
              0,
              "#0d0887"
             ],
             [
              0.1111111111111111,
              "#46039f"
             ],
             [
              0.2222222222222222,
              "#7201a8"
             ],
             [
              0.3333333333333333,
              "#9c179e"
             ],
             [
              0.4444444444444444,
              "#bd3786"
             ],
             [
              0.5555555555555556,
              "#d8576b"
             ],
             [
              0.6666666666666666,
              "#ed7953"
             ],
             [
              0.7777777777777778,
              "#fb9f3a"
             ],
             [
              0.8888888888888888,
              "#fdca26"
             ],
             [
              1,
              "#f0f921"
             ]
            ],
            "type": "surface"
           }
          ],
          "table": [
           {
            "cells": {
             "fill": {
              "color": "#EBF0F8"
             },
             "line": {
              "color": "white"
             }
            },
            "header": {
             "fill": {
              "color": "#C8D4E3"
             },
             "line": {
              "color": "white"
             }
            },
            "type": "table"
           }
          ]
         },
         "layout": {
          "annotationdefaults": {
           "arrowcolor": "#2a3f5f",
           "arrowhead": 0,
           "arrowwidth": 1
          },
          "autotypenumbers": "strict",
          "coloraxis": {
           "colorbar": {
            "outlinewidth": 0,
            "ticks": ""
           }
          },
          "colorscale": {
           "diverging": [
            [
             0,
             "#8e0152"
            ],
            [
             0.1,
             "#c51b7d"
            ],
            [
             0.2,
             "#de77ae"
            ],
            [
             0.3,
             "#f1b6da"
            ],
            [
             0.4,
             "#fde0ef"
            ],
            [
             0.5,
             "#f7f7f7"
            ],
            [
             0.6,
             "#e6f5d0"
            ],
            [
             0.7,
             "#b8e186"
            ],
            [
             0.8,
             "#7fbc41"
            ],
            [
             0.9,
             "#4d9221"
            ],
            [
             1,
             "#276419"
            ]
           ],
           "sequential": [
            [
             0,
             "#0d0887"
            ],
            [
             0.1111111111111111,
             "#46039f"
            ],
            [
             0.2222222222222222,
             "#7201a8"
            ],
            [
             0.3333333333333333,
             "#9c179e"
            ],
            [
             0.4444444444444444,
             "#bd3786"
            ],
            [
             0.5555555555555556,
             "#d8576b"
            ],
            [
             0.6666666666666666,
             "#ed7953"
            ],
            [
             0.7777777777777778,
             "#fb9f3a"
            ],
            [
             0.8888888888888888,
             "#fdca26"
            ],
            [
             1,
             "#f0f921"
            ]
           ],
           "sequentialminus": [
            [
             0,
             "#0d0887"
            ],
            [
             0.1111111111111111,
             "#46039f"
            ],
            [
             0.2222222222222222,
             "#7201a8"
            ],
            [
             0.3333333333333333,
             "#9c179e"
            ],
            [
             0.4444444444444444,
             "#bd3786"
            ],
            [
             0.5555555555555556,
             "#d8576b"
            ],
            [
             0.6666666666666666,
             "#ed7953"
            ],
            [
             0.7777777777777778,
             "#fb9f3a"
            ],
            [
             0.8888888888888888,
             "#fdca26"
            ],
            [
             1,
             "#f0f921"
            ]
           ]
          },
          "colorway": [
           "#636efa",
           "#EF553B",
           "#00cc96",
           "#ab63fa",
           "#FFA15A",
           "#19d3f3",
           "#FF6692",
           "#B6E880",
           "#FF97FF",
           "#FECB52"
          ],
          "font": {
           "color": "#2a3f5f"
          },
          "geo": {
           "bgcolor": "white",
           "lakecolor": "white",
           "landcolor": "#E5ECF6",
           "showlakes": true,
           "showland": true,
           "subunitcolor": "white"
          },
          "hoverlabel": {
           "align": "left"
          },
          "hovermode": "closest",
          "mapbox": {
           "style": "light"
          },
          "paper_bgcolor": "white",
          "plot_bgcolor": "#E5ECF6",
          "polar": {
           "angularaxis": {
            "gridcolor": "white",
            "linecolor": "white",
            "ticks": ""
           },
           "bgcolor": "#E5ECF6",
           "radialaxis": {
            "gridcolor": "white",
            "linecolor": "white",
            "ticks": ""
           }
          },
          "scene": {
           "xaxis": {
            "backgroundcolor": "#E5ECF6",
            "gridcolor": "white",
            "gridwidth": 2,
            "linecolor": "white",
            "showbackground": true,
            "ticks": "",
            "zerolinecolor": "white"
           },
           "yaxis": {
            "backgroundcolor": "#E5ECF6",
            "gridcolor": "white",
            "gridwidth": 2,
            "linecolor": "white",
            "showbackground": true,
            "ticks": "",
            "zerolinecolor": "white"
           },
           "zaxis": {
            "backgroundcolor": "#E5ECF6",
            "gridcolor": "white",
            "gridwidth": 2,
            "linecolor": "white",
            "showbackground": true,
            "ticks": "",
            "zerolinecolor": "white"
           }
          },
          "shapedefaults": {
           "line": {
            "color": "#2a3f5f"
           }
          },
          "ternary": {
           "aaxis": {
            "gridcolor": "white",
            "linecolor": "white",
            "ticks": ""
           },
           "baxis": {
            "gridcolor": "white",
            "linecolor": "white",
            "ticks": ""
           },
           "bgcolor": "#E5ECF6",
           "caxis": {
            "gridcolor": "white",
            "linecolor": "white",
            "ticks": ""
           }
          },
          "title": {
           "x": 0.05
          },
          "xaxis": {
           "automargin": true,
           "gridcolor": "white",
           "linecolor": "white",
           "ticks": "",
           "title": {
            "standoff": 15
           },
           "zerolinecolor": "white",
           "zerolinewidth": 2
          },
          "yaxis": {
           "automargin": true,
           "gridcolor": "white",
           "linecolor": "white",
           "ticks": "",
           "title": {
            "standoff": 15
           },
           "zerolinecolor": "white",
           "zerolinewidth": 2
          }
         }
        },
        "xaxis": {
         "anchor": "y",
         "domain": [
          0,
          1
         ],
         "title": {
          "text": "Entry"
         }
        },
        "yaxis": {
         "anchor": "x",
         "domain": [
          0,
          1
         ],
         "title": {
          "text": "Hero"
         }
        }
       }
      }
     },
     "metadata": {},
     "output_type": "display_data"
    }
   ],
   "source": [
    "titles = heroes.groupby('Entry').count().reset_index(drop=False).drop(columns=['Unnamed: 0']).sort_values(by='Hero')\n",
    "px.bar(titles, x='Entry', y='Hero')"
   ]
  },
  {
   "cell_type": "code",
   "execution_count": 16,
   "id": "4d1a1af1",
   "metadata": {},
   "outputs": [
    {
     "data": {
      "text/html": [
       "<div>\n",
       "<style scoped>\n",
       "    .dataframe tbody tr th:only-of-type {\n",
       "        vertical-align: middle;\n",
       "    }\n",
       "\n",
       "    .dataframe tbody tr th {\n",
       "        vertical-align: top;\n",
       "    }\n",
       "\n",
       "    .dataframe thead th {\n",
       "        text-align: right;\n",
       "    }\n",
       "</style>\n",
       "<table border=\"1\" class=\"dataframe\">\n",
       "  <thead>\n",
       "    <tr style=\"text-align: right;\">\n",
       "      <th></th>\n",
       "      <th>Hero</th>\n",
       "      <th>Entry</th>\n",
       "      <th>Move</th>\n",
       "      <th>Weapon</th>\n",
       "      <th>HP</th>\n",
       "      <th>Atk</th>\n",
       "      <th>Spd</th>\n",
       "      <th>Def</th>\n",
       "      <th>Res</th>\n",
       "      <th>Total</th>\n",
       "      <th>Color</th>\n",
       "    </tr>\n",
       "  </thead>\n",
       "  <tbody>\n",
       "    <tr>\n",
       "      <th>0</th>\n",
       "      <td>Abel: The Panther</td>\n",
       "      <td>Shadow Dragon / (New) Mystery</td>\n",
       "      <td>Cavalry</td>\n",
       "      <td>Blue Lance</td>\n",
       "      <td>39</td>\n",
       "      <td>33</td>\n",
       "      <td>32</td>\n",
       "      <td>25</td>\n",
       "      <td>25</td>\n",
       "      <td>154</td>\n",
       "      <td>Blue</td>\n",
       "    </tr>\n",
       "    <tr>\n",
       "      <th>1</th>\n",
       "      <td>Aelfric: Custodian Monk</td>\n",
       "      <td>Three Houses</td>\n",
       "      <td>Infantry</td>\n",
       "      <td>Red Tome</td>\n",
       "      <td>43</td>\n",
       "      <td>40</td>\n",
       "      <td>31</td>\n",
       "      <td>20</td>\n",
       "      <td>37</td>\n",
       "      <td>171</td>\n",
       "      <td>Red</td>\n",
       "    </tr>\n",
       "    <tr>\n",
       "      <th>2</th>\n",
       "      <td>Alcryst: Tender Archer</td>\n",
       "      <td>Engage</td>\n",
       "      <td>Infantry</td>\n",
       "      <td>Colorless Bow</td>\n",
       "      <td>39</td>\n",
       "      <td>43</td>\n",
       "      <td>46</td>\n",
       "      <td>30</td>\n",
       "      <td>24</td>\n",
       "      <td>182</td>\n",
       "      <td>Colorless</td>\n",
       "    </tr>\n",
       "    <tr>\n",
       "      <th>3</th>\n",
       "      <td>Alcryst: Tender Groom</td>\n",
       "      <td>Engage</td>\n",
       "      <td>Infantry</td>\n",
       "      <td>Red Bow</td>\n",
       "      <td>40</td>\n",
       "      <td>44</td>\n",
       "      <td>46</td>\n",
       "      <td>35</td>\n",
       "      <td>23</td>\n",
       "      <td>188</td>\n",
       "      <td>Red</td>\n",
       "    </tr>\n",
       "    <tr>\n",
       "      <th>4</th>\n",
       "      <td>Alear: Awoken Divinity</td>\n",
       "      <td>Engage</td>\n",
       "      <td>Infantry</td>\n",
       "      <td>Green Breath</td>\n",
       "      <td>40</td>\n",
       "      <td>41</td>\n",
       "      <td>47</td>\n",
       "      <td>33</td>\n",
       "      <td>37</td>\n",
       "      <td>198</td>\n",
       "      <td>Green</td>\n",
       "    </tr>\n",
       "  </tbody>\n",
       "</table>\n",
       "</div>"
      ],
      "text/plain": [
       "                      Hero                          Entry      Move  \\\n",
       "0        Abel: The Panther  Shadow Dragon / (New) Mystery   Cavalry   \n",
       "1  Aelfric: Custodian Monk                   Three Houses  Infantry   \n",
       "2   Alcryst: Tender Archer                         Engage  Infantry   \n",
       "3    Alcryst: Tender Groom                         Engage  Infantry   \n",
       "4   Alear: Awoken Divinity                         Engage  Infantry   \n",
       "\n",
       "          Weapon  HP  Atk  Spd  Def  Res  Total      Color  \n",
       "0     Blue Lance  39   33   32   25   25    154       Blue  \n",
       "1       Red Tome  43   40   31   20   37    171        Red  \n",
       "2  Colorless Bow  39   43   46   30   24    182  Colorless  \n",
       "3        Red Bow  40   44   46   35   23    188        Red  \n",
       "4   Green Breath  40   41   47   33   37    198      Green  "
      ]
     },
     "execution_count": 16,
     "metadata": {},
     "output_type": "execute_result"
    }
   ],
   "source": [
    "heroes = heroes.drop(columns=['Unnamed: 0'])\n",
    "heroes.head()"
   ]
  },
  {
   "cell_type": "markdown",
   "id": "d881fef1",
   "metadata": {},
   "source": [
    "##### Day 3"
   ]
  },
  {
   "cell_type": "code",
   "execution_count": 17,
   "id": "c387ffb3",
   "metadata": {},
   "outputs": [],
   "source": [
    "# Reminder: import regex after plane ride\n",
    "# Done"
   ]
  },
  {
   "cell_type": "code",
   "execution_count": 18,
   "id": "9be896ff",
   "metadata": {},
   "outputs": [],
   "source": [
    "heroes = pd.read_csv('heroes_table.csv')"
   ]
  },
  {
   "cell_type": "code",
   "execution_count": 19,
   "id": "1b598b26",
   "metadata": {},
   "outputs": [
    {
     "data": {
      "text/plain": [
       "Index(['Unnamed: 0', 'Hero', 'Entry', 'Move', 'Weapon', 'HP', 'Atk', 'Spd',\n",
       "       'Def', 'Res', 'Total', 'Color'],\n",
       "      dtype='object')"
      ]
     },
     "execution_count": 19,
     "metadata": {},
     "output_type": "execute_result"
    }
   ],
   "source": [
    "heroes.columns"
   ]
  },
  {
   "cell_type": "code",
   "execution_count": null,
   "id": "0f8cada0",
   "metadata": {},
   "outputs": [],
   "source": [
    "# For creating the scatterplots.\n",
    "# stats = ['HP', 'Atk', 'Spd', 'Def', 'Res']\n",
    "# for i in stats:\n",
    "#     for j in stats:\n",
    "#         fig = px.scatter(heroes, x=i, y=j, title=f'Stats v.s. Stats: {i} v.s. {j}')\n",
    "#         fig.write_image(f'./stats_v_stats/{i}Scatter{j}.png')"
   ]
  },
  {
   "cell_type": "markdown",
   "id": "380f08c0",
   "metadata": {},
   "source": [
    "##### Day 4"
   ]
  },
  {
   "cell_type": "code",
   "execution_count": null,
   "id": "45636270",
   "metadata": {},
   "outputs": [],
   "source": [
    "# Try to get versions in the csv today"
   ]
  },
  {
   "cell_type": "markdown",
   "id": "e3503857",
   "metadata": {},
   "source": [
    "##### Day 5"
   ]
  },
  {
   "cell_type": "code",
   "execution_count": 1,
   "id": "b1fd9d95",
   "metadata": {},
   "outputs": [],
   "source": [
    "# I got the pages down in a separate file that WONT be pushed bc that stuff is like over a gig total size"
   ]
  },
  {
   "cell_type": "code",
   "execution_count": 6,
   "id": "21995280",
   "metadata": {},
   "outputs": [
    {
     "data": {
      "text/html": [
       "<div>\n",
       "<style scoped>\n",
       "    .dataframe tbody tr th:only-of-type {\n",
       "        vertical-align: middle;\n",
       "    }\n",
       "\n",
       "    .dataframe tbody tr th {\n",
       "        vertical-align: top;\n",
       "    }\n",
       "\n",
       "    .dataframe thead th {\n",
       "        text-align: right;\n",
       "    }\n",
       "</style>\n",
       "<table border=\"1\" class=\"dataframe\">\n",
       "  <thead>\n",
       "    <tr style=\"text-align: right;\">\n",
       "      <th></th>\n",
       "      <th>Hero</th>\n",
       "      <th>Entry</th>\n",
       "      <th>Move</th>\n",
       "      <th>Weapon</th>\n",
       "      <th>HP</th>\n",
       "      <th>Atk</th>\n",
       "      <th>Spd</th>\n",
       "      <th>Def</th>\n",
       "      <th>Res</th>\n",
       "      <th>Total</th>\n",
       "      <th>Color</th>\n",
       "      <th>Version</th>\n",
       "    </tr>\n",
       "  </thead>\n",
       "  <tbody>\n",
       "    <tr>\n",
       "      <th>0</th>\n",
       "      <td>Abel: The Panther</td>\n",
       "      <td>Shadow Dragon / (New) Mystery</td>\n",
       "      <td>Cavalry</td>\n",
       "      <td>Blue Lance</td>\n",
       "      <td>39</td>\n",
       "      <td>33</td>\n",
       "      <td>32</td>\n",
       "      <td>25</td>\n",
       "      <td>25</td>\n",
       "      <td>154</td>\n",
       "      <td>Blue</td>\n",
       "      <td>1.0</td>\n",
       "    </tr>\n",
       "    <tr>\n",
       "      <th>1</th>\n",
       "      <td>Aelfric: Custodian Monk</td>\n",
       "      <td>Three Houses</td>\n",
       "      <td>Infantry</td>\n",
       "      <td>Red Tome</td>\n",
       "      <td>43</td>\n",
       "      <td>40</td>\n",
       "      <td>31</td>\n",
       "      <td>20</td>\n",
       "      <td>37</td>\n",
       "      <td>171</td>\n",
       "      <td>Red</td>\n",
       "      <td>5.9</td>\n",
       "    </tr>\n",
       "    <tr>\n",
       "      <th>2</th>\n",
       "      <td>Alcryst: Tender Archer</td>\n",
       "      <td>Engage</td>\n",
       "      <td>Infantry</td>\n",
       "      <td>Colorless Bow</td>\n",
       "      <td>39</td>\n",
       "      <td>43</td>\n",
       "      <td>46</td>\n",
       "      <td>30</td>\n",
       "      <td>24</td>\n",
       "      <td>182</td>\n",
       "      <td>Colorless</td>\n",
       "      <td>7.7</td>\n",
       "    </tr>\n",
       "    <tr>\n",
       "      <th>3</th>\n",
       "      <td>Alcryst: Tender Groom</td>\n",
       "      <td>Engage</td>\n",
       "      <td>Infantry</td>\n",
       "      <td>Red Bow</td>\n",
       "      <td>40</td>\n",
       "      <td>44</td>\n",
       "      <td>46</td>\n",
       "      <td>35</td>\n",
       "      <td>23</td>\n",
       "      <td>188</td>\n",
       "      <td>Red</td>\n",
       "      <td>8.5</td>\n",
       "    </tr>\n",
       "    <tr>\n",
       "      <th>4</th>\n",
       "      <td>Alear: Awoken Divinity</td>\n",
       "      <td>Engage</td>\n",
       "      <td>Infantry</td>\n",
       "      <td>Green Breath</td>\n",
       "      <td>40</td>\n",
       "      <td>41</td>\n",
       "      <td>47</td>\n",
       "      <td>33</td>\n",
       "      <td>37</td>\n",
       "      <td>198</td>\n",
       "      <td>Green</td>\n",
       "      <td>7.8</td>\n",
       "    </tr>\n",
       "  </tbody>\n",
       "</table>\n",
       "</div>"
      ],
      "text/plain": [
       "                      Hero                          Entry      Move  \\\n",
       "0        Abel: The Panther  Shadow Dragon / (New) Mystery   Cavalry   \n",
       "1  Aelfric: Custodian Monk                   Three Houses  Infantry   \n",
       "2   Alcryst: Tender Archer                         Engage  Infantry   \n",
       "3    Alcryst: Tender Groom                         Engage  Infantry   \n",
       "4   Alear: Awoken Divinity                         Engage  Infantry   \n",
       "\n",
       "          Weapon  HP  Atk  Spd  Def  Res  Total      Color  Version  \n",
       "0     Blue Lance  39   33   32   25   25    154       Blue      1.0  \n",
       "1       Red Tome  43   40   31   20   37    171        Red      5.9  \n",
       "2  Colorless Bow  39   43   46   30   24    182  Colorless      7.7  \n",
       "3        Red Bow  40   44   46   35   23    188        Red      8.5  \n",
       "4   Green Breath  40   41   47   33   37    198      Green      7.8  "
      ]
     },
     "execution_count": 6,
     "metadata": {},
     "output_type": "execute_result"
    }
   ],
   "source": [
    "heroes = pd.read_csv('heroes_table.csv').drop(columns=['Unnamed: 0'])\n",
    "heroes.head()"
   ]
  },
  {
   "cell_type": "code",
   "execution_count": 14,
   "id": "e9c6bc58",
   "metadata": {},
   "outputs": [],
   "source": [
    "# Something simple today. Just gonna add a column for book.\n",
    "# def book(ver):\n",
    "#     return int(str(ver).split('.')[0])\n",
    "\n",
    "# heroes['Book'] = heroes['Version'].apply(book)\n",
    "# heroes.head()"
   ]
  },
  {
   "cell_type": "code",
   "execution_count": 10,
   "id": "adf7a390",
   "metadata": {},
   "outputs": [
    {
     "data": {
      "application/vnd.plotly.v1+json": {
       "config": {
        "plotlyServerURL": "https://plot.ly"
       },
       "data": [
        {
         "alignmentgroup": "True",
         "hovertemplate": "Book=%{x}<br>Spd=%{y}<extra></extra>",
         "legendgroup": "",
         "marker": {
          "color": "#636efa"
         },
         "name": "",
         "notched": false,
         "offsetgroup": "",
         "orientation": "v",
         "showlegend": false,
         "type": "box",
         "x": {
          "bdata": "AQUHCAcHBwgJCQkIBAgBAgUHAQMECQMEBQMICAEHAQcEBwQFBwQBAgUHCAYBBgYBBQcGBwgFBQQGCAcDBQEJBgYCAQkHAQUCBgEBCAMCBQMBBAEGBwUDAQMEBQcIBQEJAQcBCAYDBAYJBAMDBwQHCAMGAwYFBwYIBAUBAQcFAQMIAQICAwYBAwIJAQIICAUIBgYEBQEDAgcGAQMEBwECCAQJBgIHCAYDAQUGAQcIBAEGBgcCAgEJBwEIAQEECQcFAwYIAQYDBAUCAQEHAwcEBggEBQICAgEBBQEHBgMJAwcHBgUIBAMJBQgGBgEBBgMJBAgHBAgEBQQGCQMFBwECAQgEBQcHAwEFAwYHAwkJBAQFCAYDCAEHCQgGAwQCBgMCCQUIAQUHCQUBBAQIBgYHAgEGBwMBCQcBAwIBAwcHCQgGBAgECAMCAQIDBwQFBQEEBgQCBwMJBAUBAwYJBwUBBAcHCAEDBQcIBwQFAgQDBAEHAwgFAwIHBAcGBAcCCAMGAQgJCQcIBAMIAQEIBQQHBQcBAQQGBgQCBQQEAwEHAwICBwcICAYBCQcBBgMJCQkEBwgHBwMCAwEFBgYBAwYEAQcHBQIGBwEICAQGBwIDAQICCQcHCAkEAgMFAQYBBwUGBQMGBAECBQMHAQYICQgJAggDCQMGBAMGBAYDBQgBBgkIAwIBBAYEAwcFBAUIAQIFCQEHBgIDBAgHAQQBAQECCAkBBgkEBAYBBAkDBAEFBAIIBQMFAgcBAggGAgIICAEGBwYCBQECAwUHBAYHBAMBAgUFBAQDBQcICAYDAgUHBAEDBgUDAgMDBAIJCQgHCAkEBQYDAQgIAwIBBQIDBgQJCQQCCQMIAQcBAQgFCAMEBgIFBQIGBAUFAwYCCAEFBAYGBwECBQgCBwgCAQYIAQMCCAEJBAMFCAcBCAYBAggBBwEHAwMBAQgHCAEEBQYGAQEDAQIECQIECAUCBgYEBAYHAQkJBQQGBQYEAwEHBgUIBQICAwkHBwgCAQECBAkIBQQBAQYIBgkEAwUEBAEICAgGBAECCAQIAgMFAgYBBwkEAgQEAQUECAYFBgEDBgYDBQUCAggGBwUGBAcIAgYCBQUDAwYJAwgIAwQGAwYFAgQBBQQBBggJBAgBAwgIBwgICQgFBgYBAgQIBgIGAgYGAQkHBAIBBwcICQIJBQMFAQEJBgUEAQEIBQECAQECCAECAgcFBQEECQUCBgMBBQQJCAgDBwcFAwUFBwQDAQgIAwQGAwQHCQUGAQMEAgkEAQMFCAQBBwEGBQgHAwgBAgYDAgkGBwUEBgYGAwYEBwcIBQQIAgYCAgEHAQEGCAEDBQgFAwYDAQECBAkDAgEDAgEJCAIGAQcBAwkBBQYCAQcFBwUEBwYHBQcIBQgBBQQGAQkEAwQFAQQBBgEFCAQHBQUBBAgBAgEIBgcHBgcJAQIEBQICAwMEBQEIBwIDBAIDAgUFBwYBBQEGAwYHAQcIBgIFAwQBAQMBAgUCBwQIBwcBAgICBwEIBQIJBwYBBQMEBQMJAgcBBQkCCAMIBgUDAwQGAgcBCQYEAgEBAwgHCAkGAQMBCAQEBwcEBQgBAwcJCQgDCAEHBQUDBQIEBgMIBwkHCAUBBQUCBwUDAQIJBgEBAQQGCQcDCAYDAgYHCAgJCAMFBwgFCQIHBQcBBAQI",
          "dtype": "i1"
         },
         "x0": " ",
         "xaxis": "x",
         "y": {
          "bdata": "IB8uLi8uLS4vLhIvERAZIRkZHiMoLyUZEhQQLiIsJi4oLygnFyQQHhskLSkdExsfKhMbLi8pJxUaEBAkKSYSJREiJTAuGicjJyIhLiMdGBwgGhkhHBcXFhEmKC8wGxcQIiwbIiQgGyMwKB8YJiosEigrJispLysvKiolJSwbIBcuIB4jJRMZIyQwIR0kLCQnKyspKSIkIy0ZGRcnLiEjLiYvKicsLx8lICkUGSgvGhkbKi4THCAuGyQuISIoMC8pJSouGSkWFygmIyMrIBcmFS4oJiMlHiAiKCIuLSUvJSwuKikvIBkRERQnIBwiKCEwDiYkIy4kKCkoLx0mHx0ZFyQkIykrHSASFRMjJB8REBEOEREeLhYrFBAtJSQjKhcnMCovIysuMB0YGiYvIygtIyQoLyUgLy4iIiAeIy4tMC8sIhkXER4bGRsXECMpJx4jJikiKCEVIxwcGicvHyYZFy0tLyUlJS4wLSMaISYlKSQuIi8pIx8uGS0pGxoXFRYrGy8vEA8tGhQuHxkcKywQEB4kJRYpHiYWEREjGBkoJBkiFR8iLiMZEA4gJRISEhsoLS8vLyUhJRgSGSsYGRgoJC4nGhwsIBYWLSEXLxYaGBUXERAtEBApEhISIhsWHygrJiUZGxgjKCMuICkvMDAwERsTJyAqGxoaGiglJi4cKi8SJh4fKh4gFy8oKigtISUmLyIuKyQkHiIZISUYFx8gLBIgGi8oGysjJxEcGBojJhsuJiQnFS0gIi8pIiEuLSMqLyooKyIkGBgfISgrFBYhJSAlKCgnGy8vHxoiHyYsGxklEykjJBAeEh8pMC8tLDAoKignGh4RJSYjKSYWKykwGx0jGxUbGx8WHionLyYpECUoHiAdHhkoGRYeIxkVKSsXLSQjGR8hKxEeGRkuIyIjHicwHyIqLi0kLyokIzAkHx4gJBUWHC0rLiAiJCQsIyImJSQqMCQQEBIVFSolJyguHykwKxgqKSsqKSItKCAoKSEkJjAbIRQkIiQkJTAvKykgIiASEhMhHhkjKSAuLy8rKSgiLxQQHBwfFB4aIC8eIBElISYSEhEjKBwiKx0YEREiHi4oFxAaGRAQGRkXGSsmJB8bExESGSkrJSopIiIdIColKi4vFy8jJBAvLy8vEBEoKyEiJyMrKSUrISgpITAvKSYkLi0vLyQcJyQoIBskKSgjGiAvJiIUISIiLSIjISQYHCIkHxElKiIfFR8SKCkiLC0kIicoLSQlIS0vJiUqJRISEBEoHSMUHRsjHSUcLiMjLSIoKC8tFS0XFyoiIhESEBIbKicZISknLR4vFREtGCwjIh0jHSIQLiIkKC4jHyomIh8TFSMnIiMkJyEuHx4mIi0iIC8eJCQeGhglLCUoLh4uJx4dEi4jJyUpGC8RJicVHyQfJiUoLyguKCojJC8gJBkvKiwtKSwwHSUqKx4jJCYSFyAlHxgXFiQlIxQYICkfFxMTISIiISIvKSEqJykaIyYiJxARIyMtLSwjIiMiLiEuKSQvLyokKCQlIiMvEiwiKS8jLyMvEBMnHx4sJRoeMBsqIxceIi8uLi8qIiEbLRomLi4oKS8gIi4VJSEZER8rGiglJiQTLSQQHhweGigfKx4bIioiFxEeKRgcHiIkLighLSokJhoSEC4wLxsrLyQPLyEQGSwQEyoS",
          "dtype": "i1"
         },
         "y0": " ",
         "yaxis": "y"
        }
       ],
       "layout": {
        "boxmode": "group",
        "legend": {
         "tracegroupgap": 0
        },
        "margin": {
         "t": 60
        },
        "template": {
         "data": {
          "bar": [
           {
            "error_x": {
             "color": "#2a3f5f"
            },
            "error_y": {
             "color": "#2a3f5f"
            },
            "marker": {
             "line": {
              "color": "#E5ECF6",
              "width": 0.5
             },
             "pattern": {
              "fillmode": "overlay",
              "size": 10,
              "solidity": 0.2
             }
            },
            "type": "bar"
           }
          ],
          "barpolar": [
           {
            "marker": {
             "line": {
              "color": "#E5ECF6",
              "width": 0.5
             },
             "pattern": {
              "fillmode": "overlay",
              "size": 10,
              "solidity": 0.2
             }
            },
            "type": "barpolar"
           }
          ],
          "carpet": [
           {
            "aaxis": {
             "endlinecolor": "#2a3f5f",
             "gridcolor": "white",
             "linecolor": "white",
             "minorgridcolor": "white",
             "startlinecolor": "#2a3f5f"
            },
            "baxis": {
             "endlinecolor": "#2a3f5f",
             "gridcolor": "white",
             "linecolor": "white",
             "minorgridcolor": "white",
             "startlinecolor": "#2a3f5f"
            },
            "type": "carpet"
           }
          ],
          "choropleth": [
           {
            "colorbar": {
             "outlinewidth": 0,
             "ticks": ""
            },
            "type": "choropleth"
           }
          ],
          "contour": [
           {
            "colorbar": {
             "outlinewidth": 0,
             "ticks": ""
            },
            "colorscale": [
             [
              0,
              "#0d0887"
             ],
             [
              0.1111111111111111,
              "#46039f"
             ],
             [
              0.2222222222222222,
              "#7201a8"
             ],
             [
              0.3333333333333333,
              "#9c179e"
             ],
             [
              0.4444444444444444,
              "#bd3786"
             ],
             [
              0.5555555555555556,
              "#d8576b"
             ],
             [
              0.6666666666666666,
              "#ed7953"
             ],
             [
              0.7777777777777778,
              "#fb9f3a"
             ],
             [
              0.8888888888888888,
              "#fdca26"
             ],
             [
              1,
              "#f0f921"
             ]
            ],
            "type": "contour"
           }
          ],
          "contourcarpet": [
           {
            "colorbar": {
             "outlinewidth": 0,
             "ticks": ""
            },
            "type": "contourcarpet"
           }
          ],
          "heatmap": [
           {
            "colorbar": {
             "outlinewidth": 0,
             "ticks": ""
            },
            "colorscale": [
             [
              0,
              "#0d0887"
             ],
             [
              0.1111111111111111,
              "#46039f"
             ],
             [
              0.2222222222222222,
              "#7201a8"
             ],
             [
              0.3333333333333333,
              "#9c179e"
             ],
             [
              0.4444444444444444,
              "#bd3786"
             ],
             [
              0.5555555555555556,
              "#d8576b"
             ],
             [
              0.6666666666666666,
              "#ed7953"
             ],
             [
              0.7777777777777778,
              "#fb9f3a"
             ],
             [
              0.8888888888888888,
              "#fdca26"
             ],
             [
              1,
              "#f0f921"
             ]
            ],
            "type": "heatmap"
           }
          ],
          "histogram": [
           {
            "marker": {
             "pattern": {
              "fillmode": "overlay",
              "size": 10,
              "solidity": 0.2
             }
            },
            "type": "histogram"
           }
          ],
          "histogram2d": [
           {
            "colorbar": {
             "outlinewidth": 0,
             "ticks": ""
            },
            "colorscale": [
             [
              0,
              "#0d0887"
             ],
             [
              0.1111111111111111,
              "#46039f"
             ],
             [
              0.2222222222222222,
              "#7201a8"
             ],
             [
              0.3333333333333333,
              "#9c179e"
             ],
             [
              0.4444444444444444,
              "#bd3786"
             ],
             [
              0.5555555555555556,
              "#d8576b"
             ],
             [
              0.6666666666666666,
              "#ed7953"
             ],
             [
              0.7777777777777778,
              "#fb9f3a"
             ],
             [
              0.8888888888888888,
              "#fdca26"
             ],
             [
              1,
              "#f0f921"
             ]
            ],
            "type": "histogram2d"
           }
          ],
          "histogram2dcontour": [
           {
            "colorbar": {
             "outlinewidth": 0,
             "ticks": ""
            },
            "colorscale": [
             [
              0,
              "#0d0887"
             ],
             [
              0.1111111111111111,
              "#46039f"
             ],
             [
              0.2222222222222222,
              "#7201a8"
             ],
             [
              0.3333333333333333,
              "#9c179e"
             ],
             [
              0.4444444444444444,
              "#bd3786"
             ],
             [
              0.5555555555555556,
              "#d8576b"
             ],
             [
              0.6666666666666666,
              "#ed7953"
             ],
             [
              0.7777777777777778,
              "#fb9f3a"
             ],
             [
              0.8888888888888888,
              "#fdca26"
             ],
             [
              1,
              "#f0f921"
             ]
            ],
            "type": "histogram2dcontour"
           }
          ],
          "mesh3d": [
           {
            "colorbar": {
             "outlinewidth": 0,
             "ticks": ""
            },
            "type": "mesh3d"
           }
          ],
          "parcoords": [
           {
            "line": {
             "colorbar": {
              "outlinewidth": 0,
              "ticks": ""
             }
            },
            "type": "parcoords"
           }
          ],
          "pie": [
           {
            "automargin": true,
            "type": "pie"
           }
          ],
          "scatter": [
           {
            "fillpattern": {
             "fillmode": "overlay",
             "size": 10,
             "solidity": 0.2
            },
            "type": "scatter"
           }
          ],
          "scatter3d": [
           {
            "line": {
             "colorbar": {
              "outlinewidth": 0,
              "ticks": ""
             }
            },
            "marker": {
             "colorbar": {
              "outlinewidth": 0,
              "ticks": ""
             }
            },
            "type": "scatter3d"
           }
          ],
          "scattercarpet": [
           {
            "marker": {
             "colorbar": {
              "outlinewidth": 0,
              "ticks": ""
             }
            },
            "type": "scattercarpet"
           }
          ],
          "scattergeo": [
           {
            "marker": {
             "colorbar": {
              "outlinewidth": 0,
              "ticks": ""
             }
            },
            "type": "scattergeo"
           }
          ],
          "scattergl": [
           {
            "marker": {
             "colorbar": {
              "outlinewidth": 0,
              "ticks": ""
             }
            },
            "type": "scattergl"
           }
          ],
          "scattermap": [
           {
            "marker": {
             "colorbar": {
              "outlinewidth": 0,
              "ticks": ""
             }
            },
            "type": "scattermap"
           }
          ],
          "scattermapbox": [
           {
            "marker": {
             "colorbar": {
              "outlinewidth": 0,
              "ticks": ""
             }
            },
            "type": "scattermapbox"
           }
          ],
          "scatterpolar": [
           {
            "marker": {
             "colorbar": {
              "outlinewidth": 0,
              "ticks": ""
             }
            },
            "type": "scatterpolar"
           }
          ],
          "scatterpolargl": [
           {
            "marker": {
             "colorbar": {
              "outlinewidth": 0,
              "ticks": ""
             }
            },
            "type": "scatterpolargl"
           }
          ],
          "scatterternary": [
           {
            "marker": {
             "colorbar": {
              "outlinewidth": 0,
              "ticks": ""
             }
            },
            "type": "scatterternary"
           }
          ],
          "surface": [
           {
            "colorbar": {
             "outlinewidth": 0,
             "ticks": ""
            },
            "colorscale": [
             [
              0,
              "#0d0887"
             ],
             [
              0.1111111111111111,
              "#46039f"
             ],
             [
              0.2222222222222222,
              "#7201a8"
             ],
             [
              0.3333333333333333,
              "#9c179e"
             ],
             [
              0.4444444444444444,
              "#bd3786"
             ],
             [
              0.5555555555555556,
              "#d8576b"
             ],
             [
              0.6666666666666666,
              "#ed7953"
             ],
             [
              0.7777777777777778,
              "#fb9f3a"
             ],
             [
              0.8888888888888888,
              "#fdca26"
             ],
             [
              1,
              "#f0f921"
             ]
            ],
            "type": "surface"
           }
          ],
          "table": [
           {
            "cells": {
             "fill": {
              "color": "#EBF0F8"
             },
             "line": {
              "color": "white"
             }
            },
            "header": {
             "fill": {
              "color": "#C8D4E3"
             },
             "line": {
              "color": "white"
             }
            },
            "type": "table"
           }
          ]
         },
         "layout": {
          "annotationdefaults": {
           "arrowcolor": "#2a3f5f",
           "arrowhead": 0,
           "arrowwidth": 1
          },
          "autotypenumbers": "strict",
          "coloraxis": {
           "colorbar": {
            "outlinewidth": 0,
            "ticks": ""
           }
          },
          "colorscale": {
           "diverging": [
            [
             0,
             "#8e0152"
            ],
            [
             0.1,
             "#c51b7d"
            ],
            [
             0.2,
             "#de77ae"
            ],
            [
             0.3,
             "#f1b6da"
            ],
            [
             0.4,
             "#fde0ef"
            ],
            [
             0.5,
             "#f7f7f7"
            ],
            [
             0.6,
             "#e6f5d0"
            ],
            [
             0.7,
             "#b8e186"
            ],
            [
             0.8,
             "#7fbc41"
            ],
            [
             0.9,
             "#4d9221"
            ],
            [
             1,
             "#276419"
            ]
           ],
           "sequential": [
            [
             0,
             "#0d0887"
            ],
            [
             0.1111111111111111,
             "#46039f"
            ],
            [
             0.2222222222222222,
             "#7201a8"
            ],
            [
             0.3333333333333333,
             "#9c179e"
            ],
            [
             0.4444444444444444,
             "#bd3786"
            ],
            [
             0.5555555555555556,
             "#d8576b"
            ],
            [
             0.6666666666666666,
             "#ed7953"
            ],
            [
             0.7777777777777778,
             "#fb9f3a"
            ],
            [
             0.8888888888888888,
             "#fdca26"
            ],
            [
             1,
             "#f0f921"
            ]
           ],
           "sequentialminus": [
            [
             0,
             "#0d0887"
            ],
            [
             0.1111111111111111,
             "#46039f"
            ],
            [
             0.2222222222222222,
             "#7201a8"
            ],
            [
             0.3333333333333333,
             "#9c179e"
            ],
            [
             0.4444444444444444,
             "#bd3786"
            ],
            [
             0.5555555555555556,
             "#d8576b"
            ],
            [
             0.6666666666666666,
             "#ed7953"
            ],
            [
             0.7777777777777778,
             "#fb9f3a"
            ],
            [
             0.8888888888888888,
             "#fdca26"
            ],
            [
             1,
             "#f0f921"
            ]
           ]
          },
          "colorway": [
           "#636efa",
           "#EF553B",
           "#00cc96",
           "#ab63fa",
           "#FFA15A",
           "#19d3f3",
           "#FF6692",
           "#B6E880",
           "#FF97FF",
           "#FECB52"
          ],
          "font": {
           "color": "#2a3f5f"
          },
          "geo": {
           "bgcolor": "white",
           "lakecolor": "white",
           "landcolor": "#E5ECF6",
           "showlakes": true,
           "showland": true,
           "subunitcolor": "white"
          },
          "hoverlabel": {
           "align": "left"
          },
          "hovermode": "closest",
          "mapbox": {
           "style": "light"
          },
          "paper_bgcolor": "white",
          "plot_bgcolor": "#E5ECF6",
          "polar": {
           "angularaxis": {
            "gridcolor": "white",
            "linecolor": "white",
            "ticks": ""
           },
           "bgcolor": "#E5ECF6",
           "radialaxis": {
            "gridcolor": "white",
            "linecolor": "white",
            "ticks": ""
           }
          },
          "scene": {
           "xaxis": {
            "backgroundcolor": "#E5ECF6",
            "gridcolor": "white",
            "gridwidth": 2,
            "linecolor": "white",
            "showbackground": true,
            "ticks": "",
            "zerolinecolor": "white"
           },
           "yaxis": {
            "backgroundcolor": "#E5ECF6",
            "gridcolor": "white",
            "gridwidth": 2,
            "linecolor": "white",
            "showbackground": true,
            "ticks": "",
            "zerolinecolor": "white"
           },
           "zaxis": {
            "backgroundcolor": "#E5ECF6",
            "gridcolor": "white",
            "gridwidth": 2,
            "linecolor": "white",
            "showbackground": true,
            "ticks": "",
            "zerolinecolor": "white"
           }
          },
          "shapedefaults": {
           "line": {
            "color": "#2a3f5f"
           }
          },
          "ternary": {
           "aaxis": {
            "gridcolor": "white",
            "linecolor": "white",
            "ticks": ""
           },
           "baxis": {
            "gridcolor": "white",
            "linecolor": "white",
            "ticks": ""
           },
           "bgcolor": "#E5ECF6",
           "caxis": {
            "gridcolor": "white",
            "linecolor": "white",
            "ticks": ""
           }
          },
          "title": {
           "x": 0.05
          },
          "xaxis": {
           "automargin": true,
           "gridcolor": "white",
           "linecolor": "white",
           "ticks": "",
           "title": {
            "standoff": 15
           },
           "zerolinecolor": "white",
           "zerolinewidth": 2
          },
          "yaxis": {
           "automargin": true,
           "gridcolor": "white",
           "linecolor": "white",
           "ticks": "",
           "title": {
            "standoff": 15
           },
           "zerolinecolor": "white",
           "zerolinewidth": 2
          }
         }
        },
        "xaxis": {
         "anchor": "y",
         "domain": [
          0,
          1
         ],
         "title": {
          "text": "Book"
         }
        },
        "yaxis": {
         "anchor": "x",
         "domain": [
          0,
          1
         ],
         "title": {
          "text": "Spd"
         }
        }
       }
      }
     },
     "metadata": {},
     "output_type": "display_data"
    }
   ],
   "source": [
    "# Simple group by book to see stat distribution over the years\n",
    "px.box(heroes, x='Book', y='Spd')"
   ]
  },
  {
   "cell_type": "code",
   "execution_count": 13,
   "id": "08a5fe7f",
   "metadata": {},
   "outputs": [],
   "source": [
    "# k gonna make a folder for these\n",
    "# stats = ['HP', 'Atk', 'Spd', 'Def', 'Res', 'Total']\n",
    "# for i in stats:\n",
    "#     fig = px.box(heroes, x='Book', y=f'{i}', title=f'Distribution of {i} by Book')\n",
    "#     fig.write_image(f'./stats-by-book/Dist{i}ByBook.png')"
   ]
  },
  {
   "cell_type": "code",
   "execution_count": 16,
   "id": "7e77a2f5",
   "metadata": {},
   "outputs": [],
   "source": [
    "# heroes.to_csv('heroes_table.csv')"
   ]
  },
  {
   "cell_type": "markdown",
   "id": "0e51026c",
   "metadata": {},
   "source": [
    "##### Day 6\n",
    "Time to add rarities as a column"
   ]
  },
  {
   "cell_type": "code",
   "execution_count": 2,
   "id": "db36603d",
   "metadata": {},
   "outputs": [
    {
     "data": {
      "text/html": [
       "<div>\n",
       "<style scoped>\n",
       "    .dataframe tbody tr th:only-of-type {\n",
       "        vertical-align: middle;\n",
       "    }\n",
       "\n",
       "    .dataframe tbody tr th {\n",
       "        vertical-align: top;\n",
       "    }\n",
       "\n",
       "    .dataframe thead th {\n",
       "        text-align: right;\n",
       "    }\n",
       "</style>\n",
       "<table border=\"1\" class=\"dataframe\">\n",
       "  <thead>\n",
       "    <tr style=\"text-align: right;\">\n",
       "      <th></th>\n",
       "      <th>Hero</th>\n",
       "      <th>Entry</th>\n",
       "      <th>Move</th>\n",
       "      <th>Weapon</th>\n",
       "      <th>HP</th>\n",
       "      <th>Atk</th>\n",
       "      <th>Spd</th>\n",
       "      <th>Def</th>\n",
       "      <th>Res</th>\n",
       "      <th>Total</th>\n",
       "      <th>Color</th>\n",
       "      <th>Version</th>\n",
       "      <th>Book</th>\n",
       "    </tr>\n",
       "  </thead>\n",
       "  <tbody>\n",
       "    <tr>\n",
       "      <th>0</th>\n",
       "      <td>Abel: The Panther</td>\n",
       "      <td>Shadow Dragon / (New) Mystery</td>\n",
       "      <td>Cavalry</td>\n",
       "      <td>Blue Lance</td>\n",
       "      <td>39</td>\n",
       "      <td>33</td>\n",
       "      <td>32</td>\n",
       "      <td>25</td>\n",
       "      <td>25</td>\n",
       "      <td>154</td>\n",
       "      <td>Blue</td>\n",
       "      <td>1.0</td>\n",
       "      <td>1</td>\n",
       "    </tr>\n",
       "    <tr>\n",
       "      <th>1</th>\n",
       "      <td>Aelfric: Custodian Monk</td>\n",
       "      <td>Three Houses</td>\n",
       "      <td>Infantry</td>\n",
       "      <td>Red Tome</td>\n",
       "      <td>43</td>\n",
       "      <td>40</td>\n",
       "      <td>31</td>\n",
       "      <td>20</td>\n",
       "      <td>37</td>\n",
       "      <td>171</td>\n",
       "      <td>Red</td>\n",
       "      <td>5.9</td>\n",
       "      <td>5</td>\n",
       "    </tr>\n",
       "    <tr>\n",
       "      <th>2</th>\n",
       "      <td>Alcryst: Tender Archer</td>\n",
       "      <td>Engage</td>\n",
       "      <td>Infantry</td>\n",
       "      <td>Colorless Bow</td>\n",
       "      <td>39</td>\n",
       "      <td>43</td>\n",
       "      <td>46</td>\n",
       "      <td>30</td>\n",
       "      <td>24</td>\n",
       "      <td>182</td>\n",
       "      <td>Colorless</td>\n",
       "      <td>7.7</td>\n",
       "      <td>7</td>\n",
       "    </tr>\n",
       "    <tr>\n",
       "      <th>3</th>\n",
       "      <td>Alcryst: Tender Groom</td>\n",
       "      <td>Engage</td>\n",
       "      <td>Infantry</td>\n",
       "      <td>Red Bow</td>\n",
       "      <td>40</td>\n",
       "      <td>44</td>\n",
       "      <td>46</td>\n",
       "      <td>35</td>\n",
       "      <td>23</td>\n",
       "      <td>188</td>\n",
       "      <td>Red</td>\n",
       "      <td>8.5</td>\n",
       "      <td>8</td>\n",
       "    </tr>\n",
       "    <tr>\n",
       "      <th>4</th>\n",
       "      <td>Alear: Awoken Divinity</td>\n",
       "      <td>Engage</td>\n",
       "      <td>Infantry</td>\n",
       "      <td>Green Breath</td>\n",
       "      <td>40</td>\n",
       "      <td>41</td>\n",
       "      <td>47</td>\n",
       "      <td>33</td>\n",
       "      <td>37</td>\n",
       "      <td>198</td>\n",
       "      <td>Green</td>\n",
       "      <td>7.8</td>\n",
       "      <td>7</td>\n",
       "    </tr>\n",
       "  </tbody>\n",
       "</table>\n",
       "</div>"
      ],
      "text/plain": [
       "                      Hero                          Entry      Move  \\\n",
       "0        Abel: The Panther  Shadow Dragon / (New) Mystery   Cavalry   \n",
       "1  Aelfric: Custodian Monk                   Three Houses  Infantry   \n",
       "2   Alcryst: Tender Archer                         Engage  Infantry   \n",
       "3    Alcryst: Tender Groom                         Engage  Infantry   \n",
       "4   Alear: Awoken Divinity                         Engage  Infantry   \n",
       "\n",
       "          Weapon  HP  Atk  Spd  Def  Res  Total      Color  Version  Book  \n",
       "0     Blue Lance  39   33   32   25   25    154       Blue      1.0     1  \n",
       "1       Red Tome  43   40   31   20   37    171        Red      5.9     5  \n",
       "2  Colorless Bow  39   43   46   30   24    182  Colorless      7.7     7  \n",
       "3        Red Bow  40   44   46   35   23    188        Red      8.5     8  \n",
       "4   Green Breath  40   41   47   33   37    198      Green      7.8     7  "
      ]
     },
     "execution_count": 2,
     "metadata": {},
     "output_type": "execute_result"
    }
   ],
   "source": [
    "heroes_table = pd.read_csv('heroes_table.csv').drop(columns=['Unnamed: 0'])\n",
    "heroes_table.head()"
   ]
  },
  {
   "cell_type": "code",
   "execution_count": 9,
   "id": "69ad451e",
   "metadata": {},
   "outputs": [
    {
     "data": {
      "text/plain": [
       "'AbelThePanther'"
      ]
     },
     "execution_count": 9,
     "metadata": {},
     "output_type": "execute_result"
    }
   ],
   "source": [
    "name = heroes_table['Hero'].iloc[0].split(' ')\n",
    "for i in range(len(name)):\n",
    "    name[i] = name[i].strip('\\\":')\n",
    "name = ''.join(name)\n",
    "name"
   ]
  },
  {
   "cell_type": "markdown",
   "id": "73c5f9ab",
   "metadata": {},
   "source": [
    "##### Day 7"
   ]
  },
  {
   "cell_type": "code",
   "execution_count": 5,
   "id": "3cba0bbc",
   "metadata": {},
   "outputs": [],
   "source": [
    "# BST and stats over time"
   ]
  },
  {
   "cell_type": "code",
   "execution_count": 7,
   "id": "93066058",
   "metadata": {},
   "outputs": [],
   "source": [
    "# my dumbass just realized i need to add the release dates for all heroes before i can do this. WAIT BOOKS\n",
    "# VERSIONS"
   ]
  },
  {
   "cell_type": "code",
   "execution_count": 11,
   "id": "9c1795b8",
   "metadata": {},
   "outputs": [
    {
     "data": {
      "application/vnd.plotly.v1+json": {
       "config": {
        "plotlyServerURL": "https://plot.ly"
       },
       "data": [
        {
         "hovertemplate": "Book=%{x}<br>Total=%{y}<extra></extra>",
         "legendgroup": "",
         "marker": {
          "color": "#636efa",
          "symbol": "circle"
         },
         "mode": "markers",
         "name": "",
         "showlegend": false,
         "type": "scattergl",
         "x": {
          "bdata": "AQUHCAcHBwgJCQkIBAgBAgUHAQMECQMEBQMICAEHAQcEBwQFBwQBAgUHCAYBBgYBBQcGBwgFBQQGCAcDBQEJBgYCAQkHAQUCBgEBCAMCBQMBBAEGBwUDAQMEBQcIBQEJAQcBCAYDBAYJBAMDBwQHCAMGAwYFBwYIBAUBAQcFAQMIAQICAwYBAwIJAQIICAUIBgYEBQEDAgcGAQMEBwECCAQJBgIHCAYDAQUGAQcIBAEGBgcCAgEJBwEIAQEECQcFAwYIAQYDBAUCAQEHAwcEBggEBQICAgEBBQEHBgMJAwcHBgUIBAMJBQgGBgEBBgMJBAgHBAgEBQQGCQMFBwECAQgEBQcHAwEFAwYHAwkJBAQFCAYDCAEHCQgGAwQCBgMCCQUIAQUHCQUBBAQIBgYHAgEGBwMBCQcBAwIBAwcHCQgGBAgECAMCAQIDBwQFBQEEBgQCBwMJBAUBAwYJBwUBBAcHCAEDBQcIBwQFAgQDBAEHAwgFAwIHBAcGBAcCCAMGAQgJCQcIBAMIAQEIBQQHBQcBAQQGBgQCBQQEAwEHAwICBwcICAYBCQcBBgMJCQkEBwgHBwMCAwEFBgYBAwYEAQcHBQIGBwEICAQGBwIDAQICCQcHCAkEAgMFAQYBBwUGBQMGBAECBQMHAQYICQgJAggDCQMGBAMGBAYDBQgBBgkIAwIBBAYEAwcFBAUIAQIFCQEHBgIDBAgHAQQBAQECCAkBBgkEBAYBBAkDBAEFBAIIBQMFAgcBAggGAgIICAEGBwYCBQECAwUHBAYHBAMBAgUFBAQDBQcICAYDAgUHBAEDBgUDAgMDBAIJCQgHCAkEBQYDAQgIAwIBBQIDBgQJCQQCCQMIAQcBAQgFCAMEBgIFBQIGBAUFAwYCCAEFBAYGBwECBQgCBwgCAQYIAQMCCAEJBAMFCAcBCAYBAggBBwEHAwMBAQgHCAEEBQYGAQEDAQIECQIECAUCBgYEBAYHAQkJBQQGBQYEAwEHBgUIBQICAwkHBwgCAQECBAkIBQQBAQYIBgkEAwUEBAEICAgGBAECCAQIAgMFAgYBBwkEAgQEAQUECAYFBgEDBgYDBQUCAggGBwUGBAcIAgYCBQUDAwYJAwgIAwQGAwYFAgQBBQQBBggJBAgBAwgIBwgICQgFBgYBAgQIBgIGAgYGAQkHBAIBBwcICQIJBQMFAQEJBgUEAQEIBQECAQECCAECAgcFBQEECQUCBgMBBQQJCAgDBwcFAwUFBwQDAQgIAwQGAwQHCQUGAQMEAgkEAQMFCAQBBwEGBQgHAwgBAgYDAgkGBwUEBgYGAwYEBwcIBQQIAgYCAgEHAQEGCAEDBQgFAwYDAQECBAkDAgEDAgEJCAIGAQcBAwkBBQYCAQcFBwUEBwYHBQcIBQgBBQQGAQkEAwQFAQQBBgEFCAQHBQUBBAgBAgEIBgcHBgcJAQIEBQICAwMEBQEIBwIDBAIDAgUFBwYBBQEGAwYHAQcIBgIFAwQBAQMBAgUCBwQIBwcBAgICBwEIBQIJBwYBBQMEBQMJAgcBBQkCCAMIBgUDAwQGAgcBCQYEAgEBAwgHCAkGAQMBCAQEBwcEBQgBAwcJCQgDCAEHBQUDBQIEBgMIBwkHCAUBBQUCBwUDAQIJBgEBAQQGCQcDCAYDAgYHCAgJCAMFBwgFCQIHBQcBBAQI",
          "dtype": "i1"
         },
         "xaxis": "x",
         "y": {
          "bdata": "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",
          "dtype": "i2"
         },
         "yaxis": "y"
        },
        {
         "hovertemplate": "<b>OLS trendline</b><br>Total = 5.06599 * Book + 146.871<br>R<sup>2</sup>=0.704680<br><br>Book=%{x}<br>Total=%{y} <b>(trend)</b><extra></extra>",
         "legendgroup": "",
         "marker": {
          "color": "#636efa",
          "symbol": "circle"
         },
         "mode": "lines",
         "name": "",
         "showlegend": false,
         "type": "scattergl",
         "x": {
          "bdata": "AQEBAQEBAQEBAQEBAQEBAQEBAQEBAQEBAQEBAQEBAQEBAQEBAQEBAQEBAQEBAQEBAQEBAQEBAQEBAQEBAQEBAQEBAQEBAQEBAQEBAQEBAQEBAQEBAQEBAQEBAQEBAQEBAQEBAQEBAQEBAQEBAQEBAQEBAQEBAQEBAQEBAQEBAQEBAQEBAQEBAQEBAQEBAQEBAQEBAQEBAQEBAQEBAQEBAQEBAQEBAQEBAQEBAQEBAQEBAQEBAQEBAQEBAQEBAQICAgICAgICAgICAgICAgICAgICAgICAgICAgICAgICAgICAgICAgICAgICAgICAgICAgICAgICAgICAgICAgICAgICAgICAgICAgICAgICAgICAgICAgICAgICAgICAgICAgICAgICAgICAgICAgICAgICAgICAgICAgICAgMDAwMDAwMDAwMDAwMDAwMDAwMDAwMDAwMDAwMDAwMDAwMDAwMDAwMDAwMDAwMDAwMDAwMDAwMDAwMDAwMDAwMDAwMDAwMDAwMDAwMDAwMDAwMDAwMDAwMDAwMDAwMDAwMDAwMDAwMDAwMDAwMDAwMDAwMDAwMDAwMDAwMDAwMDAwMDAwMDAwMDBAQEBAQEBAQEBAQEBAQEBAQEBAQEBAQEBAQEBAQEBAQEBAQEBAQEBAQEBAQEBAQEBAQEBAQEBAQEBAQEBAQEBAQEBAQEBAQEBAQEBAQEBAQEBAQEBAQEBAQEBAQEBAQEBAQEBAQEBAQEBAQEBAQEBAQEBAQEBAQEBAQEBAQEBAQEBAQEBAQEBAQEBAQFBQUFBQUFBQUFBQUFBQUFBQUFBQUFBQUFBQUFBQUFBQUFBQUFBQUFBQUFBQUFBQUFBQUFBQUFBQUFBQUFBQUFBQUFBQUFBQUFBQUFBQUFBQUFBQUFBQUFBQUFBQUFBQUFBQUFBQUFBQUFBQUFBQUFBQUFBQUFBQUFBQUFBQUFBQUFBQUFBQUFBQUFBQUFBQUGBgYGBgYGBgYGBgYGBgYGBgYGBgYGBgYGBgYGBgYGBgYGBgYGBgYGBgYGBgYGBgYGBgYGBgYGBgYGBgYGBgYGBgYGBgYGBgYGBgYGBgYGBgYGBgYGBgYGBgYGBgYGBgYGBgYGBgYGBgYGBgYGBgYGBgYGBgYGBgYGBgYGBgYGBgYGBgYGBgYGBgYGBgYGBgYHBwcHBwcHBwcHBwcHBwcHBwcHBwcHBwcHBwcHBwcHBwcHBwcHBwcHBwcHBwcHBwcHBwcHBwcHBwcHBwcHBwcHBwcHBwcHBwcHBwcHBwcHBwcHBwcHBwcHBwcHBwcHBwcHBwcHBwcHBwcHBwcHBwcHBwcHBwcHBwcHBwcHBwcHBwcHBwcHBwcHBwcHBwcHBwcHBwcICAgICAgICAgICAgICAgICAgICAgICAgICAgICAgICAgICAgICAgICAgICAgICAgICAgICAgICAgICAgICAgICAgICAgICAgICAgICAgICAgICAgICAgICAgICAgICAgICAgICAgICAgICAgICAgICAgICAgICAgICAgICAgICAgICAgICAgICAgICAgICAgICQkJCQkJCQkJCQkJCQkJCQkJCQkJCQkJCQkJCQkJCQkJCQkJCQkJCQkJCQkJCQkJCQkJCQkJCQkJCQkJCQkJCQkJCQkJCQkJCQkJCQkJCQkJCQkJ",
          "dtype": "i1"
         },
         "xaxis": "x",
         "y": {
          "bdata": "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",
          "dtype": "f8"
         },
         "yaxis": "y"
        }
       ],
       "layout": {
        "legend": {
         "tracegroupgap": 0
        },
        "margin": {
         "t": 60
        },
        "template": {
         "data": {
          "bar": [
           {
            "error_x": {
             "color": "#2a3f5f"
            },
            "error_y": {
             "color": "#2a3f5f"
            },
            "marker": {
             "line": {
              "color": "#E5ECF6",
              "width": 0.5
             },
             "pattern": {
              "fillmode": "overlay",
              "size": 10,
              "solidity": 0.2
             }
            },
            "type": "bar"
           }
          ],
          "barpolar": [
           {
            "marker": {
             "line": {
              "color": "#E5ECF6",
              "width": 0.5
             },
             "pattern": {
              "fillmode": "overlay",
              "size": 10,
              "solidity": 0.2
             }
            },
            "type": "barpolar"
           }
          ],
          "carpet": [
           {
            "aaxis": {
             "endlinecolor": "#2a3f5f",
             "gridcolor": "white",
             "linecolor": "white",
             "minorgridcolor": "white",
             "startlinecolor": "#2a3f5f"
            },
            "baxis": {
             "endlinecolor": "#2a3f5f",
             "gridcolor": "white",
             "linecolor": "white",
             "minorgridcolor": "white",
             "startlinecolor": "#2a3f5f"
            },
            "type": "carpet"
           }
          ],
          "choropleth": [
           {
            "colorbar": {
             "outlinewidth": 0,
             "ticks": ""
            },
            "type": "choropleth"
           }
          ],
          "contour": [
           {
            "colorbar": {
             "outlinewidth": 0,
             "ticks": ""
            },
            "colorscale": [
             [
              0,
              "#0d0887"
             ],
             [
              0.1111111111111111,
              "#46039f"
             ],
             [
              0.2222222222222222,
              "#7201a8"
             ],
             [
              0.3333333333333333,
              "#9c179e"
             ],
             [
              0.4444444444444444,
              "#bd3786"
             ],
             [
              0.5555555555555556,
              "#d8576b"
             ],
             [
              0.6666666666666666,
              "#ed7953"
             ],
             [
              0.7777777777777778,
              "#fb9f3a"
             ],
             [
              0.8888888888888888,
              "#fdca26"
             ],
             [
              1,
              "#f0f921"
             ]
            ],
            "type": "contour"
           }
          ],
          "contourcarpet": [
           {
            "colorbar": {
             "outlinewidth": 0,
             "ticks": ""
            },
            "type": "contourcarpet"
           }
          ],
          "heatmap": [
           {
            "colorbar": {
             "outlinewidth": 0,
             "ticks": ""
            },
            "colorscale": [
             [
              0,
              "#0d0887"
             ],
             [
              0.1111111111111111,
              "#46039f"
             ],
             [
              0.2222222222222222,
              "#7201a8"
             ],
             [
              0.3333333333333333,
              "#9c179e"
             ],
             [
              0.4444444444444444,
              "#bd3786"
             ],
             [
              0.5555555555555556,
              "#d8576b"
             ],
             [
              0.6666666666666666,
              "#ed7953"
             ],
             [
              0.7777777777777778,
              "#fb9f3a"
             ],
             [
              0.8888888888888888,
              "#fdca26"
             ],
             [
              1,
              "#f0f921"
             ]
            ],
            "type": "heatmap"
           }
          ],
          "histogram": [
           {
            "marker": {
             "pattern": {
              "fillmode": "overlay",
              "size": 10,
              "solidity": 0.2
             }
            },
            "type": "histogram"
           }
          ],
          "histogram2d": [
           {
            "colorbar": {
             "outlinewidth": 0,
             "ticks": ""
            },
            "colorscale": [
             [
              0,
              "#0d0887"
             ],
             [
              0.1111111111111111,
              "#46039f"
             ],
             [
              0.2222222222222222,
              "#7201a8"
             ],
             [
              0.3333333333333333,
              "#9c179e"
             ],
             [
              0.4444444444444444,
              "#bd3786"
             ],
             [
              0.5555555555555556,
              "#d8576b"
             ],
             [
              0.6666666666666666,
              "#ed7953"
             ],
             [
              0.7777777777777778,
              "#fb9f3a"
             ],
             [
              0.8888888888888888,
              "#fdca26"
             ],
             [
              1,
              "#f0f921"
             ]
            ],
            "type": "histogram2d"
           }
          ],
          "histogram2dcontour": [
           {
            "colorbar": {
             "outlinewidth": 0,
             "ticks": ""
            },
            "colorscale": [
             [
              0,
              "#0d0887"
             ],
             [
              0.1111111111111111,
              "#46039f"
             ],
             [
              0.2222222222222222,
              "#7201a8"
             ],
             [
              0.3333333333333333,
              "#9c179e"
             ],
             [
              0.4444444444444444,
              "#bd3786"
             ],
             [
              0.5555555555555556,
              "#d8576b"
             ],
             [
              0.6666666666666666,
              "#ed7953"
             ],
             [
              0.7777777777777778,
              "#fb9f3a"
             ],
             [
              0.8888888888888888,
              "#fdca26"
             ],
             [
              1,
              "#f0f921"
             ]
            ],
            "type": "histogram2dcontour"
           }
          ],
          "mesh3d": [
           {
            "colorbar": {
             "outlinewidth": 0,
             "ticks": ""
            },
            "type": "mesh3d"
           }
          ],
          "parcoords": [
           {
            "line": {
             "colorbar": {
              "outlinewidth": 0,
              "ticks": ""
             }
            },
            "type": "parcoords"
           }
          ],
          "pie": [
           {
            "automargin": true,
            "type": "pie"
           }
          ],
          "scatter": [
           {
            "fillpattern": {
             "fillmode": "overlay",
             "size": 10,
             "solidity": 0.2
            },
            "type": "scatter"
           }
          ],
          "scatter3d": [
           {
            "line": {
             "colorbar": {
              "outlinewidth": 0,
              "ticks": ""
             }
            },
            "marker": {
             "colorbar": {
              "outlinewidth": 0,
              "ticks": ""
             }
            },
            "type": "scatter3d"
           }
          ],
          "scattercarpet": [
           {
            "marker": {
             "colorbar": {
              "outlinewidth": 0,
              "ticks": ""
             }
            },
            "type": "scattercarpet"
           }
          ],
          "scattergeo": [
           {
            "marker": {
             "colorbar": {
              "outlinewidth": 0,
              "ticks": ""
             }
            },
            "type": "scattergeo"
           }
          ],
          "scattergl": [
           {
            "marker": {
             "colorbar": {
              "outlinewidth": 0,
              "ticks": ""
             }
            },
            "type": "scattergl"
           }
          ],
          "scattermap": [
           {
            "marker": {
             "colorbar": {
              "outlinewidth": 0,
              "ticks": ""
             }
            },
            "type": "scattermap"
           }
          ],
          "scattermapbox": [
           {
            "marker": {
             "colorbar": {
              "outlinewidth": 0,
              "ticks": ""
             }
            },
            "type": "scattermapbox"
           }
          ],
          "scatterpolar": [
           {
            "marker": {
             "colorbar": {
              "outlinewidth": 0,
              "ticks": ""
             }
            },
            "type": "scatterpolar"
           }
          ],
          "scatterpolargl": [
           {
            "marker": {
             "colorbar": {
              "outlinewidth": 0,
              "ticks": ""
             }
            },
            "type": "scatterpolargl"
           }
          ],
          "scatterternary": [
           {
            "marker": {
             "colorbar": {
              "outlinewidth": 0,
              "ticks": ""
             }
            },
            "type": "scatterternary"
           }
          ],
          "surface": [
           {
            "colorbar": {
             "outlinewidth": 0,
             "ticks": ""
            },
            "colorscale": [
             [
              0,
              "#0d0887"
             ],
             [
              0.1111111111111111,
              "#46039f"
             ],
             [
              0.2222222222222222,
              "#7201a8"
             ],
             [
              0.3333333333333333,
              "#9c179e"
             ],
             [
              0.4444444444444444,
              "#bd3786"
             ],
             [
              0.5555555555555556,
              "#d8576b"
             ],
             [
              0.6666666666666666,
              "#ed7953"
             ],
             [
              0.7777777777777778,
              "#fb9f3a"
             ],
             [
              0.8888888888888888,
              "#fdca26"
             ],
             [
              1,
              "#f0f921"
             ]
            ],
            "type": "surface"
           }
          ],
          "table": [
           {
            "cells": {
             "fill": {
              "color": "#EBF0F8"
             },
             "line": {
              "color": "white"
             }
            },
            "header": {
             "fill": {
              "color": "#C8D4E3"
             },
             "line": {
              "color": "white"
             }
            },
            "type": "table"
           }
          ]
         },
         "layout": {
          "annotationdefaults": {
           "arrowcolor": "#2a3f5f",
           "arrowhead": 0,
           "arrowwidth": 1
          },
          "autotypenumbers": "strict",
          "coloraxis": {
           "colorbar": {
            "outlinewidth": 0,
            "ticks": ""
           }
          },
          "colorscale": {
           "diverging": [
            [
             0,
             "#8e0152"
            ],
            [
             0.1,
             "#c51b7d"
            ],
            [
             0.2,
             "#de77ae"
            ],
            [
             0.3,
             "#f1b6da"
            ],
            [
             0.4,
             "#fde0ef"
            ],
            [
             0.5,
             "#f7f7f7"
            ],
            [
             0.6,
             "#e6f5d0"
            ],
            [
             0.7,
             "#b8e186"
            ],
            [
             0.8,
             "#7fbc41"
            ],
            [
             0.9,
             "#4d9221"
            ],
            [
             1,
             "#276419"
            ]
           ],
           "sequential": [
            [
             0,
             "#0d0887"
            ],
            [
             0.1111111111111111,
             "#46039f"
            ],
            [
             0.2222222222222222,
             "#7201a8"
            ],
            [
             0.3333333333333333,
             "#9c179e"
            ],
            [
             0.4444444444444444,
             "#bd3786"
            ],
            [
             0.5555555555555556,
             "#d8576b"
            ],
            [
             0.6666666666666666,
             "#ed7953"
            ],
            [
             0.7777777777777778,
             "#fb9f3a"
            ],
            [
             0.8888888888888888,
             "#fdca26"
            ],
            [
             1,
             "#f0f921"
            ]
           ],
           "sequentialminus": [
            [
             0,
             "#0d0887"
            ],
            [
             0.1111111111111111,
             "#46039f"
            ],
            [
             0.2222222222222222,
             "#7201a8"
            ],
            [
             0.3333333333333333,
             "#9c179e"
            ],
            [
             0.4444444444444444,
             "#bd3786"
            ],
            [
             0.5555555555555556,
             "#d8576b"
            ],
            [
             0.6666666666666666,
             "#ed7953"
            ],
            [
             0.7777777777777778,
             "#fb9f3a"
            ],
            [
             0.8888888888888888,
             "#fdca26"
            ],
            [
             1,
             "#f0f921"
            ]
           ]
          },
          "colorway": [
           "#636efa",
           "#EF553B",
           "#00cc96",
           "#ab63fa",
           "#FFA15A",
           "#19d3f3",
           "#FF6692",
           "#B6E880",
           "#FF97FF",
           "#FECB52"
          ],
          "font": {
           "color": "#2a3f5f"
          },
          "geo": {
           "bgcolor": "white",
           "lakecolor": "white",
           "landcolor": "#E5ECF6",
           "showlakes": true,
           "showland": true,
           "subunitcolor": "white"
          },
          "hoverlabel": {
           "align": "left"
          },
          "hovermode": "closest",
          "mapbox": {
           "style": "light"
          },
          "paper_bgcolor": "white",
          "plot_bgcolor": "#E5ECF6",
          "polar": {
           "angularaxis": {
            "gridcolor": "white",
            "linecolor": "white",
            "ticks": ""
           },
           "bgcolor": "#E5ECF6",
           "radialaxis": {
            "gridcolor": "white",
            "linecolor": "white",
            "ticks": ""
           }
          },
          "scene": {
           "xaxis": {
            "backgroundcolor": "#E5ECF6",
            "gridcolor": "white",
            "gridwidth": 2,
            "linecolor": "white",
            "showbackground": true,
            "ticks": "",
            "zerolinecolor": "white"
           },
           "yaxis": {
            "backgroundcolor": "#E5ECF6",
            "gridcolor": "white",
            "gridwidth": 2,
            "linecolor": "white",
            "showbackground": true,
            "ticks": "",
            "zerolinecolor": "white"
           },
           "zaxis": {
            "backgroundcolor": "#E5ECF6",
            "gridcolor": "white",
            "gridwidth": 2,
            "linecolor": "white",
            "showbackground": true,
            "ticks": "",
            "zerolinecolor": "white"
           }
          },
          "shapedefaults": {
           "line": {
            "color": "#2a3f5f"
           }
          },
          "ternary": {
           "aaxis": {
            "gridcolor": "white",
            "linecolor": "white",
            "ticks": ""
           },
           "baxis": {
            "gridcolor": "white",
            "linecolor": "white",
            "ticks": ""
           },
           "bgcolor": "#E5ECF6",
           "caxis": {
            "gridcolor": "white",
            "linecolor": "white",
            "ticks": ""
           }
          },
          "title": {
           "x": 0.05
          },
          "xaxis": {
           "automargin": true,
           "gridcolor": "white",
           "linecolor": "white",
           "ticks": "",
           "title": {
            "standoff": 15
           },
           "zerolinecolor": "white",
           "zerolinewidth": 2
          },
          "yaxis": {
           "automargin": true,
           "gridcolor": "white",
           "linecolor": "white",
           "ticks": "",
           "title": {
            "standoff": 15
           },
           "zerolinecolor": "white",
           "zerolinewidth": 2
          }
         }
        },
        "xaxis": {
         "anchor": "y",
         "domain": [
          0,
          1
         ],
         "title": {
          "text": "Book"
         }
        },
        "yaxis": {
         "anchor": "x",
         "domain": [
          0,
          1
         ],
         "title": {
          "text": "Total"
         }
        }
       }
      }
     },
     "metadata": {},
     "output_type": "display_data"
    }
   ],
   "source": [
    "px.scatter(heroes_table, x=\"Book\", y=\"Total\", trendline='ols')"
   ]
  },
  {
   "cell_type": "code",
   "execution_count": 12,
   "id": "fe81cfbb",
   "metadata": {},
   "outputs": [
    {
     "data": {
      "application/vnd.plotly.v1+json": {
       "config": {
        "plotlyServerURL": "https://plot.ly"
       },
       "data": [
        {
         "hovertemplate": "Book=%{x}<br>Spd=%{y}<extra></extra>",
         "legendgroup": "",
         "marker": {
          "color": "#636efa",
          "symbol": "circle"
         },
         "mode": "markers",
         "name": "",
         "showlegend": false,
         "type": "scattergl",
         "x": {
          "bdata": "AQUHCAcHBwgJCQkIBAgBAgUHAQMECQMEBQMICAEHAQcEBwQFBwQBAgUHCAYBBgYBBQcGBwgFBQQGCAcDBQEJBgYCAQkHAQUCBgEBCAMCBQMBBAEGBwUDAQMEBQcIBQEJAQcBCAYDBAYJBAMDBwQHCAMGAwYFBwYIBAUBAQcFAQMIAQICAwYBAwIJAQIICAUIBgYEBQEDAgcGAQMEBwECCAQJBgIHCAYDAQUGAQcIBAEGBgcCAgEJBwEIAQEECQcFAwYIAQYDBAUCAQEHAwcEBggEBQICAgEBBQEHBgMJAwcHBgUIBAMJBQgGBgEBBgMJBAgHBAgEBQQGCQMFBwECAQgEBQcHAwEFAwYHAwkJBAQFCAYDCAEHCQgGAwQCBgMCCQUIAQUHCQUBBAQIBgYHAgEGBwMBCQcBAwIBAwcHCQgGBAgECAMCAQIDBwQFBQEEBgQCBwMJBAUBAwYJBwUBBAcHCAEDBQcIBwQFAgQDBAEHAwgFAwIHBAcGBAcCCAMGAQgJCQcIBAMIAQEIBQQHBQcBAQQGBgQCBQQEAwEHAwICBwcICAYBCQcBBgMJCQkEBwgHBwMCAwEFBgYBAwYEAQcHBQIGBwEICAQGBwIDAQICCQcHCAkEAgMFAQYBBwUGBQMGBAECBQMHAQYICQgJAggDCQMGBAMGBAYDBQgBBgkIAwIBBAYEAwcFBAUIAQIFCQEHBgIDBAgHAQQBAQECCAkBBgkEBAYBBAkDBAEFBAIIBQMFAgcBAggGAgIICAEGBwYCBQECAwUHBAYHBAMBAgUFBAQDBQcICAYDAgUHBAEDBgUDAgMDBAIJCQgHCAkEBQYDAQgIAwIBBQIDBgQJCQQCCQMIAQcBAQgFCAMEBgIFBQIGBAUFAwYCCAEFBAYGBwECBQgCBwgCAQYIAQMCCAEJBAMFCAcBCAYBAggBBwEHAwMBAQgHCAEEBQYGAQEDAQIECQIECAUCBgYEBAYHAQkJBQQGBQYEAwEHBgUIBQICAwkHBwgCAQECBAkIBQQBAQYIBgkEAwUEBAEICAgGBAECCAQIAgMFAgYBBwkEAgQEAQUECAYFBgEDBgYDBQUCAggGBwUGBAcIAgYCBQUDAwYJAwgIAwQGAwYFAgQBBQQBBggJBAgBAwgIBwgICQgFBgYBAgQIBgIGAgYGAQkHBAIBBwcICQIJBQMFAQEJBgUEAQEIBQECAQECCAECAgcFBQEECQUCBgMBBQQJCAgDBwcFAwUFBwQDAQgIAwQGAwQHCQUGAQMEAgkEAQMFCAQBBwEGBQgHAwgBAgYDAgkGBwUEBgYGAwYEBwcIBQQIAgYCAgEHAQEGCAEDBQgFAwYDAQECBAkDAgEDAgEJCAIGAQcBAwkBBQYCAQcFBwUEBwYHBQcIBQgBBQQGAQkEAwQFAQQBBgEFCAQHBQUBBAgBAgEIBgcHBgcJAQIEBQICAwMEBQEIBwIDBAIDAgUFBwYBBQEGAwYHAQcIBgIFAwQBAQMBAgUCBwQIBwcBAgICBwEIBQIJBwYBBQMEBQMJAgcBBQkCCAMIBgUDAwQGAgcBCQYEAgEBAwgHCAkGAQMBCAQEBwcEBQgBAwcJCQgDCAEHBQUDBQIEBgMIBwkHCAUBBQUCBwUDAQIJBgEBAQQGCQcDCAYDAgYHCAgJCAMFBwgFCQIHBQcBBAQI",
          "dtype": "i1"
         },
         "xaxis": "x",
         "y": {
          "bdata": "IB8uLi8uLS4vLhIvERAZIRkZHiMoLyUZEhQQLiIsJi4oLygnFyQQHhskLSkdExsfKhMbLi8pJxUaEBAkKSYSJREiJTAuGicjJyIhLiMdGBwgGhkhHBcXFhEmKC8wGxcQIiwbIiQgGyMwKB8YJiosEigrJispLysvKiolJSwbIBcuIB4jJRMZIyQwIR0kLCQnKyspKSIkIy0ZGRcnLiEjLiYvKicsLx8lICkUGSgvGhkbKi4THCAuGyQuISIoMC8pJSouGSkWFygmIyMrIBcmFS4oJiMlHiAiKCIuLSUvJSwuKikvIBkRERQnIBwiKCEwDiYkIy4kKCkoLx0mHx0ZFyQkIykrHSASFRMjJB8REBEOEREeLhYrFBAtJSQjKhcnMCovIysuMB0YGiYvIygtIyQoLyUgLy4iIiAeIy4tMC8sIhkXER4bGRsXECMpJx4jJikiKCEVIxwcGicvHyYZFy0tLyUlJS4wLSMaISYlKSQuIi8pIx8uGS0pGxoXFRYrGy8vEA8tGhQuHxkcKywQEB4kJRYpHiYWEREjGBkoJBkiFR8iLiMZEA4gJRISEhsoLS8vLyUhJRgSGSsYGRgoJC4nGhwsIBYWLSEXLxYaGBUXERAtEBApEhISIhsWHygrJiUZGxgjKCMuICkvMDAwERsTJyAqGxoaGiglJi4cKi8SJh4fKh4gFy8oKigtISUmLyIuKyQkHiIZISUYFx8gLBIgGi8oGysjJxEcGBojJhsuJiQnFS0gIi8pIiEuLSMqLyooKyIkGBgfISgrFBYhJSAlKCgnGy8vHxoiHyYsGxklEykjJBAeEh8pMC8tLDAoKignGh4RJSYjKSYWKykwGx0jGxUbGx8WHionLyYpECUoHiAdHhkoGRYeIxkVKSsXLSQjGR8hKxEeGRkuIyIjHicwHyIqLi0kLyokIzAkHx4gJBUWHC0rLiAiJCQsIyImJSQqMCQQEBIVFSolJyguHykwKxgqKSsqKSItKCAoKSEkJjAbIRQkIiQkJTAvKykgIiASEhMhHhkjKSAuLy8rKSgiLxQQHBwfFB4aIC8eIBElISYSEhEjKBwiKx0YEREiHi4oFxAaGRAQGRkXGSsmJB8bExESGSkrJSopIiIdIColKi4vFy8jJBAvLy8vEBEoKyEiJyMrKSUrISgpITAvKSYkLi0vLyQcJyQoIBskKSgjGiAvJiIUISIiLSIjISQYHCIkHxElKiIfFR8SKCkiLC0kIicoLSQlIS0vJiUqJRISEBEoHSMUHRsjHSUcLiMjLSIoKC8tFS0XFyoiIhESEBIbKicZISknLR4vFREtGCwjIh0jHSIQLiIkKC4jHyomIh8TFSMnIiMkJyEuHx4mIi0iIC8eJCQeGhglLCUoLh4uJx4dEi4jJyUpGC8RJicVHyQfJiUoLyguKCojJC8gJBkvKiwtKSwwHSUqKx4jJCYSFyAlHxgXFiQlIxQYICkfFxMTISIiISIvKSEqJykaIyYiJxARIyMtLSwjIiMiLiEuKSQvLyokKCQlIiMvEiwiKS8jLyMvEBMnHx4sJRoeMBsqIxceIi8uLi8qIiEbLRomLi4oKS8gIi4VJSEZER8rGiglJiQTLSQQHhweGigfKx4bIioiFxEeKRgcHiIkLighLSokJhoSEC4wLxsrLyQPLyEQGSwQEyoS",
          "dtype": "i1"
         },
         "yaxis": "y"
        },
        {
         "hovertemplate": "<b>OLS trendline</b><br>Spd = 1.07331 * Book + 29.1387<br>R<sup>2</sup>=0.091208<br><br>Book=%{x}<br>Spd=%{y} <b>(trend)</b><extra></extra>",
         "legendgroup": "",
         "marker": {
          "color": "#636efa",
          "symbol": "circle"
         },
         "mode": "lines",
         "name": "",
         "showlegend": false,
         "type": "scattergl",
         "x": {
          "bdata": "AQEBAQEBAQEBAQEBAQEBAQEBAQEBAQEBAQEBAQEBAQEBAQEBAQEBAQEBAQEBAQEBAQEBAQEBAQEBAQEBAQEBAQEBAQEBAQEBAQEBAQEBAQEBAQEBAQEBAQEBAQEBAQEBAQEBAQEBAQEBAQEBAQEBAQEBAQEBAQEBAQEBAQEBAQEBAQEBAQEBAQEBAQEBAQEBAQEBAQEBAQEBAQEBAQEBAQEBAQEBAQEBAQEBAQEBAQEBAQEBAQEBAQEBAQEBAQICAgICAgICAgICAgICAgICAgICAgICAgICAgICAgICAgICAgICAgICAgICAgICAgICAgICAgICAgICAgICAgICAgICAgICAgICAgICAgICAgICAgICAgICAgICAgICAgICAgICAgICAgICAgICAgICAgICAgICAgICAgICAgMDAwMDAwMDAwMDAwMDAwMDAwMDAwMDAwMDAwMDAwMDAwMDAwMDAwMDAwMDAwMDAwMDAwMDAwMDAwMDAwMDAwMDAwMDAwMDAwMDAwMDAwMDAwMDAwMDAwMDAwMDAwMDAwMDAwMDAwMDAwMDAwMDAwMDAwMDAwMDAwMDAwMDAwMDAwMDAwMDAwMDBAQEBAQEBAQEBAQEBAQEBAQEBAQEBAQEBAQEBAQEBAQEBAQEBAQEBAQEBAQEBAQEBAQEBAQEBAQEBAQEBAQEBAQEBAQEBAQEBAQEBAQEBAQEBAQEBAQEBAQEBAQEBAQEBAQEBAQEBAQEBAQEBAQEBAQEBAQEBAQEBAQEBAQEBAQEBAQEBAQEBAQEBAQFBQUFBQUFBQUFBQUFBQUFBQUFBQUFBQUFBQUFBQUFBQUFBQUFBQUFBQUFBQUFBQUFBQUFBQUFBQUFBQUFBQUFBQUFBQUFBQUFBQUFBQUFBQUFBQUFBQUFBQUFBQUFBQUFBQUFBQUFBQUFBQUFBQUFBQUFBQUFBQUFBQUFBQUFBQUFBQUFBQUFBQUFBQUFBQUGBgYGBgYGBgYGBgYGBgYGBgYGBgYGBgYGBgYGBgYGBgYGBgYGBgYGBgYGBgYGBgYGBgYGBgYGBgYGBgYGBgYGBgYGBgYGBgYGBgYGBgYGBgYGBgYGBgYGBgYGBgYGBgYGBgYGBgYGBgYGBgYGBgYGBgYGBgYGBgYGBgYGBgYGBgYGBgYGBgYGBgYGBgYGBgYHBwcHBwcHBwcHBwcHBwcHBwcHBwcHBwcHBwcHBwcHBwcHBwcHBwcHBwcHBwcHBwcHBwcHBwcHBwcHBwcHBwcHBwcHBwcHBwcHBwcHBwcHBwcHBwcHBwcHBwcHBwcHBwcHBwcHBwcHBwcHBwcHBwcHBwcHBwcHBwcHBwcHBwcHBwcHBwcHBwcHBwcHBwcHBwcHBwcICAgICAgICAgICAgICAgICAgICAgICAgICAgICAgICAgICAgICAgICAgICAgICAgICAgICAgICAgICAgICAgICAgICAgICAgICAgICAgICAgICAgICAgICAgICAgICAgICAgICAgICAgICAgICAgICAgICAgICAgICAgICAgICAgICAgICAgICAgICAgICAgICQkJCQkJCQkJCQkJCQkJCQkJCQkJCQkJCQkJCQkJCQkJCQkJCQkJCQkJCQkJCQkJCQkJCQkJCQkJCQkJCQkJCQkJCQkJCQkJCQkJCQkJCQkJCQkJ",
          "dtype": "i1"
         },
         "xaxis": "x",
         "y": {
          "bdata": "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",
          "dtype": "f8"
         },
         "yaxis": "y"
        }
       ],
       "layout": {
        "legend": {
         "tracegroupgap": 0
        },
        "margin": {
         "t": 60
        },
        "template": {
         "data": {
          "bar": [
           {
            "error_x": {
             "color": "#2a3f5f"
            },
            "error_y": {
             "color": "#2a3f5f"
            },
            "marker": {
             "line": {
              "color": "#E5ECF6",
              "width": 0.5
             },
             "pattern": {
              "fillmode": "overlay",
              "size": 10,
              "solidity": 0.2
             }
            },
            "type": "bar"
           }
          ],
          "barpolar": [
           {
            "marker": {
             "line": {
              "color": "#E5ECF6",
              "width": 0.5
             },
             "pattern": {
              "fillmode": "overlay",
              "size": 10,
              "solidity": 0.2
             }
            },
            "type": "barpolar"
           }
          ],
          "carpet": [
           {
            "aaxis": {
             "endlinecolor": "#2a3f5f",
             "gridcolor": "white",
             "linecolor": "white",
             "minorgridcolor": "white",
             "startlinecolor": "#2a3f5f"
            },
            "baxis": {
             "endlinecolor": "#2a3f5f",
             "gridcolor": "white",
             "linecolor": "white",
             "minorgridcolor": "white",
             "startlinecolor": "#2a3f5f"
            },
            "type": "carpet"
           }
          ],
          "choropleth": [
           {
            "colorbar": {
             "outlinewidth": 0,
             "ticks": ""
            },
            "type": "choropleth"
           }
          ],
          "contour": [
           {
            "colorbar": {
             "outlinewidth": 0,
             "ticks": ""
            },
            "colorscale": [
             [
              0,
              "#0d0887"
             ],
             [
              0.1111111111111111,
              "#46039f"
             ],
             [
              0.2222222222222222,
              "#7201a8"
             ],
             [
              0.3333333333333333,
              "#9c179e"
             ],
             [
              0.4444444444444444,
              "#bd3786"
             ],
             [
              0.5555555555555556,
              "#d8576b"
             ],
             [
              0.6666666666666666,
              "#ed7953"
             ],
             [
              0.7777777777777778,
              "#fb9f3a"
             ],
             [
              0.8888888888888888,
              "#fdca26"
             ],
             [
              1,
              "#f0f921"
             ]
            ],
            "type": "contour"
           }
          ],
          "contourcarpet": [
           {
            "colorbar": {
             "outlinewidth": 0,
             "ticks": ""
            },
            "type": "contourcarpet"
           }
          ],
          "heatmap": [
           {
            "colorbar": {
             "outlinewidth": 0,
             "ticks": ""
            },
            "colorscale": [
             [
              0,
              "#0d0887"
             ],
             [
              0.1111111111111111,
              "#46039f"
             ],
             [
              0.2222222222222222,
              "#7201a8"
             ],
             [
              0.3333333333333333,
              "#9c179e"
             ],
             [
              0.4444444444444444,
              "#bd3786"
             ],
             [
              0.5555555555555556,
              "#d8576b"
             ],
             [
              0.6666666666666666,
              "#ed7953"
             ],
             [
              0.7777777777777778,
              "#fb9f3a"
             ],
             [
              0.8888888888888888,
              "#fdca26"
             ],
             [
              1,
              "#f0f921"
             ]
            ],
            "type": "heatmap"
           }
          ],
          "histogram": [
           {
            "marker": {
             "pattern": {
              "fillmode": "overlay",
              "size": 10,
              "solidity": 0.2
             }
            },
            "type": "histogram"
           }
          ],
          "histogram2d": [
           {
            "colorbar": {
             "outlinewidth": 0,
             "ticks": ""
            },
            "colorscale": [
             [
              0,
              "#0d0887"
             ],
             [
              0.1111111111111111,
              "#46039f"
             ],
             [
              0.2222222222222222,
              "#7201a8"
             ],
             [
              0.3333333333333333,
              "#9c179e"
             ],
             [
              0.4444444444444444,
              "#bd3786"
             ],
             [
              0.5555555555555556,
              "#d8576b"
             ],
             [
              0.6666666666666666,
              "#ed7953"
             ],
             [
              0.7777777777777778,
              "#fb9f3a"
             ],
             [
              0.8888888888888888,
              "#fdca26"
             ],
             [
              1,
              "#f0f921"
             ]
            ],
            "type": "histogram2d"
           }
          ],
          "histogram2dcontour": [
           {
            "colorbar": {
             "outlinewidth": 0,
             "ticks": ""
            },
            "colorscale": [
             [
              0,
              "#0d0887"
             ],
             [
              0.1111111111111111,
              "#46039f"
             ],
             [
              0.2222222222222222,
              "#7201a8"
             ],
             [
              0.3333333333333333,
              "#9c179e"
             ],
             [
              0.4444444444444444,
              "#bd3786"
             ],
             [
              0.5555555555555556,
              "#d8576b"
             ],
             [
              0.6666666666666666,
              "#ed7953"
             ],
             [
              0.7777777777777778,
              "#fb9f3a"
             ],
             [
              0.8888888888888888,
              "#fdca26"
             ],
             [
              1,
              "#f0f921"
             ]
            ],
            "type": "histogram2dcontour"
           }
          ],
          "mesh3d": [
           {
            "colorbar": {
             "outlinewidth": 0,
             "ticks": ""
            },
            "type": "mesh3d"
           }
          ],
          "parcoords": [
           {
            "line": {
             "colorbar": {
              "outlinewidth": 0,
              "ticks": ""
             }
            },
            "type": "parcoords"
           }
          ],
          "pie": [
           {
            "automargin": true,
            "type": "pie"
           }
          ],
          "scatter": [
           {
            "fillpattern": {
             "fillmode": "overlay",
             "size": 10,
             "solidity": 0.2
            },
            "type": "scatter"
           }
          ],
          "scatter3d": [
           {
            "line": {
             "colorbar": {
              "outlinewidth": 0,
              "ticks": ""
             }
            },
            "marker": {
             "colorbar": {
              "outlinewidth": 0,
              "ticks": ""
             }
            },
            "type": "scatter3d"
           }
          ],
          "scattercarpet": [
           {
            "marker": {
             "colorbar": {
              "outlinewidth": 0,
              "ticks": ""
             }
            },
            "type": "scattercarpet"
           }
          ],
          "scattergeo": [
           {
            "marker": {
             "colorbar": {
              "outlinewidth": 0,
              "ticks": ""
             }
            },
            "type": "scattergeo"
           }
          ],
          "scattergl": [
           {
            "marker": {
             "colorbar": {
              "outlinewidth": 0,
              "ticks": ""
             }
            },
            "type": "scattergl"
           }
          ],
          "scattermap": [
           {
            "marker": {
             "colorbar": {
              "outlinewidth": 0,
              "ticks": ""
             }
            },
            "type": "scattermap"
           }
          ],
          "scattermapbox": [
           {
            "marker": {
             "colorbar": {
              "outlinewidth": 0,
              "ticks": ""
             }
            },
            "type": "scattermapbox"
           }
          ],
          "scatterpolar": [
           {
            "marker": {
             "colorbar": {
              "outlinewidth": 0,
              "ticks": ""
             }
            },
            "type": "scatterpolar"
           }
          ],
          "scatterpolargl": [
           {
            "marker": {
             "colorbar": {
              "outlinewidth": 0,
              "ticks": ""
             }
            },
            "type": "scatterpolargl"
           }
          ],
          "scatterternary": [
           {
            "marker": {
             "colorbar": {
              "outlinewidth": 0,
              "ticks": ""
             }
            },
            "type": "scatterternary"
           }
          ],
          "surface": [
           {
            "colorbar": {
             "outlinewidth": 0,
             "ticks": ""
            },
            "colorscale": [
             [
              0,
              "#0d0887"
             ],
             [
              0.1111111111111111,
              "#46039f"
             ],
             [
              0.2222222222222222,
              "#7201a8"
             ],
             [
              0.3333333333333333,
              "#9c179e"
             ],
             [
              0.4444444444444444,
              "#bd3786"
             ],
             [
              0.5555555555555556,
              "#d8576b"
             ],
             [
              0.6666666666666666,
              "#ed7953"
             ],
             [
              0.7777777777777778,
              "#fb9f3a"
             ],
             [
              0.8888888888888888,
              "#fdca26"
             ],
             [
              1,
              "#f0f921"
             ]
            ],
            "type": "surface"
           }
          ],
          "table": [
           {
            "cells": {
             "fill": {
              "color": "#EBF0F8"
             },
             "line": {
              "color": "white"
             }
            },
            "header": {
             "fill": {
              "color": "#C8D4E3"
             },
             "line": {
              "color": "white"
             }
            },
            "type": "table"
           }
          ]
         },
         "layout": {
          "annotationdefaults": {
           "arrowcolor": "#2a3f5f",
           "arrowhead": 0,
           "arrowwidth": 1
          },
          "autotypenumbers": "strict",
          "coloraxis": {
           "colorbar": {
            "outlinewidth": 0,
            "ticks": ""
           }
          },
          "colorscale": {
           "diverging": [
            [
             0,
             "#8e0152"
            ],
            [
             0.1,
             "#c51b7d"
            ],
            [
             0.2,
             "#de77ae"
            ],
            [
             0.3,
             "#f1b6da"
            ],
            [
             0.4,
             "#fde0ef"
            ],
            [
             0.5,
             "#f7f7f7"
            ],
            [
             0.6,
             "#e6f5d0"
            ],
            [
             0.7,
             "#b8e186"
            ],
            [
             0.8,
             "#7fbc41"
            ],
            [
             0.9,
             "#4d9221"
            ],
            [
             1,
             "#276419"
            ]
           ],
           "sequential": [
            [
             0,
             "#0d0887"
            ],
            [
             0.1111111111111111,
             "#46039f"
            ],
            [
             0.2222222222222222,
             "#7201a8"
            ],
            [
             0.3333333333333333,
             "#9c179e"
            ],
            [
             0.4444444444444444,
             "#bd3786"
            ],
            [
             0.5555555555555556,
             "#d8576b"
            ],
            [
             0.6666666666666666,
             "#ed7953"
            ],
            [
             0.7777777777777778,
             "#fb9f3a"
            ],
            [
             0.8888888888888888,
             "#fdca26"
            ],
            [
             1,
             "#f0f921"
            ]
           ],
           "sequentialminus": [
            [
             0,
             "#0d0887"
            ],
            [
             0.1111111111111111,
             "#46039f"
            ],
            [
             0.2222222222222222,
             "#7201a8"
            ],
            [
             0.3333333333333333,
             "#9c179e"
            ],
            [
             0.4444444444444444,
             "#bd3786"
            ],
            [
             0.5555555555555556,
             "#d8576b"
            ],
            [
             0.6666666666666666,
             "#ed7953"
            ],
            [
             0.7777777777777778,
             "#fb9f3a"
            ],
            [
             0.8888888888888888,
             "#fdca26"
            ],
            [
             1,
             "#f0f921"
            ]
           ]
          },
          "colorway": [
           "#636efa",
           "#EF553B",
           "#00cc96",
           "#ab63fa",
           "#FFA15A",
           "#19d3f3",
           "#FF6692",
           "#B6E880",
           "#FF97FF",
           "#FECB52"
          ],
          "font": {
           "color": "#2a3f5f"
          },
          "geo": {
           "bgcolor": "white",
           "lakecolor": "white",
           "landcolor": "#E5ECF6",
           "showlakes": true,
           "showland": true,
           "subunitcolor": "white"
          },
          "hoverlabel": {
           "align": "left"
          },
          "hovermode": "closest",
          "mapbox": {
           "style": "light"
          },
          "paper_bgcolor": "white",
          "plot_bgcolor": "#E5ECF6",
          "polar": {
           "angularaxis": {
            "gridcolor": "white",
            "linecolor": "white",
            "ticks": ""
           },
           "bgcolor": "#E5ECF6",
           "radialaxis": {
            "gridcolor": "white",
            "linecolor": "white",
            "ticks": ""
           }
          },
          "scene": {
           "xaxis": {
            "backgroundcolor": "#E5ECF6",
            "gridcolor": "white",
            "gridwidth": 2,
            "linecolor": "white",
            "showbackground": true,
            "ticks": "",
            "zerolinecolor": "white"
           },
           "yaxis": {
            "backgroundcolor": "#E5ECF6",
            "gridcolor": "white",
            "gridwidth": 2,
            "linecolor": "white",
            "showbackground": true,
            "ticks": "",
            "zerolinecolor": "white"
           },
           "zaxis": {
            "backgroundcolor": "#E5ECF6",
            "gridcolor": "white",
            "gridwidth": 2,
            "linecolor": "white",
            "showbackground": true,
            "ticks": "",
            "zerolinecolor": "white"
           }
          },
          "shapedefaults": {
           "line": {
            "color": "#2a3f5f"
           }
          },
          "ternary": {
           "aaxis": {
            "gridcolor": "white",
            "linecolor": "white",
            "ticks": ""
           },
           "baxis": {
            "gridcolor": "white",
            "linecolor": "white",
            "ticks": ""
           },
           "bgcolor": "#E5ECF6",
           "caxis": {
            "gridcolor": "white",
            "linecolor": "white",
            "ticks": ""
           }
          },
          "title": {
           "x": 0.05
          },
          "xaxis": {
           "automargin": true,
           "gridcolor": "white",
           "linecolor": "white",
           "ticks": "",
           "title": {
            "standoff": 15
           },
           "zerolinecolor": "white",
           "zerolinewidth": 2
          },
          "yaxis": {
           "automargin": true,
           "gridcolor": "white",
           "linecolor": "white",
           "ticks": "",
           "title": {
            "standoff": 15
           },
           "zerolinecolor": "white",
           "zerolinewidth": 2
          }
         }
        },
        "xaxis": {
         "anchor": "y",
         "domain": [
          0,
          1
         ],
         "title": {
          "text": "Book"
         }
        },
        "yaxis": {
         "anchor": "x",
         "domain": [
          0,
          1
         ],
         "title": {
          "text": "Spd"
         }
        }
       }
      }
     },
     "metadata": {},
     "output_type": "display_data"
    }
   ],
   "source": [
    "px.scatter(heroes_table, x=\"Book\", y=\"Spd\", trendline='ols')"
   ]
  },
  {
   "cell_type": "code",
   "execution_count": 22,
   "id": "e82b75c7",
   "metadata": {},
   "outputs": [
    {
     "data": {
      "text/html": [
       "<div>\n",
       "<style scoped>\n",
       "    .dataframe tbody tr th:only-of-type {\n",
       "        vertical-align: middle;\n",
       "    }\n",
       "\n",
       "    .dataframe tbody tr th {\n",
       "        vertical-align: top;\n",
       "    }\n",
       "\n",
       "    .dataframe thead th {\n",
       "        text-align: right;\n",
       "    }\n",
       "</style>\n",
       "<table border=\"1\" class=\"dataframe\">\n",
       "  <thead>\n",
       "    <tr style=\"text-align: right;\">\n",
       "      <th></th>\n",
       "      <th>Book</th>\n",
       "      <th>Hero</th>\n",
       "      <th>Entry</th>\n",
       "      <th>Move</th>\n",
       "      <th>Weapon</th>\n",
       "      <th>HP</th>\n",
       "      <th>Atk</th>\n",
       "      <th>Spd</th>\n",
       "      <th>Def</th>\n",
       "      <th>Res</th>\n",
       "      <th>Total</th>\n",
       "      <th>Color</th>\n",
       "      <th>Version</th>\n",
       "    </tr>\n",
       "  </thead>\n",
       "  <tbody>\n",
       "    <tr>\n",
       "      <th>0</th>\n",
       "      <td>1</td>\n",
       "      <td>Zephiel: The Liberator</td>\n",
       "      <td>Thracia 776</td>\n",
       "      <td>Infantry</td>\n",
       "      <td>Red Tome</td>\n",
       "      <td>60</td>\n",
       "      <td>40</td>\n",
       "      <td>40</td>\n",
       "      <td>41</td>\n",
       "      <td>36</td>\n",
       "      <td>173</td>\n",
       "      <td>Red</td>\n",
       "      <td>1.8</td>\n",
       "    </tr>\n",
       "    <tr>\n",
       "      <th>1</th>\n",
       "      <td>2</td>\n",
       "      <td>Zelgius: Jet-Black General</td>\n",
       "      <td>Thracia 776</td>\n",
       "      <td>Infantry</td>\n",
       "      <td>Red Tome</td>\n",
       "      <td>51</td>\n",
       "      <td>41</td>\n",
       "      <td>40</td>\n",
       "      <td>40</td>\n",
       "      <td>38</td>\n",
       "      <td>180</td>\n",
       "      <td>Red</td>\n",
       "      <td>2.9</td>\n",
       "    </tr>\n",
       "    <tr>\n",
       "      <th>2</th>\n",
       "      <td>3</td>\n",
       "      <td>Yune: Chaos Goddess</td>\n",
       "      <td>Three Houses</td>\n",
       "      <td>Infantry</td>\n",
       "      <td>Red Tome</td>\n",
       "      <td>51</td>\n",
       "      <td>41</td>\n",
       "      <td>41</td>\n",
       "      <td>42</td>\n",
       "      <td>41</td>\n",
       "      <td>180</td>\n",
       "      <td>Red</td>\n",
       "      <td>3.9</td>\n",
       "    </tr>\n",
       "    <tr>\n",
       "      <th>3</th>\n",
       "      <td>4</td>\n",
       "      <td>Zihark: Ninja Blademaster</td>\n",
       "      <td>Tokyo Mirage Sessions ♯FE Encore</td>\n",
       "      <td>Infantry</td>\n",
       "      <td>Red Tome</td>\n",
       "      <td>50</td>\n",
       "      <td>45</td>\n",
       "      <td>44</td>\n",
       "      <td>44</td>\n",
       "      <td>41</td>\n",
       "      <td>185</td>\n",
       "      <td>Red</td>\n",
       "      <td>4.9</td>\n",
       "    </tr>\n",
       "    <tr>\n",
       "      <th>4</th>\n",
       "      <td>5</td>\n",
       "      <td>Ótr: Kingsbrother</td>\n",
       "      <td>Three Houses</td>\n",
       "      <td>Infantry</td>\n",
       "      <td>Red Tome</td>\n",
       "      <td>50</td>\n",
       "      <td>45</td>\n",
       "      <td>43</td>\n",
       "      <td>46</td>\n",
       "      <td>42</td>\n",
       "      <td>190</td>\n",
       "      <td>Red</td>\n",
       "      <td>5.9</td>\n",
       "    </tr>\n",
       "    <tr>\n",
       "      <th>5</th>\n",
       "      <td>6</td>\n",
       "      <td>Ymir: Life-Mother</td>\n",
       "      <td>Three Houses</td>\n",
       "      <td>Infantry</td>\n",
       "      <td>Red Tome</td>\n",
       "      <td>50</td>\n",
       "      <td>46</td>\n",
       "      <td>45</td>\n",
       "      <td>44</td>\n",
       "      <td>43</td>\n",
       "      <td>196</td>\n",
       "      <td>Red</td>\n",
       "      <td>6.9</td>\n",
       "    </tr>\n",
       "    <tr>\n",
       "      <th>6</th>\n",
       "      <td>7</td>\n",
       "      <td>Zephia: Scheming Dragon</td>\n",
       "      <td>Three Houses</td>\n",
       "      <td>Infantry</td>\n",
       "      <td>Red Tome</td>\n",
       "      <td>49</td>\n",
       "      <td>47</td>\n",
       "      <td>47</td>\n",
       "      <td>48</td>\n",
       "      <td>47</td>\n",
       "      <td>205</td>\n",
       "      <td>Red</td>\n",
       "      <td>7.9</td>\n",
       "    </tr>\n",
       "    <tr>\n",
       "      <th>7</th>\n",
       "      <td>8</td>\n",
       "      <td>Þjazi: Ruthless Jötun</td>\n",
       "      <td>Three Houses</td>\n",
       "      <td>Infantry</td>\n",
       "      <td>Red Tome</td>\n",
       "      <td>53</td>\n",
       "      <td>50</td>\n",
       "      <td>48</td>\n",
       "      <td>50</td>\n",
       "      <td>48</td>\n",
       "      <td>212</td>\n",
       "      <td>Red</td>\n",
       "      <td>8.9</td>\n",
       "    </tr>\n",
       "    <tr>\n",
       "      <th>8</th>\n",
       "      <td>9</td>\n",
       "      <td>Zelestia: Loving Leader</td>\n",
       "      <td>Three Houses</td>\n",
       "      <td>Infantry</td>\n",
       "      <td>Red Tome</td>\n",
       "      <td>51</td>\n",
       "      <td>50</td>\n",
       "      <td>48</td>\n",
       "      <td>49</td>\n",
       "      <td>50</td>\n",
       "      <td>212</td>\n",
       "      <td>Red</td>\n",
       "      <td>9.5</td>\n",
       "    </tr>\n",
       "  </tbody>\n",
       "</table>\n",
       "</div>"
      ],
      "text/plain": [
       "   Book                        Hero                             Entry  \\\n",
       "0     1      Zephiel: The Liberator                       Thracia 776   \n",
       "1     2  Zelgius: Jet-Black General                       Thracia 776   \n",
       "2     3         Yune: Chaos Goddess                      Three Houses   \n",
       "3     4   Zihark: Ninja Blademaster  Tokyo Mirage Sessions ♯FE Encore   \n",
       "4     5           Ótr: Kingsbrother                      Three Houses   \n",
       "5     6           Ymir: Life-Mother                      Three Houses   \n",
       "6     7     Zephia: Scheming Dragon                      Three Houses   \n",
       "7     8       Þjazi: Ruthless Jötun                      Three Houses   \n",
       "8     9     Zelestia: Loving Leader                      Three Houses   \n",
       "\n",
       "       Move    Weapon  HP  Atk  Spd  Def  Res  Total Color  Version  \n",
       "0  Infantry  Red Tome  60   40   40   41   36    173   Red      1.8  \n",
       "1  Infantry  Red Tome  51   41   40   40   38    180   Red      2.9  \n",
       "2  Infantry  Red Tome  51   41   41   42   41    180   Red      3.9  \n",
       "3  Infantry  Red Tome  50   45   44   44   41    185   Red      4.9  \n",
       "4  Infantry  Red Tome  50   45   43   46   42    190   Red      5.9  \n",
       "5  Infantry  Red Tome  50   46   45   44   43    196   Red      6.9  \n",
       "6  Infantry  Red Tome  49   47   47   48   47    205   Red      7.9  \n",
       "7  Infantry  Red Tome  53   50   48   50   48    212   Red      8.9  \n",
       "8  Infantry  Red Tome  51   50   48   49   50    212   Red      9.5  "
      ]
     },
     "execution_count": 22,
     "metadata": {},
     "output_type": "execute_result"
    }
   ],
   "source": [
    "stats = ['HP', 'Atk', 'Spd', 'Def', 'Res', 'Total']\n",
    "temp = heroes_table.groupby('Book').max().reset_index(drop=False)\n",
    "temp\n",
    "# for i in stats:\n",
    "#     plt = px.scatter(temp, x=\"Book\", y=i, trendline='ols')\n",
    "#     plt.show()"
   ]
  },
  {
   "cell_type": "code",
   "execution_count": 26,
   "id": "c9bcf145",
   "metadata": {},
   "outputs": [
    {
     "data": {
      "text/html": [
       "<div>\n",
       "<style scoped>\n",
       "    .dataframe tbody tr th:only-of-type {\n",
       "        vertical-align: middle;\n",
       "    }\n",
       "\n",
       "    .dataframe tbody tr th {\n",
       "        vertical-align: top;\n",
       "    }\n",
       "\n",
       "    .dataframe thead th {\n",
       "        text-align: right;\n",
       "    }\n",
       "</style>\n",
       "<table border=\"1\" class=\"dataframe\">\n",
       "  <thead>\n",
       "    <tr style=\"text-align: right;\">\n",
       "      <th></th>\n",
       "      <th>Hero</th>\n",
       "      <th>Entry</th>\n",
       "      <th>Move</th>\n",
       "      <th>Weapon</th>\n",
       "      <th>HP</th>\n",
       "      <th>Atk</th>\n",
       "      <th>Spd</th>\n",
       "      <th>Def</th>\n",
       "      <th>Res</th>\n",
       "      <th>Total</th>\n",
       "      <th>Color</th>\n",
       "      <th>Version</th>\n",
       "      <th>Book</th>\n",
       "    </tr>\n",
       "  </thead>\n",
       "  <tbody>\n",
       "    <tr>\n",
       "      <th>38</th>\n",
       "      <td>Arden: Strong and Tough</td>\n",
       "      <td>Genealogy of the Holy War</td>\n",
       "      <td>Armored</td>\n",
       "      <td>Red Sword</td>\n",
       "      <td>60</td>\n",
       "      <td>36</td>\n",
       "      <td>16</td>\n",
       "      <td>41</td>\n",
       "      <td>16</td>\n",
       "      <td>169</td>\n",
       "      <td>Red</td>\n",
       "      <td>1.8</td>\n",
       "      <td>1</td>\n",
       "    </tr>\n",
       "    <tr>\n",
       "      <th>1253</th>\n",
       "      <td>Zephiel: The Liberator</td>\n",
       "      <td>The Binding Blade</td>\n",
       "      <td>Armored</td>\n",
       "      <td>Red Sword</td>\n",
       "      <td>55</td>\n",
       "      <td>35</td>\n",
       "      <td>16</td>\n",
       "      <td>38</td>\n",
       "      <td>24</td>\n",
       "      <td>168</td>\n",
       "      <td>Red</td>\n",
       "      <td>1.2</td>\n",
       "      <td>1</td>\n",
       "    </tr>\n",
       "    <tr>\n",
       "      <th>462</th>\n",
       "      <td>Hector: General of Ostia</td>\n",
       "      <td>The Blazing Blade</td>\n",
       "      <td>Armored</td>\n",
       "      <td>Green Axe</td>\n",
       "      <td>52</td>\n",
       "      <td>36</td>\n",
       "      <td>24</td>\n",
       "      <td>37</td>\n",
       "      <td>19</td>\n",
       "      <td>168</td>\n",
       "      <td>Green</td>\n",
       "      <td>1.0</td>\n",
       "      <td>1</td>\n",
       "    </tr>\n",
       "    <tr>\n",
       "      <th>262</th>\n",
       "      <td>Draug: Gentle Giant</td>\n",
       "      <td>Shadow Dragon / (New) Mystery</td>\n",
       "      <td>Armored</td>\n",
       "      <td>Red Sword</td>\n",
       "      <td>50</td>\n",
       "      <td>30</td>\n",
       "      <td>32</td>\n",
       "      <td>39</td>\n",
       "      <td>18</td>\n",
       "      <td>169</td>\n",
       "      <td>Red</td>\n",
       "      <td>1.0</td>\n",
       "      <td>1</td>\n",
       "    </tr>\n",
       "    <tr>\n",
       "      <th>277</th>\n",
       "      <td>Effie: Army of One</td>\n",
       "      <td>Fates</td>\n",
       "      <td>Armored</td>\n",
       "      <td>Blue Lance</td>\n",
       "      <td>50</td>\n",
       "      <td>40</td>\n",
       "      <td>22</td>\n",
       "      <td>33</td>\n",
       "      <td>23</td>\n",
       "      <td>168</td>\n",
       "      <td>Blue</td>\n",
       "      <td>1.0</td>\n",
       "      <td>1</td>\n",
       "    </tr>\n",
       "    <tr>\n",
       "      <th>...</th>\n",
       "      <td>...</td>\n",
       "      <td>...</td>\n",
       "      <td>...</td>\n",
       "      <td>...</td>\n",
       "      <td>...</td>\n",
       "      <td>...</td>\n",
       "      <td>...</td>\n",
       "      <td>...</td>\n",
       "      <td>...</td>\n",
       "      <td>...</td>\n",
       "      <td>...</td>\n",
       "      <td>...</td>\n",
       "      <td>...</td>\n",
       "    </tr>\n",
       "    <tr>\n",
       "      <th>1025</th>\n",
       "      <td>Sakura: Gentle Nekomata</td>\n",
       "      <td>Fates</td>\n",
       "      <td>Infantry</td>\n",
       "      <td>Colorless Dagger</td>\n",
       "      <td>33</td>\n",
       "      <td>32</td>\n",
       "      <td>34</td>\n",
       "      <td>14</td>\n",
       "      <td>34</td>\n",
       "      <td>147</td>\n",
       "      <td>Colorless</td>\n",
       "      <td>1.8</td>\n",
       "      <td>1</td>\n",
       "    </tr>\n",
       "    <tr>\n",
       "      <th>1056</th>\n",
       "      <td>Serra: Outspoken Cleric</td>\n",
       "      <td>The Blazing Blade</td>\n",
       "      <td>Infantry</td>\n",
       "      <td>Colorless Staff</td>\n",
       "      <td>33</td>\n",
       "      <td>30</td>\n",
       "      <td>31</td>\n",
       "      <td>21</td>\n",
       "      <td>33</td>\n",
       "      <td>148</td>\n",
       "      <td>Colorless</td>\n",
       "      <td>1.0</td>\n",
       "      <td>1</td>\n",
       "    </tr>\n",
       "    <tr>\n",
       "      <th>412</th>\n",
       "      <td>Genny: Endearing Ally</td>\n",
       "      <td>Echoes</td>\n",
       "      <td>Infantry</td>\n",
       "      <td>Colorless Staff</td>\n",
       "      <td>32</td>\n",
       "      <td>35</td>\n",
       "      <td>25</td>\n",
       "      <td>21</td>\n",
       "      <td>34</td>\n",
       "      <td>147</td>\n",
       "      <td>Colorless</td>\n",
       "      <td>1.3</td>\n",
       "      <td>1</td>\n",
       "    </tr>\n",
       "    <tr>\n",
       "      <th>566</th>\n",
       "      <td>Kagero: Honorable Ninja</td>\n",
       "      <td>Fates</td>\n",
       "      <td>Infantry</td>\n",
       "      <td>Colorless Dagger</td>\n",
       "      <td>31</td>\n",
       "      <td>35</td>\n",
       "      <td>32</td>\n",
       "      <td>22</td>\n",
       "      <td>28</td>\n",
       "      <td>148</td>\n",
       "      <td>Colorless</td>\n",
       "      <td>1.0</td>\n",
       "      <td>1</td>\n",
       "    </tr>\n",
       "    <tr>\n",
       "      <th>308</th>\n",
       "      <td>Elise: Budding Flower</td>\n",
       "      <td>Fates</td>\n",
       "      <td>Cavalry</td>\n",
       "      <td>Colorless Staff</td>\n",
       "      <td>30</td>\n",
       "      <td>32</td>\n",
       "      <td>32</td>\n",
       "      <td>19</td>\n",
       "      <td>32</td>\n",
       "      <td>145</td>\n",
       "      <td>Colorless</td>\n",
       "      <td>1.0</td>\n",
       "      <td>1</td>\n",
       "    </tr>\n",
       "  </tbody>\n",
       "</table>\n",
       "<p>190 rows × 13 columns</p>\n",
       "</div>"
      ],
      "text/plain": [
       "                          Hero                          Entry      Move  \\\n",
       "38     Arden: Strong and Tough      Genealogy of the Holy War   Armored   \n",
       "1253    Zephiel: The Liberator              The Binding Blade   Armored   \n",
       "462   Hector: General of Ostia              The Blazing Blade   Armored   \n",
       "262        Draug: Gentle Giant  Shadow Dragon / (New) Mystery   Armored   \n",
       "277         Effie: Army of One                          Fates   Armored   \n",
       "...                        ...                            ...       ...   \n",
       "1025   Sakura: Gentle Nekomata                          Fates  Infantry   \n",
       "1056   Serra: Outspoken Cleric              The Blazing Blade  Infantry   \n",
       "412      Genny: Endearing Ally                         Echoes  Infantry   \n",
       "566    Kagero: Honorable Ninja                          Fates  Infantry   \n",
       "308      Elise: Budding Flower                          Fates   Cavalry   \n",
       "\n",
       "                Weapon  HP  Atk  Spd  Def  Res  Total      Color  Version  \\\n",
       "38           Red Sword  60   36   16   41   16    169        Red      1.8   \n",
       "1253         Red Sword  55   35   16   38   24    168        Red      1.2   \n",
       "462          Green Axe  52   36   24   37   19    168      Green      1.0   \n",
       "262          Red Sword  50   30   32   39   18    169        Red      1.0   \n",
       "277         Blue Lance  50   40   22   33   23    168       Blue      1.0   \n",
       "...                ...  ..  ...  ...  ...  ...    ...        ...      ...   \n",
       "1025  Colorless Dagger  33   32   34   14   34    147  Colorless      1.8   \n",
       "1056   Colorless Staff  33   30   31   21   33    148  Colorless      1.0   \n",
       "412    Colorless Staff  32   35   25   21   34    147  Colorless      1.3   \n",
       "566   Colorless Dagger  31   35   32   22   28    148  Colorless      1.0   \n",
       "308    Colorless Staff  30   32   32   19   32    145  Colorless      1.0   \n",
       "\n",
       "      Book  \n",
       "38       1  \n",
       "1253     1  \n",
       "462      1  \n",
       "262      1  \n",
       "277      1  \n",
       "...    ...  \n",
       "1025     1  \n",
       "1056     1  \n",
       "412      1  \n",
       "566      1  \n",
       "308      1  \n",
       "\n",
       "[190 rows x 13 columns]"
      ]
     },
     "execution_count": 26,
     "metadata": {},
     "output_type": "execute_result"
    }
   ],
   "source": [
    "arden = heroes_table[heroes_table['Book'] == 1].sort_values(by='HP', ascending=False)\n",
    "arden"
   ]
  },
  {
   "cell_type": "code",
   "execution_count": null,
   "id": "e5cdd65c",
   "metadata": {},
   "outputs": [],
   "source": []
  }
 ],
 "metadata": {
  "kernelspec": {
   "display_name": ".venv (3.12.1)",
   "language": "python",
   "name": "python3"
  },
  "language_info": {
   "codemirror_mode": {
    "name": "ipython",
    "version": 3
   },
   "file_extension": ".py",
   "mimetype": "text/x-python",
   "name": "python",
   "nbconvert_exporter": "python",
   "pygments_lexer": "ipython3",
   "version": "3.12.1"
  }
 },
 "nbformat": 4,
 "nbformat_minor": 5
}
